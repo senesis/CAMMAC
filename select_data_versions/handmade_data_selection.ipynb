{
 "cells": [
  {
   "cell_type": "markdown",
   "metadata": {
    "deletable": true,
    "editable": true
   },
   "source": [
    "# CAMMAC https://cammac.readthedocs.io\n",
    "S.Sénési for Météo-France - sept 2019 to march 2021\n",
    "\n",
    "## Create a basic data versions dictionnary , choosing models \"by hand\"\n",
    "### This does not allow to finely select e.g. realizations per variable. See sibling notebook for a more complete selection of datasets\n",
    "\n",
    "## Also (see bottom)  : create an extract of an existing version dictionnary, by restricting the models list\n"
   ]
  },
  {
   "cell_type": "code",
   "execution_count": null,
   "metadata": {
    "collapsed": true,
    "deletable": true,
    "editable": true
   },
   "outputs": [],
   "source": [
    "import sys\n",
    "import json\n",
    "\n"
   ]
  },
  {
   "cell_type": "code",
   "execution_count": null,
   "metadata": {
    "collapsed": true,
    "deletable": true,
    "editable": true
   },
   "outputs": [],
   "source": [
    "from IPython.core.display import display, HTML, Image\n",
    "display(HTML(\"<style>.container { width:100% !important; }</style>\"))"
   ]
  },
  {
   "cell_type": "markdown",
   "metadata": {
    "deletable": true,
    "editable": true
   },
   "source": [
    "## Tell preferences on some facets, per model (here, we assume this has not to depend on variable)"
   ]
  },
  {
   "cell_type": "code",
   "execution_count": null,
   "metadata": {
    "collapsed": true,
    "deletable": true,
    "editable": true
   },
   "outputs": [],
   "source": [
    "preferred_grids={ \"GFDL-CM4\":\"gr1\"}\n",
    "preferred_variants={ }\n",
    "preferred_versions={ }"
   ]
  },
  {
   "cell_type": "markdown",
   "metadata": {
    "deletable": true,
    "editable": true
   },
   "source": [
    "## Tell which is period is covered by piControl, for each model to use (here, we assume this has not to depend on variable)\n",
    "### One can use CliMAF dataset's method 'explore' for investigating which periods are available"
   ]
  },
  {
   "cell_type": "code",
   "execution_count": null,
   "metadata": {
    "collapsed": true,
    "deletable": true,
    "editable": true
   },
   "outputs": [],
   "source": [
    "piControl_period={\n",
    "    \"CESM2-WACCM\":\"0001-0499\",\n",
    "    \"CNRM-ESM2-1\":\"1850-2349\",\n",
    "    \"GFDL-ESM4\":\"0001-0500\",\n",
    "    \"IPSL-CM6A-LR\" : \"1850-3049\", \n",
    "    \"GFDL-CM4\":\"0151-0650\",\n",
    "}"
   ]
  },
  {
   "cell_type": "markdown",
   "metadata": {
    "deletable": true,
    "editable": true
   },
   "source": [
    "## A function for creating a dict of basic values for facets : grid, variant, version,period for a list of models"
   ]
  },
  {
   "cell_type": "code",
   "execution_count": null,
   "metadata": {
    "collapsed": true,
    "deletable": true,
    "editable": true
   },
   "outputs": [],
   "source": [
    "def basic_data_versions(variable,models) :\n",
    "    variables=[variable]\n",
    "    experiments=[\"historical\",\"ssp126\",\"ssp245\",\"ssp585\"]\n",
    "    #\n",
    "    data_versions=dict()\n",
    "    for model in models :\n",
    "        grid=preferred_grids.get(model,\"g*\")\n",
    "        variant=preferred_variants.get(model,\"r1i1p1f*\")\n",
    "        version=preferred_versions.get(model,\"latest\")\n",
    "        for variable in variables :\n",
    "            # For SSPs, do not include the period\n",
    "            quadruplet=(grid,variant,version,\"*\")\n",
    "            for exp in experiments :\n",
    "                feed_dic(data_versions,quadruplet,exp,variable,model)\n",
    "            # For piControl, do include the period\n",
    "            quadruplet=(grid,variant,version,piControl_period[model])\n",
    "            feed_dic(data_versions,quadruplet,\"piControl\",variable,model)\n",
    "    return data_versions\n"
   ]
  },
  {
   "cell_type": "code",
   "execution_count": null,
   "metadata": {
    "collapsed": true,
    "deletable": true,
    "editable": true
   },
   "outputs": [],
   "source": [
    "def write_versions_dic(d,tag) :\n",
    "    jsfile=\"Data_versions_selection_%s.json\"%tag\n",
    "    with open(jsfile,\"w\") as f :\n",
    "        json.dump(d,f,separators=(',', ': '),indent=3,ensure_ascii=True)\n",
    "    print \"Data versions dictionnary written as \"+jsfile"
   ]
  },
  {
   "cell_type": "markdown",
   "metadata": {
    "deletable": true,
    "editable": true
   },
   "source": [
    "## Create and write a basic versions dictionnary"
   ]
  },
  {
   "cell_type": "code",
   "execution_count": null,
   "metadata": {
    "collapsed": true,
    "deletable": true,
    "editable": true
   },
   "outputs": [],
   "source": [
    "models=piControl_period.keys()\n",
    "d=basic_data_versions(\"pr\",models)\n",
    "write_versions_dic(d,\"5models\")"
   ]
  },
  {
   "cell_type": "markdown",
   "metadata": {
    "deletable": true,
    "editable": true
   },
   "source": [
    "# Create a dict for reproducing SOD figure 8.18 for evspsbl except for EC-Earth models (which data was retracted)"
   ]
  },
  {
   "cell_type": "code",
   "execution_count": null,
   "metadata": {
    "collapsed": true,
    "deletable": true,
    "editable": true
   },
   "outputs": [],
   "source": [
    "# Use original per experiment dict and merge all models\n",
    "models_to_plot_by_var={\n",
    "    \"ssp585\": [\"BCC-CSM2-MR\", \"CAMS-CSM1-0\",\"CanESM5\", \"CNRM-ESM2-1\",\n",
    "               \"IPSL-CM6A-LR\",\n",
    "               \"MIROC-ES2L\",\"MIROC6\", \"UKESM1-0-LL\",\"MRI-ESM2-0\",\n",
    "               \"CESM2\",\"CESM2-WACCM\", \"GFDL-CM4\",\"GFDL-ESM4\"],\n",
    "    \"ssp245\": [\"BCC-CSM2-MR\", \"CAMS-CSM1-0\",\"CanESM5\", \"CNRM-ESM2-1\",\n",
    "               \"IPSL-CM6A-LR\",\n",
    "               \"MIROC-ES2L\",\"MIROC6\", \"UKESM1-0-LL\",\"MRI-ESM2-0\", \"HadGEM3-GC31-LL\",\n",
    "               \"CESM2\",\"CESM2-WACCM\", \"GFDL-CM4\",\"GFDL-ESM4\"],\n",
    "    \"ssp126\": [\"BCC-CSM2-MR\", \"CAMS-CSM1-0\",\"CanESM5\", \"CNRM-ESM2-1\",\n",
    "               \"IPSL-CM6A-LR\",\n",
    "               \"MIROC-ES2L\",\"MIROC6\",\"UKESM1-0-LL\",\"MRI-ESM2-0\",\n",
    "               \"CESM2\",\"CESM2-WACCM\", \"GFDL-ESM4\"],\n",
    "}\n",
    "# Merge model names across SSPs in all_models\n",
    "ens=set()\n",
    "for e in models_to_plot_by_var :\n",
    "    for m in models_to_plot_by_var[e] :\n",
    "        ens.add(m)\n",
    "all_models=list(ens)\n",
    "all_models.sort()\n",
    "\n",
    "# Read dictionnary used for the february 2019 version of the figure\n",
    "full_dic=read_versions_dictionnary(\"20200219\",\"./\")\n",
    "\n",
    "# Feed a dictionnary with same content, but restricted to models in all_models\n",
    "short_dic=dict()\n",
    "for m in all_models :\n",
    "    for exp in [\"ssp126\",\"ssp245\",\"ssp585\", \"piControl\",\"historical\"] :\n",
    "        try :\n",
    "            feed_dic(short_dic,full_dic[exp][\"evspsbl\"][m],exp,\"evspsbl\",m)\n",
    "        except :\n",
    "            print \"No entry for %s and %s\"%(exp,m)\n",
    "write_versions_dic(short_dic,\"20200219_short_ssp585_evspsbl\")"
   ]
  },
  {
   "cell_type": "code",
   "execution_count": null,
   "metadata": {
    "collapsed": true,
    "deletable": true,
    "editable": true
   },
   "outputs": [],
   "source": []
  }
 ],
 "metadata": {
  "kernelspec": {
   "display_name": "Python 2",
   "language": "python",
   "name": "python2"
  },
  "language_info": {
   "codemirror_mode": {
    "name": "ipython",
    "version": 2
   },
   "file_extension": ".py",
   "mimetype": "text/x-python",
   "name": "python",
   "nbconvert_exporter": "python",
   "pygments_lexer": "ipython2",
   "version": "2.7.15"
  }
 },
 "nbformat": 4,
 "nbformat_minor": 2
}
