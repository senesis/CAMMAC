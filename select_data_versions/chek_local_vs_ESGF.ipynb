{
 "cells": [
  {
   "cell_type": "markdown",
   "metadata": {},
   "source": [
    "# CAMMAC https://cammac.readthedocs.io\n",
    "S.Sénési for Météo-France - sept 2019 to march 2021\n",
    "\n",
    "# Checking local data vs ESGF published data (using a data_versions dict and its ancillary dicts)"
   ]
  },
  {
   "cell_type": "code",
   "execution_count": null,
   "metadata": {},
   "outputs": [],
   "source": [
    "from IPython.core.display import display, HTML, Image\n",
    "display(HTML(\"<style>.container { width:100% !important; }</style>\"))\n",
    "import requests  # use pip or conda to install it if needed\n",
    "import json\n",
    "from climaf import period"
   ]
  },
  {
   "cell_type": "code",
   "execution_count": null,
   "metadata": {},
   "outputs": [],
   "source": [
    "def jrequest(q,node=\"esgf-data.dkrz.de\") :  \n",
    "    #\"esgf-node.ipsl.upmc.fr\"    #\"esgf-data.dkrz.de\"    #\"esgf-node.jpl.nasa.gov\"\n",
    "    form=\"&format=application%2Fsolr%2Bjson\"\n",
    "    reqs=\"http://%s/esg-search/search?%s%s\"%(node,q,form)\n",
    "    #print reqs\n",
    "    return requests.get(reqs).json()"
   ]
  },
  {
   "cell_type": "markdown",
   "metadata": {},
   "source": [
    "## List all models which run an experiment"
   ]
  },
  {
   "cell_type": "code",
   "execution_count": null,
   "metadata": {},
   "outputs": [],
   "source": [
    "def esgf_models_for_experiment(variable,table,experiment=\"piControl\"):\n",
    "    rep=jrequest('distrib=true&experiment_id=%s&variable=%s&table_id=%s&limit=10000&fields=source_id'%(experiment,variable,table))\n",
    "    docs=rep['response']['docs']\n",
    "    models=set()\n",
    "    for e in docs :\n",
    "        models.add(e['source_id'][0])\n",
    "    return sorted(list(models))"
   ]
  },
  {
   "cell_type": "markdown",
   "metadata": {},
   "source": [
    "## Returns published_period(s), for a model, an experiment and a variable"
   ]
  },
  {
   "cell_type": "code",
   "execution_count": null,
   "metadata": {},
   "outputs": [],
   "source": [
    "def published_period(model,experiment,variable,table) :\n",
    "    dic={'distrib'     : 'true',\n",
    "         'limit'       : '10000',\n",
    "         'type'        : 'File',\n",
    "         'fields'      : 'title,instance_id',\n",
    "         'experiment_id':experiment,\n",
    "         'source_id'   : model,\n",
    "         'variable'    : variable,\n",
    "         'table_id'    : table,\n",
    "         'latest'      : 'true',\n",
    "         #'id'     : \"*\"+version+\"*\",\n",
    "         }\n",
    "    #\n",
    "    # Form request string\n",
    "    reqs=\"\"\n",
    "    for k in dic : reqs+=\"%s=%s&\"%(k,dic[k])\n",
    "    reqs=reqs[0:-1]\n",
    "    #\n",
    "    rep=jrequest(reqs)\n",
    "    #return rep\n",
    "    docs=rep['response']['docs']\n",
    "    if len(docs)==0 : \n",
    "        return ([])\n",
    "    #None\n",
    "    #\n",
    "    # Analyze response to gather periods among all files and shards\n",
    "    periods=dict()\n",
    "    for e in docs :\n",
    "        #print \"%-30s %s\"%(e['data_node'],e['title'])\n",
    "        instance_id=e['instance_id'].encode('ascii')\n",
    "        realization=instance_id.split(\".\")[5]\n",
    "        version=instance_id.split(\".\")[9]\n",
    "        #\n",
    "        filename=e['title'].encode('ascii')\n",
    "        #if \"2569\" in filename : print \"got one:\",filename,instance_id\n",
    "        file_period=filename.split(\"_\")[-1].replace(\".nc\",\"\")\n",
    "        if (realization,version) not in periods :\n",
    "            periods[(realization,version)]=set()\n",
    "        periods[(realization,version)].add(file_period)\n",
    "    for pair in periods :\n",
    "        ps=list(periods[pair])\n",
    "        ps.sort()\n",
    "        if len(ps) > 900 : ps=ps[0:900] # Isseu with some models ...\n",
    "        periods[pair]=period.merge_periods([ period.init_period(p) for p in ps ],handle_360_days_year=True)\n",
    "    return periods"
   ]
  },
  {
   "cell_type": "markdown",
   "metadata": {},
   "source": [
    "## Check length of published periods for a variable, an experiment and all models (for all versions/grid/)"
   ]
  },
  {
   "cell_type": "code",
   "execution_count": null,
   "metadata": {},
   "outputs": [],
   "source": [
    "def experiment_length_check(variable,table,experiment=\"piControl\") :\n",
    "    #print variable,table\n",
    "    ok = []\n",
    "    nok=[]\n",
    "    models_ok=dict()\n",
    "    models_nok=dict()\n",
    "    #\n",
    "    if experiment==\"piControl\" :\n",
    "        length=500\n",
    "    elif experiment==\"historical\":\n",
    "        length=165\n",
    "    elif experiment[0:3] ==\"ssp\":\n",
    "        length=86\n",
    "    #\n",
    "    for model in esgf_models_for_experiment(variable,table,experiment) :\n",
    "        periods=published_period(model,experiment,variable,table)\n",
    "        for pair in periods :\n",
    "            for aperiod in periods[pair]:\n",
    "                if aperiod.end.year - aperiod.start.year +1 < length :\n",
    "                    nok.append((model,pair,aperiod))\n",
    "                    if model not in models_nok :\n",
    "                        models_nok[model]=[]\n",
    "                    models_nok[model].append([pair,str(aperiod)])\n",
    "                else :\n",
    "                    ok.append((model,pair,aperiod))\n",
    "                    if model not in models_ok :\n",
    "                        models_ok[model]=[]\n",
    "                    models_ok[model].append([pair,str(aperiod)])\n",
    "    return models_ok,models_nok"
   ]
  },
  {
   "cell_type": "markdown",
   "metadata": {},
   "source": [
    "## Check, for one experiment, if some published data are either uncomplete on ESGF, or missing in a data_versions directory (built from file system content on the local machine)"
   ]
  },
  {
   "cell_type": "code",
   "execution_count": null,
   "metadata": {},
   "outputs": [],
   "source": [
    "def check_versions_dict(experiment,versions_tag,var_tables=None): \n",
    "    print 90*\"_\"\n",
    "    print\n",
    "    print \"Data published for %s vs data on local machine according to data_versions dict %s\"%(experiment,versions_tag)\n",
    "    print 90*\"_\"\n",
    "    oks=dict()\n",
    "    noks=dict()\n",
    "    models_not_recorded=dict()\n",
    "    models_with_holes=dict()\n",
    "    with open(\"Data_versions_selection_%s.json\"%versions_tag,\"r\") as f :\n",
    "        versions_dic=json.load(f)\n",
    "    with open(\"Data_versions_selection_%s_holes.json\"%versions_tag,\"r\") as f :\n",
    "        holes=json.load(f)\n",
    "    with open(\"Data_versions_selection_%s_resolve.json\"%versions_tag,\"r\") as f :\n",
    "        coverage_issues=json.load(f)\n",
    "    for variable in versions_dic[experiment]:\n",
    "        for table in versions_dic[experiment][variable] :\n",
    "            pair=variable+\",\"+table\n",
    "            if var_tables is None or (variable,table) in var_tables :\n",
    "                oks[pair],noks[pair]=experiment_length_check(variable,table,experiment)\n",
    "                print \"\\n\\n\",experiment, variable, table,\" : \", len(oks[pair]),\" models have published data OK, \", len(noks[pair]),\" models have NOK published data\",\n",
    "                count=len([m for m in oks[pair] if m not in versions_dic[experiment][variable][table]])\n",
    "                print \" and %d models have issue on local machine\\n\"%count\n",
    "                for model in noks[pair] :\n",
    "                    count=0\n",
    "                    print \"\\t%-10s %-5s %-20s has NOK published data\"%(variable, table, model), \n",
    "                    for i in noks[pair][model] :\n",
    "                        count+=1\n",
    "                        (r,v),p=i\n",
    "                        if count < 5 :\n",
    "                            print r,p,\", \",\n",
    "                        else:\n",
    "                            print \".\",\n",
    "                    print\n",
    "                print\n",
    "                for model in oks[pair] :\n",
    "                    if model not in versions_dic[experiment][variable][table]:\n",
    "                        (r,v),p=oks[pair][model][0]\n",
    "                        # Check if it is idenitifed as having holes in versions dic companion\n",
    "                        try :\n",
    "                            h=holes[experiment][variable][table][model]\n",
    "                            reals=h[h.keys()[0]]\n",
    "                            version=reals[r]\n",
    "                            print \"\\t%-10s %-5s %-20s has holes on local machine\"%(variable, table, model), oks[pair][model][0]\n",
    "                        except :\n",
    "                            try : \n",
    "                                h=coverage_issues[experiment][variable][table][model]\n",
    "                                reals=h[h.keys()[0]]\n",
    "                                cov_issue=reals[r][v][v]\n",
    "                                print \"\\t%-10s %-5s %-20s  has incomplete_coverage on local machine\"%(variable, table, model), oks[pair][model][0],\" vs. \",cov_issue\n",
    "                            except:\n",
    "                                print \"\\t%-10s %-5s %-20s is missing on local machine\"%(variable, table, model), oks[pair][model]\n",
    "                        if model not in models_not_recorded :\n",
    "                            models_not_recorded[model]=[]\n",
    "                        models_not_recorded[model].append(pair)\n",
    "    #\n",
    "    print \"\\n\\nSummary of variable(s) with issues for \",experiment\n",
    "    for model in models_not_recorded :\n",
    "        print \"\\t%-20s\"%model, \n",
    "        for variable_table in models_not_recorded[model]:\n",
    "            if \"day\" in variable_table : print variable_table,\n",
    "            else: print variable_table.split(\",\")[0],\n",
    "        print\n",
    "    return oks,noks"
   ]
  },
  {
   "cell_type": "code",
   "execution_count": null,
   "metadata": {},
   "outputs": [],
   "source": [
    "if False :\n",
    "    pairs=[(\"pr\",\"Amon\")] \n",
    "    experiment=\"piControl\"\n",
    "    versions_tag=\"20200720\"\n",
    "    a=check_versions_dict(experiment,versions_tag,pairs)"
   ]
  },
  {
   "cell_type": "markdown",
   "metadata": {},
   "source": [
    "## List all kind of consisteny issues between ESGF and local data according to a data_versions dict"
   ]
  },
  {
   "cell_type": "code",
   "execution_count": null,
   "metadata": {},
   "outputs": [],
   "source": [
    "def check_hydro_variables_all_experiments(versions_tag=\"2020918\",date_label=\"20200918\"):\n",
    "    pairs=[(\"tas\",\"Amon\"),(\"pr\",\"Amon\"),(\"evspsbl\",\"Amon\"),(\"prw\",\"Amon\"),(\"mrro\",\"Lmon\"),(\"mrso\",\"Lmon\"),(\"pr\",\"day\")] \n",
    "    experiments=[\"piControl\",\"historical\",\"ssp119\",\"ssp126\",\"ssp245\",\"ssp585\"]\n",
    "    #pairs=[(\"tas\",\"Amon\")]\n",
    "    #experiments=[\"ssp119\"]\n",
    "    #\n",
    "    oksnoks=dict()\n",
    "    for experiment in experiments :\n",
    "        oksnoks[experiment]=check_versions_dict(experiment,versions_tag,pairs)\n",
    "        oksnoksf=\"esgf_vs_local_data_%s_%s_%s.json\"%(experiment,date_label,versions_tag)\n",
    "        with open(oksnoksf,\"w\") as f :\n",
    "            json.dump(oksnoks[experiment],f,separators=(',', ': '),indent=3,ensure_ascii=True)\n",
    "    return oksnoks"
   ]
  },
  {
   "cell_type": "code",
   "execution_count": null,
   "metadata": {
    "scrolled": false
   },
   "outputs": [],
   "source": [
    "on=check_hydro_variables_all_experiments(\"20200719\",\"test\")"
   ]
  },
  {
   "cell_type": "code",
   "execution_count": null,
   "metadata": {
    "scrolled": false
   },
   "outputs": [],
   "source": [
    "on=check_hydro_variables_all_experiments(\"20200913\",\"20200913\")"
   ]
  },
  {
   "cell_type": "code",
   "execution_count": null,
   "metadata": {
    "scrolled": true
   },
   "outputs": [],
   "source": [
    "on=check_hydro_variables_all_experiments(\"20200918\",\"20200918\")"
   ]
  },
  {
   "cell_type": "markdown",
   "metadata": {},
   "source": [
    "## Summarizing missing/uncomplete published variables per model for each experiment (according to ESGF)"
   ]
  },
  {
   "cell_type": "code",
   "execution_count": null,
   "metadata": {},
   "outputs": [],
   "source": [
    "def esgf_missing_variables(oksnoks):\n",
    "    print \"Missing or uncomplete variables on the ESGF (among those scrutinized locally)\"\n",
    "    if type(oksnoks===tuple) :\n",
    "        oksnoks={\"unknown\" :oksnoks}\n",
    "            \n",
    "    for experiment in oksnoks:\n",
    "        print experiment\n",
    "        oks,noks=oksnoks[experiment]\n",
    "        all_models=set()\n",
    "        for pair in oks : \n",
    "            for model in oks[pair]  : all_models.add(model)\n",
    "            for model in noks[pair] : all_models.add(model)\n",
    "        all_models=list(all_models)\n",
    "        all_models.sort()\n",
    "        #\n",
    "        #moks=dict()\n",
    "        #for pair in oks :\n",
    "        #    for model in oks[pair] :\n",
    "        #        if model not in moks : moks[model]=[]\n",
    "        #        moks[model].append(pair)\n",
    "        mnoks=dict()\n",
    "        for pair in noks :\n",
    "            for model in noks[pair] :\n",
    "                if model not in mnoks : mnoks[model]=[]\n",
    "                mnoks[model].append(pair)\n",
    "        for model in all_models :\n",
    "            if model in mnoks :\n",
    "                print \"%-20s \"%model,\n",
    "                for var,tab in mnoks[model] :\n",
    "                    if tab != \"day\" : print var,\n",
    "                    else : print \"%s_%s\"%(var,tab),\n",
    "                print\n",
    "        "
   ]
  },
  {
   "cell_type": "code",
   "execution_count": null,
   "metadata": {},
   "outputs": [],
   "source": [
    "#esgf_missing_variables(on)"
   ]
  },
  {
   "cell_type": "code",
   "execution_count": null,
   "metadata": {
    "scrolled": false
   },
   "outputs": [],
   "source": [
    "models_having_one_missing_var=set()\n",
    "variables=[(\"tas\",\"Amon\"),(\"pr\",\"Amon\"),(\"evspsbl\",\"Amon\"),(\"prw\",\"Amon\"),(\"mrro\",\"Lmon\"),(\"mrso\",\"Lmon\"),(\"pr\",\"day\")] \n",
    "\n",
    "for pair in variables:\n",
    "    variable,table=pair\n",
    "    for model in noks[pair] :\n",
    "        models_having_one_missing_var.add(model)\n",
    "\n",
    "#print \"\\nModels having one + missing var\"\n",
    "#for m in models_having_one_missing_var:\n",
    "#    print \"\\t\",m\n",
    "\n",
    "# listing models which have all vars missing\n",
    "models_having_all_vars_missing=models_having_one_missing_var.copy()\n",
    "for m in models_having_one_missing_var :\n",
    "    for p in oks : \n",
    "        if m in oks[p] :\n",
    "            if m in models_having_all_vars_missing :\n",
    "                models_having_all_vars_missing.remove(m)\n",
    "\n",
    "print \"Models having all vars missing\"\n",
    "for m in models_having_all_vars_missing:\n",
    "    print \"\\t\",m\n",
    "\n",
    "\n",
    "print \"\\nDelta list of models having some vars missing\"\n",
    "for pair in variables:\n",
    "    variable,table=pair\n",
    "    print \"\\n%-10s %4s\"%(variable,table)\n",
    "    for model in noks[pair] :\n",
    "        if model in oks[pair] :\n",
    "            continue\n",
    "        if model in models_having_all_vars_missing :\n",
    "            continue\n",
    "        print \"\\t%-25s\"%model,\n",
    "        for opair,period in noks[pair][model] :\n",
    "            real,version = opair\n",
    "            print real,version,period,\"|\",\n",
    "        print \n",
    "        #models_having_one_missing_var.add(model)\n",
    "\n",
    "\n",
    "        \n",
    "print \"\\nFull list of models having some vars missing\"\n",
    "for pair in variables:\n",
    "    variable,table=pair\n",
    "    print \"\\n%-10s %4s\"%(variable,table)\n",
    "    for model in noks[pair] :\n",
    "        if model in oks[pair] :\n",
    "            continue\n",
    "        print \"\\t%-25s\"%model,\n",
    "        for opair,period in noks[pair][model] :\n",
    "            real,version = opair\n",
    "            print real,version,period,\"|\",\n",
    "        print \n",
    "        #models_having_one_missing_var.add(model)\n",
    "\n",
    "\n",
    "\n",
    "\n",
    "all_models=set()\n",
    "for p in oks : \n",
    "    for m in oks[p] :\n",
    "        all_models.add(m)\n",
    "for p in noks : \n",
    "    for m in noks[p] :\n",
    "        all_models.add(m)\n",
    "\n",
    "    \n"
   ]
  },
  {
   "cell_type": "code",
   "execution_count": null,
   "metadata": {},
   "outputs": [],
   "source": [
    "def check_if_version_is_last_published(model,experiment,variable,table,grid,real,version,distrib=\"true\") :\n",
    "    dic={'distrib'     : distrib,\n",
    "         'limit'       : '10000',\n",
    "         'type'        : 'Dataset',\n",
    "         'fields'      : 'version',\n",
    "         'experiment_id':experiment,\n",
    "         'source_id'   : model,\n",
    "         'variable'    : variable,\n",
    "         'table_id'    : table,\n",
    "         'variant_label': real,\n",
    "         'latest'     : 'true'\n",
    "         }\n",
    "    # Form request string\n",
    "    reqs=\"\"\n",
    "    for k in dic : reqs+=\"%s=%s&\"%(k,dic[k])\n",
    "    reqs=reqs[0:-1]\n",
    "    #\n",
    "    #print reqs\n",
    "    rep=jrequest(reqs)\n",
    "    docs=rep['response']['docs']\n",
    "    if len(docs)==0 : \n",
    "        return None\n",
    "    #\n",
    "    rep=True\n",
    "    for e in docs :\n",
    "        pversion=e['version'].encode('ascii')\n",
    "        if version[0]=='v' : version=version[1:]\n",
    "        if version != pversion: \n",
    "            # Don't worry for out-dated index info\n",
    "            if int(version) < int(pversion) : \n",
    "                rep = pversion\n",
    "    return rep\n"
   ]
  },
  {
   "cell_type": "code",
   "execution_count": null,
   "metadata": {},
   "outputs": [],
   "source": []
  }
 ],
 "metadata": {
  "kernelspec": {
   "display_name": "Python 2",
   "language": "python",
   "name": "python2"
  },
  "language_info": {
   "codemirror_mode": {
    "name": "ipython",
    "version": 2
   },
   "file_extension": ".py",
   "mimetype": "text/x-python",
   "name": "python",
   "nbconvert_exporter": "python",
   "pygments_lexer": "ipython2",
   "version": "2.7.15"
  }
 },
 "nbformat": 4,
 "nbformat_minor": 2
}
