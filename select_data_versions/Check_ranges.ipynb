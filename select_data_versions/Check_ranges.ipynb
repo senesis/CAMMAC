{
 "cells": [
  {
   "cell_type": "markdown",
   "metadata": {},
   "source": [
    "# CAMMAC https://cammac.readthedocs.io\n",
    "S.Sénési for Météo-France - sept 2019 to march 2021\n",
    "\n",
    "\n",
    "# Check ranges for various variables and experiments\n",
    "\n",
    "## Print user-chosen field statistics ot user-chose time statistics for a series of variables and experiments\n",
    "\n",
    "## Parameters stand in first cell, and are either commented here or in the doc (see above)"
   ]
  },
  {
   "cell_type": "code",
   "execution_count": null,
   "metadata": {},
   "outputs": [],
   "source": [
    "from __future__ import print_function"
   ]
  },
  {
   "cell_type": "markdown",
   "metadata": {},
   "source": [
    "##  Define lists of interesting variables and experiments"
   ]
  },
  {
   "cell_type": "code",
   "execution_count": 10,
   "metadata": {
    "tags": [
     "parameters"
    ]
   },
   "outputs": [],
   "source": [
    "project = \"CMIP6\"\n",
    "experiments=[\"historical\",\"ssp126\",\"ssp245\",\"ssp585\",\"ssp119\"]\n",
    "#experiments=[\"piControl\",\"historical\",\"ssp126\",\"ssp245\",\"ssp585\",\"ssp119\"]\n",
    "#experiments=[\"ssp126\"]#,\"ssp245\",\"ssp585\",\"ssp119\"]\n",
    "\n",
    "variables={\n",
    "    \"Amon\": [\"pr\",\"tas\",\"prw\",\"evspsbl\"], \n",
    "    \"Lmon\": [\"mrro\",\"mrso\",\"mrsos\"],\n",
    "    \"Omon\": [\"sos\"],\n",
    "    \"yr\"  : [\"dday\",\"drain\"]\n",
    "    #\"day\" : [\"pr\"]\n",
    "    }\n",
    "\n",
    "# Which field statistics and time statistics should be computed (CDO syntax)\n",
    "fld_stats=[ \"fldpctl,5\", \"fldpctl,50\", \"fldpctl,95\"]\n",
    "tim_stats=[ \"timmean\"]\n",
    "\n",
    "excluded_models     = []\n",
    "included_models     = None   # If this is a list, only listed models will be used\n",
    "\n",
    "data_versions_tag   = \"20200918_plus_derived\"\n",
    "data_versions_dir   = \"/data/ssenesi/CAMMAC/data/select_data_versions\"\n",
    "\n",
    "# Define location of derived variables (yearly stats of daily precip)\n",
    "derived_variables_pattern  = \"/data/ssenesi/CMIP6_derived_variables/${variable}\"\n",
    "derived_variables_pattern += \"/${variable}_${table}_${model}_${experiment}_${realization}_${grid}_${version}_${PERIOD}.nc\"\n",
    "\n",
    "do_test=True"
   ]
  },
  {
   "cell_type": "code",
   "execution_count": 35,
   "metadata": {},
   "outputs": [],
   "source": [
    "if do_test :\n",
    "    if project == \"CMIP6\" : \n",
    "        experiments=[\"historical\",\"ssp126\"]\n",
    "        #experiments=[\"ssp245\"]\n",
    "        #experiments=[\"piControl\"]\n",
    "        #variables={\"Amon\": [\"pr\"]}\n",
    "        #fld_stats=[ \"fldpctl,50\"]\n",
    "        #tim_stats=[ \"timmean\"]\n",
    "        included_models= [\"CNRM-CM6-1\"]\n",
    "    elif project == \"CMIP5\" :\n",
    "        experiments=[\"rcp85\"]\n",
    "        included_models= [\"CNRM-CM5\"]\n",
    "        variables={\"Amon\": [\"tas\" ]}\n",
    "        \n",
    "    else : \n",
    "        raise ValueError(\"Cannot process project \",project)\n",
    "        \n"
   ]
  },
  {
   "cell_type": "code",
   "execution_count": 21,
   "metadata": {},
   "outputs": [
    {
     "data": {
      "text/html": [
       "<style>.container { width:100% !important; }</style>"
      ],
      "text/plain": [
       "<IPython.core.display.HTML object>"
      ]
     },
     "metadata": {},
     "output_type": "display_data"
    }
   ],
   "source": [
    "from IPython.core.display import display, HTML, Image\n",
    "display(HTML(\"<style>.container { width:100% !important; }</style>\"))\n",
    "import requests  # use pip or conda to install it if needed\n",
    "import json\n",
    "import glob\n",
    "import re\n",
    "import os\n",
    "import sys\n",
    "from CAMMAClib.ancillary   import feed_dic, amail\n",
    "from CAMMAClib.mips_et_al import \\\n",
    "     institute_for_model, models_for_experiments, models_for_experiments_multi_var, \\\n",
    "     read_versions_dictionnary\n",
    "from climaf.api import *\n",
    "from climaf.period import firstyears"
   ]
  },
  {
   "cell_type": "code",
   "execution_count": 22,
   "metadata": {},
   "outputs": [],
   "source": [
    "# Load some user settings, if available\n",
    "settings_file=os.getenv(\"CAMMAC_USER_PYTHON_CODE_DIR\",\".\")+'/cammac_user_settings.py'\n",
    "if os.path.exists(settings_file) :\n",
    "    exec(compile(open(settings_file).read(),settings_file,'exec'))"
   ]
  },
  {
   "cell_type": "code",
   "execution_count": 23,
   "metadata": {},
   "outputs": [],
   "source": [
    "def period_of_experiment(experiment,dperiod):\n",
    "    if experiment[0:3]==\"ssp\" : return \"2081-2100\"\n",
    "    if experiment[0:3]==\"rcp\" : return \"2081-2100\"\n",
    "    if experiment==\"historical\": \n",
    "        if project == \"CMIP6\" : return \"1995-2014\"\n",
    "        if project == \"CMIP5\" : return \"1986-2005\"\n",
    "    if experiment==\"piControl\" : return firstyears(dperiod,100)        \n",
    "    raise ValueError(\"Cannot handle exeriment %s\"%experiment)"
   ]
  },
  {
   "cell_type": "code",
   "execution_count": 44,
   "metadata": {},
   "outputs": [
    {
     "name": "stdout",
     "output_type": "stream",
     "text": [
      "rcp85 Amon tas CNRM-CM5 \n"
     ]
    }
   ],
   "source": [
    "data_versions=read_versions_dictionnary(data_versions_tag, data_versions_dir)\n",
    "stats=dict()\n",
    "models=set()\n",
    "deep=False\n",
    "do_print=True\n",
    "# Compute stats and oragnize dict as :\n",
    "#    stats[table][variable][experiment][tsat][fstat][model]\n",
    "missing_sftlf=set()\n",
    "for experiment in experiments :\n",
    "    for table in variables :\n",
    "        for variable in variables[table] :\n",
    "            if do_print :\n",
    "                print(experiment,table,variable,end=' ')\n",
    "            models_variants=models_for_experiments_multi_var(data_versions,[(variable,table)],\n",
    "                                                             [experiment],excluded_models,included_models)\n",
    "            #print table,variable, models_variants\n",
    "            for model,variant in models_variants :\n",
    "                if do_print : print(model,end=' ')\n",
    "                #print experiment,table,variable,model,variant\n",
    "                grid,version,dperiod=data_versions[experiment][variable][table][model][variant]\n",
    "                base_dict=dict(project=project, experiment=experiment,\n",
    "                        model=model, period=period_of_experiment(experiment,dperiod), \n",
    "                        variable=variable, table=table, version=version, realization=variant)\n",
    "                if project == \"CMIP6\":\n",
    "                    base_dict.update(institute=institute_for_model(model),grid=grid)\n",
    "                #\n",
    "                # Compute stats\n",
    "                for fstat in fld_stats :\n",
    "                    for tstat in tim_stats :\n",
    "                        if table != \"Lmon\" :\n",
    "                            sfield=ccdo(ds(**base_dict),operator=\"%s -%s\"%(tstat,fstat))\n",
    "                        else:\n",
    "                            sftlf_dict=base_dict.copy()\n",
    "                            sftlf_dict.update(experiment=\"piControl\", table=\"fx\",period=\"fx\",variable=\"sftlf\")\n",
    "                            sftlf=ds(**sftlf_dict)\n",
    "                            try :\n",
    "                                cfile(sftlf,deep=deep)\n",
    "                                #print sftlf.baseFiles()\n",
    "                                #print ds(**base_dict).baseFiles()\n",
    "                                sfield=ccdo2_flip(ds(**base_dict),sftlf,\n",
    "                                              operator=\"%s -%s -ifthen -setvrange,100,110\"%(tstat,fstat))\n",
    "                            except :\n",
    "                                missing_sftlf.add(model)\n",
    "                                sfield = ccdo(ds(**base_dict),operator=\"%s -%s\"%(tstat,fstat))\n",
    "                        cfile(sfield)\n",
    "                        feed_dic(stats,cvalue(sfield,deep=deep),table,variable,experiment,tstat,fstat,model)\n",
    "                        cdrop(sfield)\n",
    "                models.add(model)\n",
    "            if do_print : print()\n",
    "if len(missing_sftlf) > 0 :\n",
    "    raise ValueError(\"Cannot access sftlf fields for these models :\",repr(missing_sftlf))"
   ]
  },
  {
   "cell_type": "code",
   "execution_count": 51,
   "metadata": {},
   "outputs": [
    {
     "name": "stdout",
     "output_type": "stream",
     "text": [
      "\n",
      " Amon tas timmean\n",
      "--------------------------------------------------\n",
      "                       | rcp85                            \n",
      "                       | fldpctl,5  ldpctl,50  ldpctl,95  \n",
      "CNRM-CM5               |  2.35e+02   2.86e+02   3.04e+02  \n",
      "\n"
     ]
    }
   ],
   "source": [
    "models=list(models)\n",
    "models.sort()\n",
    "for table in sorted(stats.keys()):\n",
    "    for variable in variables[table] :\n",
    "        for tstat in tim_stats:\n",
    "            print(\"\\n\",table,variable,tstat)\n",
    "            print(50*\"-\")\n",
    "            print(\"%21s \"%(21*\" \"),end=' ')\n",
    "            for experiment in experiments :\n",
    "                print (\"|\",end=' ')\n",
    "                print (\"%-10s\"%experiment,end=' ')\n",
    "                for fld_stat in fld_stats[0:-1] :\n",
    "                    print(\"%9s \"%(9*\" \"),end=' ')\n",
    "            print()\n",
    "            print(\"%21s \"%(21*\" \"),end=' ')\n",
    "            for experiment in experiments :\n",
    "                print(\"|\",end=' ')\n",
    "                for fld_stat in fld_stats :\n",
    "                    l=len(fld_stat)\n",
    "                    if l > 9 : f=fld_stat[l-9:]\n",
    "                    else : f=fld_stat\n",
    "                    print(\"%9s \"%f,end=' ')\n",
    "            print()\n",
    "            for model in models :\n",
    "                print(\"%-20s  \"%model,end=' ')\n",
    "                for experiment in experiments :\n",
    "                    print(\"|\",end=' ')\n",
    "                    d=stats[table][variable][experiment][tstat]\n",
    "                    for fld_stat in fld_stats :\n",
    "                        if model in d[fld_stat]:\n",
    "                            print(\"%9.2e \"%d[fld_stat][model],end=' ')\n",
    "                        else:\n",
    "                            print(\"%9s \"%(9*\" \"),end=' ')\n",
    "                print()\n",
    "            print()\n",
    "\n"
   ]
  },
  {
   "cell_type": "code",
   "execution_count": null,
   "metadata": {
    "collapsed": true
   },
   "outputs": [],
   "source": [
    "#stats"
   ]
  },
  {
   "cell_type": "code",
   "execution_count": null,
   "metadata": {
    "collapsed": true
   },
   "outputs": [],
   "source": []
  }
 ],
 "metadata": {
  "kernelspec": {
   "display_name": "Python 3",
   "language": "python",
   "name": "python3"
  },
  "language_info": {
   "codemirror_mode": {
    "name": "ipython",
    "version": 3
   },
   "file_extension": ".py",
   "mimetype": "text/x-python",
   "name": "python",
   "nbconvert_exporter": "python",
   "pygments_lexer": "ipython3",
   "version": "3.6.11"
  }
 },
 "nbformat": 4,
 "nbformat_minor": 2
}
