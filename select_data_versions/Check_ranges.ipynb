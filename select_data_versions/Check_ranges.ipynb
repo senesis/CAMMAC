{
 "cells": [
  {
   "cell_type": "markdown",
   "metadata": {},
   "source": [
    "# CAMMAC https://cammac.readthedocs.io\n",
    "S.Sénési for Météo-France - sept 2019 to march 2021\n",
    "\n",
    "\n",
    "# Check ranges for various variables and experiments\n",
    "\n",
    "## Print user-chosen field statistics ot user-chose time statistics for a series of variables and experiments\n",
    "\n",
    "## Parameters stand in first cell, and are either commented here or in the doc (see above)"
   ]
  },
  {
   "cell_type": "markdown",
   "metadata": {},
   "source": [
    "##  Define lists of interesting variables and experiments"
   ]
  },
  {
   "cell_type": "code",
   "execution_count": null,
   "metadata": {
    "tags": [
     "parameters"
    ]
   },
   "outputs": [],
   "source": [
    "experiments=[\"historical\",\"ssp126\",\"ssp245\",\"ssp585\",\"ssp119\"]\n",
    "#experiments=[\"piControl\",\"historical\",\"ssp126\",\"ssp245\",\"ssp585\",\"ssp119\"]\n",
    "#experiments=[\"ssp126\"]#,\"ssp245\",\"ssp585\",\"ssp119\"]\n",
    "\n",
    "variables={\n",
    "    \"Amon\": [\"pr\",\"tas\",\"prw\",\"evspsbl\"], \n",
    "    \"Lmon\": [\"mrro\",\"mrso\",\"mrsos\"],\n",
    "    \"Omon\": [\"sos\"],\n",
    "    \"yr\"  : [\"dday\",\"drain\"]\n",
    "    #\"day\" : [\"pr\"]\n",
    "    }\n",
    "\n",
    "# Which field statistics and tme statistics should be computed (CDO syntax)\n",
    "fld_stats=[ \"fldpctl,5\", \"fldpctl,50\", \"fldpctl,95\"]\n",
    "tim_stats=[ \"timmean\"]\n",
    "\n",
    "excluded_models     = []\n",
    "included_models     = None   # If this is a list, only listed models will be used\n",
    "\n",
    "data_versions_tag   = \"20200918_plus_derived\"\n",
    "data_versions_dir   = \"/data/ssenesi/CAMMAC/data/select_data_versions\"\n",
    "\n",
    "# Define location of derived variables (yearly stats of daily precip)\n",
    "derived_variables_pattern  = \"/data/ssenesi/CMIP6_derived_variables/${variable}\"\n",
    "derived_variables_pattern += \"/${variable}_${table}_${model}_${experiment}_${realization}_${grid}_${version}_${PERIOD}.nc\"\n",
    "\n",
    "do_test=True"
   ]
  },
  {
   "cell_type": "code",
   "execution_count": null,
   "metadata": {},
   "outputs": [],
   "source": [
    "if do_test :\n",
    "    experiments=[\"historical\",\"ssp126\"]\n",
    "    #experiments=[\"ssp245\"]\n",
    "    #experiments=[\"piControl\"]\n",
    "    #variables={\"Amon\": [\"pr\"]}\n",
    "    #fld_stats=[ \"fldpctl,50\"]\n",
    "    #tim_stats=[ \"timmean\"]\n",
    "    included_models= [\"CNRM-CM6-1\"]\n"
   ]
  },
  {
   "cell_type": "code",
   "execution_count": null,
   "metadata": {},
   "outputs": [],
   "source": [
    "from IPython.core.display import display, HTML, Image\n",
    "display(HTML(\"<style>.container { width:100% !important; }</style>\"))\n",
    "import requests  # use pip or conda to install it if needed\n",
    "import json\n",
    "import glob\n",
    "import re\n",
    "import os\n",
    "import sys\n",
    "from CAMMAClib.ancillary   import feed_dic, amail\n",
    "from CAMMAClib.mips_et_al import table_for_var_and_experiment, project_for_experiment, project_for_model,\\\n",
    "     institute_for_model, mip_for_experiment, models_for_experiments, models_for_experiments_multi_var, \\\n",
    "     read_versions_dictionnary\n",
    "from climaf.api import *\n",
    "from climaf.period import firstyears"
   ]
  },
  {
   "cell_type": "code",
   "execution_count": null,
   "metadata": {},
   "outputs": [],
   "source": [
    "# Load some user settings, if available\n",
    "settings_file=os.getenv(\"CAMMAC_USER_PYTHON_CODE_DIR\",\".\")+'/cammac_user_settings.py'\n",
    "if os.path.exists(settings_file) :\n",
    "    exec(compile(open(settings_file).read(),settings_file,'exec'))"
   ]
  },
  {
   "cell_type": "code",
   "execution_count": null,
   "metadata": {},
   "outputs": [],
   "source": [
    "def period_of_experiment(experiment,dperiod):\n",
    "    if experiment[0:3]==\"ssp\" : return \"2081-2100\"\n",
    "    if experiment==\"historical\": return \"1995-2014\"\n",
    "    if experiment==\"piControl\" : return firstyears(dperiod,100)        \n",
    "    raise ValueError(\"Cannot handle exeriment %s\"%experiment)"
   ]
  },
  {
   "cell_type": "code",
   "execution_count": null,
   "metadata": {},
   "outputs": [],
   "source": [
    "data_versions=read_versions_dictionnary(data_versions_tag, data_versions_dir)\n",
    "stats=dict()\n",
    "models=set()\n",
    "deep=False\n",
    "do_print=True\n",
    "# Compute stats and oragnize dict as :\n",
    "#    stats[table][variable][experiment][tsat][fstat][model]\n",
    "for experiment in experiments :\n",
    "    for table in variables :\n",
    "        for variable in variables[table] :\n",
    "            if do_print :\n",
    "                print experiment,table,variable,\n",
    "            models_variants=models_for_experiments_multi_var(data_versions,[(variable,table)],[experiment],excluded_models,included_models)\n",
    "            #print table,variable, models_variants\n",
    "            for model,variant in models_variants :\n",
    "                if do_print : print model,\n",
    "                project=\"CMIP6\"\n",
    "                #print experiment,table,variable,model,variant\n",
    "                grid,version,dperiod=data_versions[experiment][variable][table][model][variant]\n",
    "                base_dict=dict(project=project, experiment=experiment,\n",
    "                        model=model, institute=institute_for_model(model),\n",
    "                        period=period_of_experiment(experiment,dperiod), variable=variable, table=table, \n",
    "                        version=version, grid=grid,realization=variant)\n",
    "                #\n",
    "                # Compute stats\n",
    "                for fstat in fld_stats :\n",
    "                    for tstat in tim_stats :\n",
    "                        if table != \"Lmon\" :\n",
    "                            sfield=ccdo(ds(**base_dict),operator=\"%s -%s\"%(tstat,fstat))\n",
    "                        else:\n",
    "                            sftlf_dict=base_dict.copy()\n",
    "                            sftlf_dict.update(experiment=\"piControl\", mip=\"CMIP\",table=\"fx\",period=\"fx\",variable=\"sftlf\")\n",
    "                            sftlf=ds(**sftlf_dict)\n",
    "                            cfile(sftlf,deep=deep)\n",
    "                            #print sftlf.baseFiles()\n",
    "                            #print ds(**base_dict).baseFiles()\n",
    "                            sfield=ccdo2_flip(ds(**base_dict),sftlf,operator=\"%s -%s -ifthen -setvrange,100,110\"%(tstat,fstat))\n",
    "                        feed_dic(stats,cvalue(sfield,deep=deep),table,variable,experiment,tstat,fstat,model)\n",
    "                        cdrop(sfield)\n",
    "                models.add(model)\n",
    "            if do_print : print"
   ]
  },
  {
   "cell_type": "code",
   "execution_count": null,
   "metadata": {},
   "outputs": [],
   "source": [
    "models=list(models)\n",
    "models.sort()\n",
    "for table in sorted(stats.keys()):\n",
    "    for variable in variables[table] :\n",
    "        for tstat in tim_stats:\n",
    "            print \"\\n\",table,variable,tstat\n",
    "            print 50*\"-\"\n",
    "            print \"%21s \"%(21*\" \"),\n",
    "            for experiment in experiments :\n",
    "                print \"|\",\n",
    "                print \"%-10s\"%experiment,\n",
    "                for fld_stat in fld_stats[0:-1] :\n",
    "                    print \"%9s \"%(9*\" \"),\n",
    "            print\n",
    "            print \"%21s \"%(21*\" \"),\n",
    "            for experiment in experiments :\n",
    "                print \"|\",\n",
    "                for fld_stat in fld_stats :\n",
    "                    l=len(fld_stat)\n",
    "                    if l > 9 : f=fld_stat[l-9:]\n",
    "                    else : f=fld_stat\n",
    "                    print \"%9s \"%f,\n",
    "            print\n",
    "            for model in models :\n",
    "                print \"%-20s  \"%model,\n",
    "                for experiment in experiments :\n",
    "                    print \"|\",\n",
    "                    d=stats[table][variable][experiment][tstat]\n",
    "                    for fld_stat in fld_stats :\n",
    "                        if model in d[fld_stat]:\n",
    "                            print \"%9.2e \"%d[fld_stat][model],\n",
    "                        else:\n",
    "                            print \"%9s \"%(9*\" \"),\n",
    "                print\n",
    "            print\n",
    "\n"
   ]
  },
  {
   "cell_type": "code",
   "execution_count": null,
   "metadata": {},
   "outputs": [],
   "source": [
    "#stats"
   ]
  },
  {
   "cell_type": "code",
   "execution_count": null,
   "metadata": {},
   "outputs": [],
   "source": []
  }
 ],
 "metadata": {
  "kernelspec": {
   "display_name": "Python 2",
   "language": "python",
   "name": "python2"
  },
  "language_info": {
   "codemirror_mode": {
    "name": "ipython",
    "version": 2
   },
   "file_extension": ".py",
   "mimetype": "text/x-python",
   "name": "python",
   "nbconvert_exporter": "python",
   "pygments_lexer": "ipython2",
   "version": "2.7.15"
  }
 },
 "nbformat": 4,
 "nbformat_minor": 2
}
