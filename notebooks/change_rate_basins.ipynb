{
 "cells": [
  {
   "cell_type": "markdown",
   "metadata": {},
   "source": [
    "# IPCC/AR6/WG1/Chapter 8 \n",
    "## Stéphane Sénési\n",
    "\n",
    "## Compute and/or plot ensemble statistics of relative changes \n",
    "- for mean and/or inter-annual standard deviation of basin-integrated variables (here applied to mrro only), \n",
    "- over a list of basins and \n",
    "- for a time_slicing of a projection period, and \n",
    "- for a series of scenarios\n",
    "\n",
    "### Results are json files (in a directory indicated below by variable 'outdir') hosting dictionnaries organized as  \n",
    "- `changes[scenario][variable][time_stat][basin][ensemble_stat][slice] = stat_value` \n",
    "\n",
    "### and named\n",
    "- `changes_scenario_dataVersion_version.json`\n",
    "\n",
    "### and a figure named e.g.\n",
    "- `mrro_rate_of_change_per_basin_dataVersion_version.png`"
   ]
  },
  {
   "cell_type": "markdown",
   "metadata": {},
   "source": [
    "## Default settings (some may be overriden by Papermill - this would show in next cell in the execution output notebook)"
   ]
  },
  {
   "cell_type": "code",
   "execution_count": null,
   "metadata": {
    "tags": [
     "parameters"
    ]
   },
   "outputs": [],
   "source": [
    "do_test               = False\n",
    "\n",
    "# This script has two phases, which can be activated separately\n",
    "do_compute            = True\n",
    "do_plot               = True\n",
    "\n",
    "# Version number will be a suffix for data and figure filenames. Use e.g. \"_V1\" for legibility\n",
    "version               = \"\"\n",
    "figure_name           = \"Fig8-27\"\n",
    "\n",
    "# Model data versions stuff\n",
    "#############################\n",
    "\n",
    "data_versions_dir    = \"/home/ssenesi/CAMMAC/select_data_versions\"\n",
    "# All models listed through next parameters as providing data for a scenario should be included :\n",
    "data_versions_tag    = \"20200531\"\n",
    "excluded_models      = [] \n",
    "included_models      = None       # Can be a list that limits models used\n",
    "\n",
    "# Compute parameters\n",
    "##########################\n",
    "\n",
    "# Basins for changes computation. Value 'land' is also recognized\n",
    "#basin_list=[ \"Amazon\" , \"Lena\", \"Yangtze\" ,\"Mississippi\", \"Danube\", \"Niger\" , \"globe\"]\n",
    "basins_list          = [ \"Amazon\" , \"Lena\", \"Yangtze\" ]\n",
    "\n",
    "# triplet lists of  [variable, table, time statistics] of interest \n",
    "variables            = [ [ \"mrro\",\"Lmon\",\"mean\" ], [ \"mrro\",\"Lmon\",\"std\" ] ]\n",
    "\n",
    "# List of ensemble statistics computed for each variable \n",
    "stats_list          = [ \"median\", \"mean\",\"nq5\",\"nq95\",\"nq25\",\"nq75\",\"ens\"]\n",
    "\n",
    "# Computing changes implies defining a refereece period\n",
    "ref_experiment      = \"historical\"\n",
    "ref_period          = \"1850-1900\" \n",
    "\n",
    "# Define time slices for projection, for a list of projection epxeriments. \n",
    "# May include years belonging to ref_experiment duration, but scenario's begin \n",
    "# must match ref_experiment's end. \n",
    "scenarios          = [ \"ssp585\", \"ssp245\",\"ssp126\" ]\n",
    "periods_length     = 20\n",
    "start_year         = 1901\n",
    "last_year          = 2081  # i.e. last period's begin\n",
    "step               = 10  # Not necessarily equal to periods_length !\n",
    "#\n",
    "# The directory holding output (json) files and figures\n",
    "outdir             = \"./figures\"\n",
    "\n",
    "# Additional parameters, for plot\n",
    "###################################\n",
    "\n",
    "# The plot script is tuned for two variables only\n",
    "plot_variables      = [ [\"mrro\",\"Lmon\",\"mean\"], [\"mrro\",\"Lmon\",\"std\"] ]\n",
    "\n",
    "plot_variable_label = \"runoff\"\n",
    "plot_name1          = \"mean\"\n",
    "plot_name2          = \"variability\"\n",
    "# Basins to plot. Must be a sublist of basins_list \n",
    "plot_basins         = [\"Amazon\",\"Yangtze\", \"Lena\"]\n",
    "#plot_basins=[\"Mississippi\", \"Danube\", \"Niger\"]\n",
    "\n",
    "# Curves to plot, in right order. Must be a sublist of 'stats_list' \n",
    "plot_stats          = [\"nq5\",\"mean\",\"nq95\"]\n",
    "plot_stats_label    = \"ensemble mean, 5 and 95 percentiles\"\n",
    "\n",
    "# Parameters for periods to plot. Must be consistent with periods above. Can be a subset\n",
    "plot_start_year     = 1901\n",
    "plot_last_year      = 2081\n",
    "plot_step           = 10\n",
    "\n",
    "\n",
    "ch=dict(compute=True,house_keeping=False)\n",
    "\n",
    "# Stable parameters\n",
    "#######################\n",
    "\n",
    "# We use CTRIP-V2 data for basins. \n",
    "# The only constraint on basins data is to be provided as a NetCDF file with as single \n",
    "# field having a distinct integer value for each basin; One must also provide here below \n",
    "# some mapping of integers to basin names for interesting basins \n",
    "basins_file        = \"/home/ssenesi/CAMMAC/data/basins/num_bas_ctrip.nc\"\n",
    "# See colocated file rivnum05_new2.txt for a full table of basin numbers\n",
    "# Entry \"land\" is necessary if wishing to compute integration over land \n",
    "basins_key         = {\"land\": -999, \"Yangtze\":11 , \"Lena\":8, \"Amazon\":1, \"Mississippi\":3 , \n",
    "                      \"Danube\":29, \"Niger\":9}\n",
    " \n",
    "# Location of libraries\n",
    "# Climaf version >= 1.2.13 (see https://climaf.readthedocs.io)\n",
    "climaf_lib         = \"/home/ssenesi/climaf_installs/climaf_running\" \n",
    "# AR6/WGI/chapter8 CliMAF-based package\n",
    "CAMMAC                = \"/home/ssenesi/CAMMAC\""
   ]
  },
  {
   "cell_type": "code",
   "execution_count": null,
   "metadata": {},
   "outputs": [],
   "source": [
    "# for tests :\n",
    "if do_test :\n",
    "    do_plot=False\n",
    "    periods_length=3\n",
    "    start_year=2016\n",
    "    last_year=2020\n",
    "    version=\"_Vtest\"\n",
    "    basins_list=[ \"Amazon\" ]\n",
    "    variables=[ [\"mrro\",\"Lmon\",\"mean\"], [\"mrro\",\"Lmon\",\"std\"] ]\n",
    "    scenarios=[ \"ssp585\" ]\n",
    "    stats_list=[ \"median\" ]\n",
    "    ch=dict(compute=True,house_keeping=False)\n",
    "    included_models     = [\"CNRM-CM6-1\",\"IPSL-CM6A-LR\"]\n"
   ]
  },
  {
   "cell_type": "code",
   "execution_count": 1,
   "metadata": {},
   "outputs": [
    {
     "data": {
      "text/html": [
       "<style>.container { width:100% !important; }</style>"
      ],
      "text/plain": [
       "<IPython.core.display.HTML object>"
      ]
     },
     "metadata": {},
     "output_type": "display_data"
    }
   ],
   "source": [
    "# These two commands have no effects when run outside a notebook\n",
    "from IPython.core.display import display, HTML\n",
    "display(HTML(\"<style>.container { width:100% !important; }</style>\"))"
   ]
  },
  {
   "cell_type": "code",
   "execution_count": null,
   "metadata": {},
   "outputs": [],
   "source": [
    "import json\n",
    "import sys\n",
    "import os, os.path\n",
    "import subprocess"
   ]
  },
  {
   "cell_type": "code",
   "execution_count": null,
   "metadata": {},
   "outputs": [],
   "source": [
    "sys.path.append(climaf_lib)\n",
    "from climaf.api import *\n",
    "climaf.cache.stamping=False\n",
    "climaf.driver.dig_hard_into_cache=False"
   ]
  },
  {
   "cell_type": "code",
   "execution_count": null,
   "metadata": {},
   "outputs": [],
   "source": [
    "sys.path.append(CAMMAC) \n",
    "from CAMMAClib.ancillary   import prettier_label, feed_dic\n",
    "from CAMMAClib.mips_et_al  import read_versions_dictionnary, TSU_metadata\n",
    "from CAMMAClib.changes     import stats_of_basins_changes"
   ]
  },
  {
   "cell_type": "code",
   "execution_count": null,
   "metadata": {},
   "outputs": [],
   "source": [
    "# Define derived variables\n",
    "derive('CMIP6', 'P-E','minus','pr','evspsbl')\n",
    "derive('CMIP6_extent', 'P-E','minus','pr','evspsbl')\n",
    "\n",
    "# Fix sign issue with some models for evspsbl\n",
    "calias('CMIP6','evspsbl',scale=-1,conditions={\"model\":[\"CAMS-CSM1-0\",\"EC-Earth3\",\"EC-Earth3-Veg\"]})\n",
    "calias('CMIP6_extent','evspsbl',scale=-1,conditions={\"model\":[\"CAMS-CSM1-0\",\"EC-Earth3\",\"EC-Earth3-Veg\"]})"
   ]
  },
  {
   "cell_type": "code",
   "execution_count": null,
   "metadata": {},
   "outputs": [],
   "source": [
    "def init_slices(start_year,last_year,periods_length,step):\n",
    "    slices=[] ; current=start_year\n",
    "    while current <= last_year : \n",
    "        slices.append(\"%s-%s\"%(current,current+periods_length-1))\n",
    "        current+=step\n",
    "    return slices"
   ]
  },
  {
   "cell_type": "code",
   "execution_count": null,
   "metadata": {
    "scrolled": false
   },
   "outputs": [],
   "source": [
    "if do_compute :\n",
    "\n",
    "    # Read dictionnary of data versions \n",
    "    data_versions=read_versions_dictionnary(data_versions_tag,data_versions_dir)\n",
    "    metadata=\"\"\n",
    "\n",
    "    # Init time periods\n",
    "    slices=init_slices(start_year,last_year,periods_length,step)\n",
    "\n",
    "    basins_data={\"basins\":basins_list, \"basins_file\":basins_file,\"basins_key\":basins_key}\n",
    "    basins_data_globe={\"basins\":[\"globe\"], \"basins_file\":\"\",\"basins_key\":{}}\n",
    "    #\n",
    "    import os.path\n",
    "    if not os.path.exists(outdir):\n",
    "        os.makedirs(outdir)\n",
    "    #\n",
    "    model_changes=dict()\n",
    "    metadata=\"\"\n",
    "    for scenario in scenarios :\n",
    "        stats_all_vars=dict()\n",
    "        variables_list=[]\n",
    "        for variable,table,time_stat in variables :\n",
    "            #print scenario, variable, table, time_stat\n",
    "            variables_list.append(variable)\n",
    "            changes,models=stats_of_basins_changes(model_changes, ref_experiment, scenario, ref_period,variable, table, time_stat,\n",
    "                                               data_versions,slices,stats_list,basins_data, included_models=included_models,\n",
    "                                               excluded_models=excluded_models, must_have_vars=[\"tas\"],**ch)\n",
    "            feed_dic(stats_all_vars,changes,variable,time_stat)\n",
    "            metadata+=TSU_metadata([scenario,ref_experiment],models,variable,table,data_versions)\n",
    "        # Next for tas\n",
    "        tas_changes,models=stats_of_basins_changes(model_changes, ref_experiment, scenario, ref_period,\"tas\",\"Amon\", \"mean\",\n",
    "                                    data_versions,slices,[\"mean\",\"ens\"],basins_data_globe, included_models=included_models,\n",
    "                                    excluded_models=excluded_models,relative=False, must_have_vars=variables_list,**ch)\n",
    "        feed_dic(stats_all_vars,tas_changes,\"tas\",\"mean\")\n",
    "        metadata+=TSU_metadata([scenario,ref_experiment],models,\"tas\",\"Amon\",data_versions)\n",
    "        # Write all variables results\n",
    "        with open (outdir+\"/changes_allvars_%s_%s%s.json\"%(scenario,data_versions_tag,version),\"w\") as f :\n",
    "            json.dump(stats_all_vars,f,separators=(',', ': '),indent=3)\n",
    "    #\n",
    "    with open(\"%s/%s%s_md\"%(outdir,figure_name,version),\"w\") as f: f.write(metadata)\n",
    "            "
   ]
  },
  {
   "cell_type": "markdown",
   "metadata": {},
   "source": [
    "# Create a NetCDF file for Ncl plot script"
   ]
  },
  {
   "cell_type": "code",
   "execution_count": null,
   "metadata": {
    "scrolled": true
   },
   "outputs": [],
   "source": [
    "if do_plot :\n",
    "    \n",
    "    import Nio\n",
    "\n",
    "    # Init plot time periods\n",
    "    plot_slices=init_slices(plot_start_year,plot_last_year,periods_length,plot_step)\n",
    "\n",
    "    stats=dict()\n",
    "    for scenario in scenarios :\n",
    "        try :\n",
    "            with open (\"%s/changes_allvars_%s_%s%s.json\"%(outdir,scenario,data_versions_tag,version),\"r\") as f :\n",
    "                stats[scenario]=json.load(f)\n",
    "        except:\n",
    "            raise ValueError(\"No cached data for scenario %s. Try setting 'do_compute=True'\"%scenario)\n",
    "    #\n",
    "    fn=\"change_rate_basins_data.nc\"\n",
    "    !rm -f {fn}\n",
    "    f=Nio.open_file(fn,\"c\")\n",
    "    f.create_dimension('ssp'   ,len(scenarios))\n",
    "    f.create_dimension('stat'  ,len(plot_stats))\n",
    "    f.create_dimension('basin' ,len(plot_basins))\n",
    "    f.create_dimension('period',len(plot_slices))\n",
    "    #\n",
    "    f.create_variable('tas','d',('ssp','period'))\n",
    "    tas_mean=[[stats[scenario][\"tas\"][\"mean\"][\"globe\"][\"mean\"][p] \n",
    "               for p in plot_slices ] \n",
    "              for scenario in scenarios ] \n",
    "    #print tas_mean\n",
    "    f.variables['tas'][:] = tas_mean\n",
    "    #\n",
    "    for variable,table,time_stat in plot_variables :\n",
    "        var_stat=variable+\"_\"+time_stat\n",
    "        f.create_variable(var_stat,'d',('ssp','basin','stat','period'))\n",
    "        f.variables[var_stat][:] = [[[[ stats[scenario][variable][time_stat][basin][stat][p] \n",
    "                                       for p in plot_slices]\n",
    "                                      for stat in plot_stats]\n",
    "                                     for basin in plot_basins ] \n",
    "                                    for scenario in scenarios ] \n",
    "    #\n",
    "    f.close()\n",
    "    "
   ]
  },
  {
   "cell_type": "markdown",
   "metadata": {},
   "source": [
    "# Launch Ncl script for plot\n",
    "\n",
    "### A number of parameters for the plot or provided through Ncl command-line arguments, that can be fine-tuned here. \n",
    "### However some tuning of the Ncl script code must occur regarding ymin/ymax of each panel (depending on runoff range over each basin)"
   ]
  },
  {
   "cell_type": "code",
   "execution_count": null,
   "metadata": {},
   "outputs": [],
   "source": [
    "if do_plot :\n",
    "    # Command below is needed on Ciclad due to (uncomplete ?) Nio install in Jerome's conda\n",
    "    #  env which has an adverse impact on launched command environment for Ncl execution\n",
    "    if \"NCARG_NCARG\" in os.environ :\n",
    "        os.environ.pop(\"NCARG_NCARG\")\n",
    "\n",
    "    def ncl_strings_tab(it) :\n",
    "        # Create a tab of strings from it, in Ncl syntax ; e.g. : (/\"aa\",\"bb\"/)\n",
    "        tab=\"(/\"\n",
    "        for val in it[0:-1] : tab+='\"%s\", '%val\n",
    "        tab+='\"%s\"/)'%it[-1]\n",
    "        return tab\n",
    "    #\n",
    "    figfile=\"rate_of_change_per_basin_vs_%s_%s%s\"%(ref_period,data_versions_tag,version)\n",
    "    if not os.path.exists(outdir):\n",
    "        os.makedirs(outdir)\n",
    "    #\n",
    "    ncl_basins=ncl_strings_tab(plot_basins)\n",
    "    ncl_vars=ncl_strings_tab([ \"%s_%s\"%(var,stat) for var,table,stat in variables ])\n",
    "    pl=[ prettier_label[e] for e in scenarios ]\n",
    "    ncl_experiment_labels=ncl_strings_tab(pl)\n",
    "    #\n",
    "    nb_models=19\n",
    "    end=last_year+periods_length-1\n",
    "    ncl_script=CAMMAC+\"/notebooks/change_rate_basins.ncl\"\n",
    "\n",
    "    # Plot figure\n",
    "    command=\"ncl -Q %s\"%ncl_script +\\\n",
    "             \" ' input_file = \\\"%s\\\"'\"       %fn +\\\n",
    "             \" ' figfile    = \\\"%s/%s\\\"'\"       %(outdir,figfile) +\\\n",
    "             \" ' names = (/\\\"%s\\\",\\\"%s\\\"/)'\" %(plot_name1,plot_name2) +\\\n",
    "             \" ' title = \\\"Rate of change in basin-scale %s %s and %s\\\"'\"%(plot_variable_label,plot_name1,plot_name2) +\\\n",
    "             \" ' xtitle = \\\"Warming above %s, from %s to %s\\\"'\"%(ref_period,start_year,end) +\\\n",
    "             \" ' ytitle = \\\"Change in basin-averaged %s and %s of %s, vs %s \"%(plot_name1,plot_name2,plot_variable_label,ref_period)+\\\n",
    "             \"(%%) ~Z75~~C~(%s models %s)\\\"'\"%(nb_models,plot_stats_label) +\\\n",
    "             \" ' vars = %s'\"%ncl_vars+\\\n",
    "             \" ' basins = %s'\"%ncl_basins+\\\n",
    "             \" ' experiments_labels = %s'\"%(ncl_experiment_labels)+\\\n",
    "             \" ' xmin = 0.0'\"+\\\n",
    "             \" ' xmax = 5.05'\"\n",
    "    print \"command=\",command\n",
    "    out=subprocess.check_output(command,shell=True)\n",
    "    if \"OK\" not in out[-3:] :\n",
    "        print out\n",
    "    else :\n",
    "        os.system(\"cd %s ; ln -sf %s.png %s%s.png\"%(outdir,figfile,figure_name,version))\n",
    "\n",
    "\n",
    "# For Zhang figure scale\n",
    "#'yminmax=(/(/(/-10,10/),(/-30.,30./)/),(/(/-10,5/),(/-20.,30./)/),(/(/0,35/),(/-10.,60./)/)  /)'\n",
    "#'xmax=3.05'\\\n",
    "\n"
   ]
  }
 ],
 "metadata": {
  "kernelspec": {
   "display_name": "Python 2",
   "language": "python",
   "name": "python2"
  },
  "language_info": {
   "codemirror_mode": {
    "name": "ipython",
    "version": 2
   },
   "file_extension": ".py",
   "mimetype": "text/x-python",
   "name": "python",
   "nbconvert_exporter": "python",
   "pygments_lexer": "ipython2",
   "version": "2.7.15"
  }
 },
 "nbformat": 4,
 "nbformat_minor": 2
}
