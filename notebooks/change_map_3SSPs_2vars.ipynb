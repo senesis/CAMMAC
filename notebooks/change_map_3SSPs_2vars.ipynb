{
 "cells": [
  {
   "cell_type": "markdown",
   "metadata": {},
   "source": [
    "# CAMMAC https://cammac.readthedocs.io\n",
    "\n",
    "# Build a figure showing change for three SSPs and two (plain or derived) variables \n",
    "## Here applied to : #dry days per year and daily precip for rainy days\n",
    "\n",
    "## S.Sénési for Météo-France - sept 2019 to march 2021\n",
    "\n",
    "### A few commands below are specific to the Notebook environment, and can be safely commented out"
   ]
  },
  {
   "cell_type": "markdown",
   "metadata": {},
   "source": [
    "## Default settings (some may be overriden by Papermill - this would show in next cell in the execution output notebook)"
   ]
  },
  {
   "cell_type": "code",
   "execution_count": null,
   "metadata": {
    "tags": [
     "parameters"
    ]
   },
   "outputs": [],
   "source": [
    "figure_name          = \"Fig8-17\" # Used for a symbolic link to an explicit filename,and for metadata filename\n",
    "version              = \"\"        # Suffix added to figure name\n",
    "scheme               = \"AR5\"\n",
    "confidence_factor    = 1.645  # For AR6 comprehensive scheme : Multiplicative factor applied to control run \n",
    "                              # variability for deciding a change is significant (besides sqrt(2))\n",
    "sign_threshold       = 0.66   # For AR6 simple scheme : threshold on cross-model change sign agreeement fraction\n",
    "same_models_for_var  = False\n",
    "title                = \"Multi-model annual mean long-term changes in daily precipitation statistics\"\n",
    "#\n",
    "outdir               = \"./figures/\" # Used for automatic figure name\n",
    "\n",
    "\n",
    "cases               = {\n",
    "    \"dry\"   : {\"derivation\":\"dry\"  , \"variable\":\"pr\", \"table\":\"day\", \"threshold\": None, \n",
    "               \"plot_args\" :{ \"color\":\"AR6_Evap_12\", \"units\":\"days\", \n",
    "                              \"colors\":\"-32 -16 -8 -4 -2 0 2 4 8 16 32\",\n",
    "                              \"focus\":\"land\" }},\n",
    "    \n",
    "    \"drain\" : {\"derivation\":\"drain\", \"variable\":\"pr\", \"table\":\"day\", \"threshold\": None, \n",
    "               \"plot_args\":{ \"color\":\"AR6_Precip_12\", \"units\":\"mm\", \"scale\":24.*3600., \n",
    "                             \"colors\":\"-2 -1 -0.5 -0.2 -0.1 0 0.1 0.2 0.5 1 2 \",\n",
    "                             \"focus\":'land'}\n",
    "              },\n",
    "    \"ydry\"   : {\"derivation\":\"plain\" , \"variable\":\"dday\", \"table\":\"yr\", \"threshold\": None, \n",
    "               \"plot_args\" :{ \"color\":\"AR6_Evap_12\", \"units\":\"days\", \n",
    "                              \"colors\":\"-32 -16 -8 -4 -2 0 2 4 8 16 32\",\n",
    "                              \"focus\":\"land\" }},\n",
    "    \n",
    "    \"ydrain\" : {\"derivation\":\"plain\" , \"variable\":\"drain\", \"table\":\"yr\", \"threshold\": None, \n",
    "               \"plot_args\":{ \"color\":\"AR6_Precip_12\", \"units\":\"mm\", \"scale\":24.*3600., \n",
    "                             \"colors\":\"-2 -1 -0.5 -0.2 -0.1 0 0.1 0.2 0.5 1 2 \",\n",
    "                             \"focus\":'land'}\n",
    "              }\n",
    "    }\n",
    "\n",
    "\n",
    "order              = [\"dry\",\"ydry\"]\n",
    "\n",
    "# TBDoc\n",
    "derived_variables_pattern  = \"/data/ssenesi/CMIP6_derived_variables/${variable}\"\n",
    "derived_variables_pattern += \"/${variable}_${table}_${model}_${experiment}_${realization}_${grid}_${version}_${PERIOD}.nc\"\n",
    "derived_variable_table='yr'\n",
    "\n",
    "ref_experiment     = \"historical\"\n",
    "experiments        = [\"ssp126\",\"ssp245\",\"ssp585\"]\n",
    "ref_period         = \"1995-2014\"\n",
    "proj_period        = \"2081-2100\"\n",
    "field_type         = \"mean_change\"\n",
    "season             = \"ANN\"\n",
    "#\n",
    "outdir             = \"./figures\"\n",
    "common_grid        = \"r360x180\"\n",
    "variab_sampling_args={\"house_keeping\":True,\"compute\":True,\"detrend\":True,\\\n",
    "                      \"shift\":100,\"nyears\":20,\"number\":20}\n",
    "\n",
    "data_versions_tag  = \"20200918_plus_derived\"\n",
    "data_versions_dir  = \"/home/ssenesi/CAMMAC/select_data_versions\"\n",
    "# As of 16 april 2020, some data for tag 20200219 did disappear from disks at Ciclad:\n",
    "#excluded_models   = [\"BCC-CSM2-MR\",\"EC-Earth3-Veg\",\"GFDL-ESM4\",\"EC-Earth3\"]  # seulement sur ssp126 pour le dernier\n",
    "excluded_models   = []\n",
    "included_models   = None\n",
    "variability_excluded_models = []\n",
    "variability_models= None\n",
    "\n",
    "# If pre-computed fields for these SSPs, seasons and projection_period are available, should we use it ?\n",
    "# Set it to False for recomputing either :\n",
    "#   - for printing fields and field changes statistics\n",
    "#   - or if any external script launched by CliMAF was internally changed\n",
    "use_cached_proj_fields = True   \n",
    "drop_old_figures       = False\n",
    "print_statistics       = True\n",
    "#\n",
    "cache_dir              = \"./cache\"\n",
    "figure_details         = {\"page_width\":2450,\"page_height\":3444, \"insert_width\":2400,\"pt\":55, \\\n",
    "                          \"ybox\":133,\"y\":40}\n",
    "common_grid            = \"r360x180\"\n",
    "\n",
    "\n",
    "# Location of libraries\n",
    "#######################\n",
    "# Climaf version >= 1.2.13 (see https://climaf.readthedocs.io)\n",
    "climaf_lib       = \"/home/ssenesi/climaf_installs/climaf_running\" \n",
    "# CAMMAC (CliMAF-based) package\n",
    "CAMMAC              = \"/home/ssenesi/CAMMAC\"\n",
    "\n",
    "#\n",
    "do_test              = True"
   ]
  },
  {
   "cell_type": "code",
   "execution_count": null,
   "metadata": {},
   "outputs": [],
   "source": [
    "\n",
    "if do_test :\n",
    "    version             = \"_test\"\n",
    "    proj_period         = \"2099-2100\"\n",
    "    ref_period          = \"2013-2014\" \n",
    "    included_models     = [\"CNRM-CM6-1\"]    \n",
    "    variability_models  = [\"CNRM-CM6-1\"]    \n",
    "    #cases               = {    \"dry\"   : {\"derivation\":\"dry\"  , \"variable\":\"pr\", \"table\":\"day\", \n",
    "    #                       \"plot_args\" :{ \"color\":\"AR6_Evap_12\", \"units\":\"days\", \"colors\":\"-32 -16 -8 -4 -2 0 2 4 8 16 32\", \"focus\":\"land\" }},}\n",
    "    order              = [\"dry\",\"ydry\"]\n",
    "    experiments        = [\"ssp126\",\"ssp126\",\"ssp126\"]\n",
    "    variab_sampling_args={\"house_keeping\":True,\"compute\":True,\"detrend\":True,\"shift\":100,\"nyears\":3,\"number\":3}\n",
    "\n",
    "\n",
    "\n",
    "\n",
    "    #plot_for_each_model    = [ \"reference\", \"projection\", \"change\", \"rchange\", \"schange\", \"variability\" ]"
   ]
  },
  {
   "cell_type": "markdown",
   "metadata": {},
   "source": [
    "## Libraries"
   ]
  },
  {
   "cell_type": "code",
   "execution_count": null,
   "metadata": {},
   "outputs": [],
   "source": [
    "import sys\n",
    "\n",
    "# Climaf setup (version >= 1.2.13 - see https://climaf.readthedocs.io)\n",
    "sys.path=[climaf_lib] + sys.path \n",
    "from climaf.api import *\n",
    "\n",
    "# Climaf settings\n",
    "from climaf.cache import stamping\n",
    "climaf.cache.stamping=False\n",
    "\n",
    "# AR6 figures project packages\n",
    "sys.path.append(CAMMAC    ) \n",
    "from CAMMAClib.changes    import change_figure_with_caching\n",
    "from CAMMAClib.ancillary  import extract_labelbar, prettier_label, create_labelbar2\n",
    "from CAMMAClib.mips_et_al import TSU_metadata, read_versions_dictionnary\n",
    "\n",
    "# Load some user settings, if available\n",
    "settings_file=os.getenv(\"CAMMAC_USER_PYTHON_CODE_DIR\",\".\")+'/cammac_user_settings.py'\n",
    "if os.path.exists(settings_file) :\n",
    "    exec(compile(open(settings_file).read(),settings_file,'exec'))\n"
   ]
  },
  {
   "cell_type": "markdown",
   "metadata": {},
   "source": [
    "### If using a notebook, use wide display"
   ]
  },
  {
   "cell_type": "code",
   "execution_count": null,
   "metadata": {},
   "outputs": [],
   "source": [
    "from IPython.core.display import display, HTML, Image\n",
    "display(HTML(\"<style>.container { width:100% !important; }</style>\"))"
   ]
  },
  {
   "cell_type": "markdown",
   "metadata": {},
   "source": [
    "## The basic engine is function change_figure_with_caching, which has numerous settings\n",
    "## Next function allows to set all values by combining global variables and arguments values"
   ]
  },
  {
   "cell_type": "code",
   "execution_count": null,
   "metadata": {},
   "outputs": [],
   "source": [
    "def afigure(experiment,label,title,panel,labelbar=\"False\",outfile=None):\n",
    "    \n",
    "    global metadata\n",
    "    \n",
    "    variable         = cases[label][\"variable\"]\n",
    "    table            = cases[label][\"table\"]\n",
    "    derivation_label = cases[label][\"derivation\"]\n",
    "    #derivation_label = \"plain\"\n",
    "    custom_plot      = cases[label][\"plot_args\"]\n",
    "    threshold        = cases[label][\"threshold\"]\n",
    "    \n",
    "    fil,fig,_,variab_models,models = change_figure_with_caching(\n",
    "        variable, experiment, season,\n",
    "        data_versions_tag, data_versions_dir=data_versions_dir,\n",
    "        ref_period=ref_period, proj_period=proj_period, \n",
    "        ref_experiment=ref_experiment,\n",
    "        table=table, \n",
    "        field_type=field_type,\n",
    "        derivation_label=derivation_label,\n",
    "        title=title, \n",
    "        custom_plot=custom_plot, labelbar=labelbar, \n",
    "        outdir=outdir, outfile=outfile,\n",
    "        #\n",
    "        common_grid=common_grid, \n",
    "        variab_sampling_args=variab_sampling_args,\n",
    "        excluded_models=excluded_models, models=included_models,\n",
    "        variability_models=variability_models,\n",
    "        variability_excluded_models=variability_excluded_models,\n",
    "        cache_dir=cache_dir, read=use_cached_proj_fields, write=True, \n",
    "        print_statistics=print_statistics, deep=None,\n",
    "        threshold=threshold, scheme=scheme, drop=drop_old_figures,\n",
    "        same_models_for_variability_and_changes=same_models_for_var,\n",
    "        low_change_agree_threshold=confidence_factor,\n",
    "        change_sign_agree_threshold = sign_threshold\n",
    "        )\n",
    "    if panel is not None :\n",
    "        metadata+=TSU_metadata([experiment,ref_experiment],models,       variable,table,data_versions,panel)\n",
    "        metadata+=TSU_metadata([\"piControl\"]              ,variab_models,variable,table,data_versions,panel)\n",
    "\n",
    "    return fil,fig"
   ]
  },
  {
   "cell_type": "markdown",
   "metadata": {},
   "source": [
    "## Compute figures for the three experiments and two seasons"
   ]
  },
  {
   "cell_type": "code",
   "execution_count": null,
   "metadata": {},
   "outputs": [],
   "source": [
    "figs=dict()\n",
    "files=dict()\n",
    "number=0\n",
    "letters=[\"a\",\"b\",\"c\",\"d\",\"e\",\"f\"]\n",
    "metadata=\"\"\n",
    "data_versions=read_versions_dictionnary(data_versions_tag, data_versions_dir)\n",
    "\n",
    "for exp in experiments :\n",
    "    figs[exp]=dict()\n",
    "    files[exp]=dict()\n",
    "    for label in order:\n",
    "        ptitle=\"(%s) %s %s\"%(letters[number],prettier_label.get(exp,exp),prettier_label.get(label,label))\n",
    "        files[exp][label],figs[exp][label] = afigure(exp,label,ptitle,letters[number])\n",
    "        if drop_old_figures :\n",
    "            cdrop(figs[exp][label])\n",
    "        number+=1"
   ]
  },
  {
   "cell_type": "markdown",
   "metadata": {},
   "source": [
    "## Write metadata file"
   ]
  },
  {
   "cell_type": "code",
   "execution_count": null,
   "metadata": {},
   "outputs": [],
   "source": [
    "import os.path\n",
    "if not os.path.exists(outdir):\n",
    "    os.makedirs(outdir)\n",
    "with open(\"%s/%s%s_md.txt\"%(outdir,figure_name,version),\"w\") as f:    f.write(metadata)"
   ]
  },
  {
   "cell_type": "markdown",
   "metadata": {},
   "source": [
    "## Create the common labelbar and assemble it with plots"
   ]
  },
  {
   "cell_type": "code",
   "execution_count": null,
   "metadata": {},
   "outputs": [],
   "source": [
    "### create a figure wih labelbar (using same plot settings as for figures above)\n",
    "os.system('rm ./fig_with_label_0.png')\n",
    "labelbar_file_0,_=afigure(experiments[0],order[0],\"some title\", None, labelbar=\"True\",outfile=\"./fig_with_label_0.png\")\n",
    "\n",
    "# create a figure wih labelbar (using same plot settings as for figures above)\n",
    "labelbar_file_1,_=afigure(experiments[0],order[1],\"some title\", None, labelbar=\"True\",outfile=\"./fig_with_label_1.png\")\n",
    "\n",
    "create_labelbar2(labelbar_file_0,labelbar_file_1,\"./insert.png\",missing=False,scheme=scheme)\n",
    "#os.system(\"rm ./fig_with_label*.png\")\n",
    "\n",
    "# Create multi-panel figure\n",
    "page=cpage([\n",
    "    [figs[experiments[0]][order[0]],figs[experiments[0]][order[1]]],\n",
    "    [figs[experiments[1]][order[0]],figs[experiments[1]][order[1]]],\n",
    "    [figs[experiments[2]][order[0]],figs[experiments[2]][order[1]]],\n",
    "    ],\n",
    "    title=title,\n",
    "    insert=\"./insert.png\",\n",
    "    **figure_details\n",
    "    )\n",
    "outfile=\"change_3SSPS_2variables_%s_%s_%s%s.png\"%(data_versions_tag,order[0],order[1],version)\n",
    "if drop_old_figures :\n",
    "    cdrop(page)\n",
    "cfile(page,outdir+\"/\"+outfile)\n",
    "os.system(\"cd %s ; ln -sf %s %s%s.png\"%(outdir,outfile,figure_name,version))\n",
    "os.system(\"rm ./insert*.png\")\n",
    "#\n",
    "small=outfile.replace(\".png\",\".small.png\")\n",
    "os.system(\"cd %s ; convert -geometry 50%% %s %s\"%(outdir,outfile,small))\n",
    "os.system(\"cd %s ; ln -sf %s %s%s_small.png\"%(outdir,small,figure_name,version))\n",
    "#\n"
   ]
  },
  {
   "cell_type": "markdown",
   "metadata": {},
   "source": [
    "## If using a notebook , display result on-line"
   ]
  },
  {
   "cell_type": "code",
   "execution_count": null,
   "metadata": {},
   "outputs": [],
   "source": [
    "#Image(outfile,width=300)"
   ]
  }
 ],
 "metadata": {
  "language_info": {
   "name": "python",
   "pygments_lexer": "ipython2"
  },
  "kernelspec": {
   "name": "python2",
   "display_name": "Python 2",
   "language": "python"
  }
 },
 "nbformat": 4,
 "nbformat_minor": 2
}
