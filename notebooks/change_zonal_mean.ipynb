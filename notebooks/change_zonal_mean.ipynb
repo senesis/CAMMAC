{
 "cells": [
  {
   "cell_type": "markdown",
   "metadata": {},
   "source": [
    "# AR6/WGI Chapter 8\n",
    "## Build a figure showing zonal mean of precipitation, evaporation and P-E change and variability of precip for three SSPs\n",
    "### S.Sénési - sept 2019 to march 2021\n",
    "### A few commands below are specific to the Notebook environment, and can be safely commented out\n"
   ]
  },
  {
   "cell_type": "markdown",
   "metadata": {},
   "source": [
    "## Default settings (some may be overriden by Papermill - this would show in next cell in the execution output notebook)"
   ]
  },
  {
   "cell_type": "code",
   "execution_count": null,
   "metadata": {
    "tags": [
     "parameters"
    ]
   },
   "outputs": [],
   "source": [
    "CAMMAC                    = \"/home/ssenesi/CAMMAC\"\n",
    "#\n",
    "do_test                    = False\n",
    "#\n",
    "title                      = \"Multi-model zonal mean long-term changes in P, E and P-E\"\n",
    "variables                  = [\"pr\", \"evspsbl\", \"P-E\"]\n",
    "unit                       = \"mm/day\"\n",
    "factor                     = 24*3600\n",
    "table                      = \"Amon\"\n",
    "columns                    = \"Precipitation|Evaporation|Precip. minus evaporation\"\n",
    "figure_name                = \"Fig8-14\" # Used for a symbolic link to an explicit filename,and for metadata filename\n",
    "version                    = \"\" # Suffix added to figure name\n",
    "outdir                     = \"./figures\"\n",
    "\n",
    "# Data used \n",
    "data_versions_tag          = \"20200719\"\n",
    "data_versions_dir          = CAMMAC+\"/select_data_versions\"\n",
    "excluded_models            = {}\n",
    "included_models            = None\n",
    "variability_excluded_models= { \"P-E\" : \"ACCESS-ESM1-5\"} # No common data period between pr and evspsbl as of 20200913\n",
    "variability_models        = None\n",
    "default_fixed_fields_dir   = CAMMAC+\"/data/fixed_fields\"\n",
    "#\n",
    "# If variables list or next series of parameters is changed, the computation \n",
    "# will still be OK in intermediate files but the companion plot script may \n",
    "# have to be modified\n",
    "#\n",
    "ref_experiment            = \"historical\"\n",
    "ref_period                = \"1995-2014\" \n",
    "# The plot script will set correct colors only if experiment order is ssp126/ssp245/ssp585\n",
    "experiments               = [\"ssp126\", \"ssp245\", \"ssp585\"] \n",
    "projection_period         = \"2081-2100\"\n",
    "#\n",
    "# Ancillary parameters\n",
    "#\n",
    "print_statistics          = True\n",
    "common_grid               = \"r360x180\"\n",
    "variability_sampling_args = {\"house_keeping\":False,\"compute\":True,\"detrend\":True,\"shift\":100,\"nyears\":20,\"number\":20}\n",
    "check_fixed_fields        = True\n",
    "#\n",
    "#\n",
    "# Location of libraries\n",
    "# Climaf version >= 1.2.13 (see https://climaf.readthedocs.io)\n",
    "climaf_lib                = \"/home/ssenesi/climaf_installs/climaf_running\" \n",
    "# Toggle for getting profiling information\n",
    "do_profiling              = False"
   ]
  },
  {
   "cell_type": "code",
   "execution_count": null,
   "metadata": {},
   "outputs": [],
   "source": [
    "if do_test :\n",
    "    variables                  = [\"pr\"]\n",
    "    version                    = \"_test\"\n",
    "    #variables                  = [\"pr\", \"pr\", \"pr\"]\n",
    "    #columns                    = \"Precipitation|Precipitation|Precipitation\"\n",
    "    #included_models            = [\"IPSL-CM6A-LR\",\"CESM2-WACCM\",\"CanESM5\"]    \n",
    "    included_models            = [\"IPSL-CM6A-LR\"]    \n",
    "    variability_models         = included_models\n",
    "    #ref_period                 = \"2014\" \n",
    "    # The plot script will set correct colors only if experiment order is ssp126/ssp245/ssp585\n",
    "    #experiments                = [\"ssp126\", \"ssp126\", \"ssp126\"] \n",
    "    #projection_period          = \"2099-2100\"\n",
    "    #variability_sampling_args = {\"house_keeping\":False,\"compute\":True,\"detrend\":True,\"shift\":100,\"nyears\":3,\"number\":3}\n",
    "\n"
   ]
  },
  {
   "cell_type": "code",
   "execution_count": null,
   "metadata": {
    "scrolled": true
   },
   "outputs": [],
   "source": [
    "from IPython.core.display import display, HTML, Image\n",
    "display(HTML(\"<style>.container { width:100% !important; }</style>\"))"
   ]
  },
  {
   "cell_type": "code",
   "execution_count": null,
   "metadata": {},
   "outputs": [],
   "source": [
    "if do_profiling: \n",
    "    import cProfile\n",
    "    import io\n",
    "    import pstats"
   ]
  },
  {
   "cell_type": "markdown",
   "metadata": {},
   "source": [
    "## Load CliMAF, ancillary functions and variability-related ones"
   ]
  },
  {
   "cell_type": "code",
   "execution_count": null,
   "metadata": {},
   "outputs": [],
   "source": [
    "import sys\n",
    "import os.path\n",
    "\n",
    "# Climaf setup and settings\n",
    "sys.path=[climaf_lib] + sys.path \n",
    "from climaf.api import *\n",
    "from climaf.cache import stamping\n",
    "climaf.cache.stamping=False\n",
    "\n",
    "# AR6 figures project packages\n",
    "sys.path.append(CAMMAC) \n",
    "from CAMMAClib.mips_et_al  import read_versions_dictionnary, table_for_var_and_experiment, \\\n",
    "                              institute_for_model, models_for_experiments, TSU_metadata\n",
    "from CAMMAClib.ancillary   import prettier_label,  feed_dic                   \n",
    "from CAMMAClib.variability import variability_AR5"
   ]
  },
  {
   "cell_type": "markdown",
   "metadata": {},
   "source": [
    "### Fix a things : default location for missing fixed fields, sign issue with some models for evspsbl\n",
    "### And define P-E"
   ]
  },
  {
   "cell_type": "code",
   "execution_count": null,
   "metadata": {},
   "outputs": [],
   "source": [
    "dataloc(project='CMIP6', organization='generic', \n",
    "        url=default_fixed_fields_dir+\"/${variable}_${table}_${model}_*_*${grid}.nc\")\n",
    "\n",
    "# Define P-E\n",
    "derive('CMIP6', 'P-E','minus','pr','evspsbl')\n",
    "\n",
    "# Fix sign or scale issue with some models for a few variables\n",
    "calias('CMIP6','evspsbl',scale=-1,\\\n",
    "       conditions={\"model\":[\"CAMS-CSM1-0\",\"EC-Earth3\",\"EC-Earth3-Veg\",\"EC-Earth3-LR\",\"EC-Earth3-Veg-LR\"]})\n",
    "calias('CMIP6','pr',scale=1000.,conditions={\"model\" : \"CIESM\"})\n",
    "calias('CMIP6','mrso',scale=1000.,conditions={\"model\" : \"CIESM\"})\n",
    "calias('CMIP6','mrsos',scale=100.,conditions={\"model\" : \"FGOALS-f3-L\"})"
   ]
  },
  {
   "cell_type": "code",
   "execution_count": null,
   "metadata": {},
   "outputs": [],
   "source": [
    "data_versions=read_versions_dictionnary(data_versions_tag,data_versions_dir)"
   ]
  },
  {
   "cell_type": "markdown",
   "metadata": {},
   "source": [
    "##  Optionally check that land mask fixed fields are reachable"
   ]
  },
  {
   "cell_type": "code",
   "execution_count": null,
   "metadata": {},
   "outputs": [],
   "source": [
    "if check_fixed_fields :\n",
    "    issue=False\n",
    "    for variable in variables :\n",
    "        for experiment in experiments :\n",
    "            for model,realization in models_for_experiments(data_versions,variable,table,[experiment],\n",
    "                                                            excluded_models.get(variable,[]),included_models) :\n",
    "                grid,version,data_period=data_versions[experiment][variable][table][model][realization]\n",
    "                base_dict=dict(project=\"CMIP6\", experiment=experiment,\n",
    "                    model=model, institute=institute_for_model(model),                      \n",
    "                    version=version, mip=\"ScenarioMIP\",realization=realization,\n",
    "                    table=\"fx\",period=\"fx\",variable=\"sftlf\",grid=grid)\n",
    "                try :\n",
    "                    cfile(ds(**base_dict))\n",
    "                except : \n",
    "                    print \"Issue for fixed field sftlf and model %s\"%model\n",
    "                    issue=True\n",
    "    if issue :\n",
    "        raise ValueError(\"Some sftlf fields are missing\")"
   ]
  },
  {
   "cell_type": "markdown",
   "metadata": {},
   "source": [
    "## Optionnally profile the code"
   ]
  },
  {
   "cell_type": "code",
   "execution_count": null,
   "metadata": {},
   "outputs": [],
   "source": [
    "if do_profiling: \n",
    "    pr = cProfile.Profile()\n",
    "    pr.enable()"
   ]
  },
  {
   "cell_type": "markdown",
   "metadata": {},
   "source": [
    "## Compute fields, print statistics and create one data file per variable and SSP"
   ]
  },
  {
   "cell_type": "code",
   "execution_count": null,
   "metadata": {
    "scrolled": false
   },
   "outputs": [],
   "source": [
    "# Put intermediate results in dictionnaries\n",
    "all_anomalies=dict()  # anomalies of piControl periods, for all models\n",
    "references=dict()\n",
    "projections=dict()\n",
    "changes=dict()\n",
    "changes_land=dict()\n",
    "count=dict()\n",
    "files=\"\"\n",
    "metadata=\"\"\n",
    "panel={ \"pr\"     : { \"ssp126\": \"a\",\"ssp245\": \"d\",\"ssp585\": \"g\", },\n",
    "        \"evspsbl\": { \"ssp126\": \"b\",\"ssp245\": \"e\",\"ssp585\": \"h\", },\n",
    "        \"P-E\"    : { \"ssp126\": \"c\",\"ssp245\": \"f\",\"ssp585\": \"i\", }}\n",
    "\n",
    "# Some operations have to be done on all dicts above\n",
    "dicts=[all_anomalies,references,projections,changes,changes_land]\n",
    "#\n",
    "if print_statistics :\n",
    "    print \"Values below are field medians\"\n",
    "    print \"exp. variable model                    reference   projection       change   change_land\"\n",
    "    print 120*\"-\"\n",
    "#\n",
    "\n",
    "for experiment in experiments :\n",
    "    for d in dicts : d[experiment]=dict()\n",
    "    count[experiment]=dict()\n",
    "    #\n",
    "    for variable in variables :\n",
    "        table=table_for_var_and_experiment(variable,experiment)\n",
    "        #\n",
    "        for d in dicts : d[experiment][variable]=cens()\n",
    "        count[experiment][variable]=0\n",
    "        #\n",
    "        # Populate an ensemble merging all piControl variability samples among models\n",
    "        #\n",
    "        control_pairs=models_for_experiments(data_versions,variable,table,[\"piControl\"],\n",
    "                                             variability_excluded_models.get(variable,[]),variability_models)\n",
    "        if len(control_pairs) == 0 :\n",
    "            raise ValueError(\"No model provides %s for piControl according to the versions dictionnary, among\"%variable+`variability_models`)\n",
    "        for model,realization in control_pairs :\n",
    "            print \"%s %4s %-20s\"%(experiment,variable, model),\n",
    "            metadata+=TSU_metadata(\"piControl\",[(model,realization)],variable,table,data_versions,panel[variable][experiment])\n",
    "            sample=variability_AR5(model,realization,variable,table,data_versions, season=\"anm\", project=\"CMIP6\",\n",
    "                    variability=False, **variability_sampling_args)\n",
    "            sample_mean=ccdo_ens(sample,operator=\"ensmean\")\n",
    "            departures=ccdo2(sample,sample_mean,operator=\"sub\")\n",
    "            departuresr=regridn(departures,cdogrid=common_grid)\n",
    "            for cperiod in sample :\n",
    "                all_anomalies[experiment][variable][model+\"_\"+cperiod]=departuresr[cperiod]\n",
    "        #\n",
    "        pairs=models_for_experiments(data_versions,variable,table,[\"historical\",experiment],\n",
    "                                     excluded_models.get(variable,[]),included_models)\n",
    "        if len(pairs) == 0 :\n",
    "            raise ValueError(\"No model provides %s according to the versions dictionnary, among\"%variable+`included_models`)\n",
    "        for model,realization in pairs :\n",
    "            print \"%s %4s %-20s\"%(experiment,variable, model),\n",
    "            #\n",
    "            # Build a dictionnary of facets for reference dataset\n",
    "            # \n",
    "            grid,version,_ = data_versions[ref_experiment][variable][table][model][realization]\n",
    "            base_dict=dict(project=\"CMIP6\", experiment=ref_experiment,\n",
    "                      model=model, institute=institute_for_model(model),\n",
    "                      period=ref_period, variable=variable, table=table, \n",
    "                      version=version, mip=\"CMIP\",realization=realization,grid=grid)\n",
    "            metadata+=TSU_metadata(ref_experiment,[(model,realization)],variable,table,data_versions,panel[variable][experiment])\n",
    "            #\n",
    "            # Compute reference time mean over requested season\n",
    "            #\n",
    "            reference_dict=base_dict.copy()\n",
    "            reference=clim_average_fast(ds(**reference_dict),\"anm\")\n",
    "            references[experiment][variable][model]=reference\n",
    "            #\n",
    "            # Compute projection time mean over requested season\n",
    "            #\n",
    "            projection_dict=reference_dict.copy()\n",
    "            _,version,_ = data_versions[experiment][variable][table][model][realization]\n",
    "            projection_dict.update(mip=\"ScenarioMIP\",experiment=experiment,\n",
    "                period=projection_period, realization=realization,version=version)\n",
    "            metadata+=TSU_metadata(experiment,[(model,realization)],variable,table,data_versions,panel[variable][experiment])\n",
    "            projection=clim_average_fast(ds(**projection_dict),'anm') \n",
    "            projections[experiment][variable][model]=projection\n",
    "            #\n",
    "            # Compute change and regrid to common grid \n",
    "            #\n",
    "            change=ccdo2(projection,reference,operator=\"sub\")\n",
    "            changes[experiment][variable][model]=regridn(change,cdogrid=common_grid)\n",
    "            #\n",
    "            # Same for land only\n",
    "            #\n",
    "            # Compute a land mask with 1 if land, else missing \n",
    "            sftlf=base_dict.copy()\n",
    "            sftlf.update(table=\"fx\",period=\"fx\",variable=\"sftlf\",experiment=\"piControl\")\n",
    "            land=ccdo_fast(ccdo_fast(ds(**sftlf),operator=\"setrtomiss,-1,99.9\"),operator=\"divc,100\")\n",
    "            # Apply land mask\n",
    "            change_land=ccdo2(change,land,operator=\"mul\")\n",
    "            changes_land[experiment][variable][model]=regridn(change_land,cdogrid=common_grid)\n",
    "            #\n",
    "            # \n",
    "            if print_statistics :\n",
    "                print \"       %7.2g      %7.2g      %7.2g   %7.2g \"%(\n",
    "                       cvalue(ccdo_fast(reference,operator=\"fldpctl,50\")),\\\n",
    "                       cvalue(ccdo_fast(projection,operator=\"fldpctl,50\")),\\\n",
    "                       cvalue(ccdo_fast(change,operator=\"fldpctl,50\")),\\\n",
    "                       cvalue(ccdo_fast(change_land,operator=\"fldpctl,50\"))),\n",
    "            count[experiment][variable] = count[experiment][variable] + 1\n",
    "            print             \n",
    "            #if not do_test : csync()\n",
    "        #\n",
    "        # Compute ensemble statistics over models\n",
    "        #\n",
    "        #print \"keys=\",changes[experiment][variable].keys()\n",
    "        #print \"values=\",changes[experiment][variable].values()\n",
    "        ensavg  = ccdo_ens(changes[experiment][variable],operator='ensmean')\n",
    "        ensstd1 = ccdo_ens(changes[experiment][variable],operator='ensstd1')\n",
    "        ensavg5 = ccdo2(ensavg,ccdo_fast(ensstd1,operator=\"mulc,1.645\"),operator=\"sub\")\n",
    "        ensavg95= ccdo2(ensavg,ccdo_fast(ensstd1,operator=\"mulc,1.645\"),operator=\"add\")\n",
    "        ensavg_land=ccdo_ens(changes_land[experiment][variable],operator='ensmean')\n",
    "        #\n",
    "        # Same on ensemble of anomalies for control run (ensemble over time slices and models)\n",
    "        #\n",
    "        variavg  = ccdo_ens(all_anomalies[experiment][variable],operator='ensmean')\n",
    "        varistd1 = ccdo_ens(all_anomalies[experiment][variable],operator='ensstd1')\n",
    "        variab5  = ccdo2(variavg,ccdo_fast(varistd1,operator=\"mulc,1.645\"),operator=\"sub\")\n",
    "        variab95 = ccdo2(variavg,ccdo_fast(varistd1,operator=\"mulc,1.645\"),operator=\"add\")\n",
    "        #\n",
    "        # Compute zonal means, group it as a CliMAF ensemble of 1d fields \n",
    "        #\n",
    "        lines=cens()\n",
    "        lines[\"pctl5\"]     = ccdo_fast(ensavg5,operator=\"zonmean\")\n",
    "        lines[\"variab5\"]   = ccdo_fast(variab5,operator=\"zonmean\")\n",
    "        lines[\"mean\"]      = ccdo_fast(ensavg,operator=\"zonmean\")\n",
    "        lines[\"variab95\"]  = ccdo_fast(variab95,operator=\"zonmean\")\n",
    "        lines[\"pctl95\"]    = ccdo_fast(ensavg95,operator=\"zonmean\")\n",
    "        lines[\"land_mean\"] = ccdo_fast(ensavg_land,operator=\"zonmean\")\n",
    "        #\n",
    "        # Create data file for this experiment and variable\n",
    "        #\n",
    "        fn=\"out_\"+experiment+\"_\"+variable+\".nc\"\n",
    "        efile(lines,fn,force=True)\n",
    "        files=files+\" \"+fn\n",
    "        print\n",
    "\n",
    "# Make sure to write CliMAF cache index, accounting for all these new fields\n",
    "#if not do_test : csync()\n",
    "\n",
    "print \"Done\"\n"
   ]
  },
  {
   "cell_type": "markdown",
   "metadata": {},
   "source": [
    "## Optionally profile the code"
   ]
  },
  {
   "cell_type": "code",
   "execution_count": null,
   "metadata": {},
   "outputs": [],
   "source": [
    "if do_profiling: \n",
    "    pr.disable()\n",
    "    s = io.BytesIO()\n",
    "    ps = pstats.Stats(pr, stream=s).sort_stats('cumulative')\n",
    "    ps.print_stats(40)\n",
    "    print s.getvalue()"
   ]
  },
  {
   "cell_type": "markdown",
   "metadata": {},
   "source": [
    "## Write the metadata file"
   ]
  },
  {
   "cell_type": "code",
   "execution_count": null,
   "metadata": {},
   "outputs": [],
   "source": [
    "if not os.path.exists(outdir): os.makedirs(outdir)\n",
    "with open(\"%s/%s%s_md.txt\"%(outdir,figure_name,version),\"w\") as f:\n",
    "        f.write(metadata)"
   ]
  },
  {
   "cell_type": "code",
   "execution_count": null,
   "metadata": {},
   "outputs": [],
   "source": [
    "#count={'ssp126': {'pr': 19, 'P-E': 18}, 'ssp585': {'pr': 19, 'P-E': 19}, 'ssp245': {'pr': 21, 'P-E': 20}}"
   ]
  },
  {
   "cell_type": "markdown",
   "metadata": {},
   "source": [
    "## Plot is done using a Ncl script \n",
    "### because Ncl support transparent shading between curves (and not e.g. PyNgl)"
   ]
  },
  {
   "cell_type": "markdown",
   "metadata": {},
   "source": [
    "files=\"out_ssp126_pr.nc out_ssp126_evspsbl.nc out_ssp126_P-E.nc out_ssp245_pr.nc out_ssp245_evspsbl.nc out_ssp245_P-E.nc out_ssp585_pr.nc out_ssp585_evspsbl.nc out_ssp585_P-E.nc\"\n",
    "columns=\"Precipitation|Evaporation|Precipitation minus evaporation\"\n",
    "lines=\"SSP1-1.9 (mm/day)|SSP2-4.5 (mm/day)|SSP5-8.5 (mm/day)\"\n",
    "labels=\"3 models| 3 models| 3 models| 3 models| 3 models| 3 models| 3 models| 3 models| 3 models\"\n",
    "title=\"title\"\n",
    "nx=3\n",
    "ny=3\n",
    "command=\"ncl -Q \"+CAMMAC+\"/notebooks/change_zonal_mean.ncl \"+\\\n",
    "  \"'title=\\\"%s\\\"' 'files=\\\"%s\\\"' 'nx=%d' 'ny=%d' \"%(title,files,nx,ny) +\\\n",
    "  \"'columns=\\\"%s\\\"' 'lines=\\\"%s\\\"' 'graphs=\\\"%s\\\"' 'format=\\\"1200x1800\\\"' \"%(columns,lines,labels)\n",
    "print \"executing : \",command\n",
    "! {command}"
   ]
  },
  {
   "cell_type": "code",
   "execution_count": null,
   "metadata": {},
   "outputs": [],
   "source": [
    "figure_filename=\"zonal_mean_%s_%s_%s_%s%s.png\"%(variables[0],variables[1],variables[2],data_versions_tag,version)\n",
    "#\n",
    "labels=\"\"\n",
    "lines=\"\"\n",
    "for experiment in experiments :\n",
    "    lines=lines+\"%s (%s)|\"%(prettier_label.get(experiment,experiment),unit)\n",
    "    for variable in variables :\n",
    "        labels+=\" %s models|\"%count[experiment][variable]\n",
    "labels=labels[:-1]\n",
    "lines=lines[:-1]\n",
    "#\n",
    "nx=len(variables)\n",
    "ny=len(experiments)\n",
    "#\n",
    "#print \"files=\",files\n",
    "#print \"columns=\",columns\n",
    "#print \"lines=\",lines\n",
    "#print \"labels=\",labels\n",
    "#\n",
    "command=\"ncl -Q \"+CAMMAC+\"/notebooks/change_zonal_mean.ncl \"+\\\n",
    "  \"'title=\\\"%s\\\"' 'files=\\\"%s\\\"' 'nx=%d' 'ny=%d' \"%(title,files,nx,ny) +\\\n",
    "  \"'columns=\\\"%s\\\"' 'lines=\\\"%s\\\"' 'graphs=\\\"%s\\\"' 'format=\\\"1200x1800\\\"' \"%(columns,lines,labels)+\\\n",
    "  \"'fact=%g' \"%factor\n",
    "print \"executing : \",command\n",
    "\n",
    "! rm -f {figure_filename}\n",
    "! {command}\n",
    "! mv zonal_means.png {outdir}/{figure_filename}\n",
    "! ln -sf {figure_filename} {outdir}/{figure_name}.png \n",
    "#\n",
    "\n",
    "Image(figure_filename)"
   ]
  },
  {
   "cell_type": "markdown",
   "metadata": {},
   "source": [
    "## Investigate issue over Antarctica for 'pr'"
   ]
  },
  {
   "cell_type": "code",
   "execution_count": null,
   "metadata": {},
   "outputs": [],
   "source": [
    "#pb=changes_land[\"ssp585\"][\"pr\"]\n",
    "#for model in pb :\n",
    "#    zm=ccdo_fast(pb[model],operator=\"zonmean\")\n",
    "    "
   ]
  }
 ],
 "metadata": {
  "language_info": {
   "name": "python",
   "pygments_lexer": "ipython2"
  },
  "kernelspec": {
   "name": "python2",
   "display_name": "Python 2",
   "language": "python"
  }
 },
 "nbformat": 4,
 "nbformat_minor": 2
}
