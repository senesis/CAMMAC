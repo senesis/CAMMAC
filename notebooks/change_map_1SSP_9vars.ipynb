{
 "cells": [
  {
   "cell_type": "markdown",
   "metadata": {},
   "source": [
    "# AR6/WGI Chapter 8\n",
    "\n",
    "# Build a figure showing long-term change for 9 water cycle variables for one SSP\n",
    "\n",
    "## S.Sénési - sept 2019 to march 2021\n",
    "\n",
    "### A few commands below are specific to the Notebook environment, and can be safely commented out"
   ]
  },
  {
   "cell_type": "markdown",
   "metadata": {},
   "source": [
    "## Default settings (some may be overriden by Papermill - this would show in next cell in the execution output notebook)"
   ]
  },
  {
   "cell_type": "code",
   "execution_count": null,
   "metadata": {
    "tags": [
     "parameter",
     "parameters"
    ]
   },
   "outputs": [],
   "source": [
    "do_test              = False\n",
    "\n",
    "figure_name          = \"FigTS-2-10\"\n",
    "# Version number will be a suffix for automatic figure filename. Use e.g. \"_V1\" for legibility\n",
    "version              = \"\"\n",
    "manual_title         = None  # Will replace automatic title if not None\n",
    "\n",
    "#See doc for data_versions in sibling directory data_versions\n",
    "data_versions_tag   = \"20200719d\"\n",
    "data_versions_dir   = \"/home/ssenesi/CAMMAC/select_data_versions\"\n",
    "excluded_models     = { }\n",
    "included_models     = None\n",
    "\n",
    "#\n",
    "experiment          = \"ssp245\"\n",
    "proj_period         = \"2081-2100\"\n",
    "#\n",
    "ref_experiment      = \"historical\"\n",
    "ref_period          = \"1995-2014\" \n",
    "#\n",
    "season              = \"ANN\"        # Other choices do not make sense for some variables (yet)\n",
    "field_type          = \"mean_rchange\" # Ranges in figures are not tuned for other choices ...\n",
    "#\n",
    "# If pre-computed fields for this SSP, season and projection_period are available, should we use it ?\n",
    "# Set it to False for recomputing and printing fields and field changes statistics\n",
    "# No problem if set to True and pre-computed fields does not exist\n",
    "use_cached_proj_fields = True   \n",
    "#\n",
    "outdir              = \"./figures\"\n",
    "cache_dir           = \"./cache\"\n",
    "variab_sampling_args= {\"house_keeping\":True,\"compute\":True,\"detrend\":True,\"shift\":100,\"nyears\":20,\"number\":20}\n",
    "figure_details      = {\"page_width\":2450,\"page_height\":3444,\"pt\":48, \"ybox\":133,\"y\":52}\n",
    "common_grid         = \"r360x180\"\n",
    "antarctic_mask      = \"/home/ssenesi/CAMMAC/data/mask_hide_antarctic_360x180.nc\"\n",
    "\n",
    "\n",
    "\n",
    "# Location of libraries\n",
    "#######################\n",
    "# Climaf version >= 1.2.13 (see https://climaf.readthedocs.io)\n",
    "climaf_lib          = \"/home/ssenesi/climaf_installs/climaf_running\" \n",
    "# AR6/WGI/chapter8 CliMAF-based package\n",
    "CAMMAC              = \"/home/ssenesi/CAMMAC\"\n",
    "\n",
    "\n",
    "# If some basic fields are to be plotted for each model :\n",
    "\n",
    "#   - which fields should be actually plotted\n",
    "# plot_for_each_model    = [ \"reference\", \"projection\", \"change\", \"rchange\", \"schange\", \"variability\" ]\n",
    "plot_for_each_model    = [ ]\n",
    "#   - and with which common plot_parameters\n",
    "custom_plot_all_fields = { \"proj\" : \"Robinson\", \"mpCenterLonF\" : 0., \"options\" : \"lbBoxEndCapStyle=TriangleBothEnds\", \"focus\":\"land\"}\n",
    "#   - and which range should be used\n",
    "ranges = {}   # The baseline value !\n",
    "# Values below fit the case of mrso\n",
    "#ranges={ \"reference\" : { \"min\" : 0., \"max\" : 3000. , \"delta\" : 200. } ,\n",
    "#        \"projection\" : { \"min\" : 0., \"max\" : 3000. , \"delta\" : 200. } ,\n",
    "#        \"change\"     : { \"min\" :1000.,\"max\":-1000. , \"delta\":200.} , \n",
    "#        \"rchange\"    : { \"min\" : -25., \"max\" : 25. , \"delta\" : 5. } ,\n",
    "#        \"schange\"    : { \"colors\": \"-5 -2 -1 -0.5 -0.25 0. 0.25 0.5 1 2 5\"  , \"units\":\"-\", \"color\":\"AR6_Precip_12s\" } , \n",
    "#        \"variability\": { \"min\" : 0., \"max\" : 1. , \"delta\" : 0.1 } ,\n",
    "#       }\n",
    "\n",
    "variables_for_each_model = [ (\"pr\",\"plain\"), ]"
   ]
  },
  {
   "cell_type": "code",
   "execution_count": null,
   "metadata": {},
   "outputs": [],
   "source": [
    "if do_test :\n",
    "    version             = \"_test\"\n",
    "    proj_period         = \"2100\"\n",
    "    ref_period          = \"2014\" \n",
    "    included_models     = [\"CNRM-CM6-1\"]"
   ]
  },
  {
   "cell_type": "markdown",
   "metadata": {},
   "source": [
    "## Loading libraries"
   ]
  },
  {
   "cell_type": "code",
   "execution_count": null,
   "metadata": {},
   "outputs": [],
   "source": [
    "import sys, os\n",
    "\n",
    "# Climaf setup (version >= 1.2.13 - see https://climaf.readthedocs.io)\n",
    "sys.path.append(climaf_lib) \n",
    "from climaf.api import *\n",
    "\n",
    "# Climaf settings\n",
    "from climaf.cache import stamping\n",
    "climaf.cache.stamping=False\n",
    "\n",
    "# AR6 figures project package\n",
    "sys.path.append(CAMMAC    ) \n",
    "from CAMMAClib.changes     import AR6_change_figure_with_caching\n",
    "from CAMMAClib.ancillary   import prettier_label\n",
    "from CAMMAClib.mips_et_al  import TSU_metadata, read_versions_dictionnary"
   ]
  },
  {
   "cell_type": "code",
   "execution_count": null,
   "metadata": {},
   "outputs": [],
   "source": [
    "# Fix sign issue with some models for evspsbl\n",
    "calias('CMIP6','evspsbl',scale=-1,conditions={\"model\":[\"CAMS-CSM1-0\",\"EC-Earth3\",\"EC-Earth3-Veg\"]})\n",
    "\n",
    "# Define P-E\n",
    "derive('CMIP6', 'P-E','minus','pr','evspsbl')"
   ]
  },
  {
   "cell_type": "markdown",
   "metadata": {},
   "source": [
    "### If using a notebook, use wide display"
   ]
  },
  {
   "cell_type": "code",
   "execution_count": 1,
   "metadata": {},
   "outputs": [
    {
     "data": {
      "text/html": [
       "<style>.container { width:100% !important; }</style>"
      ],
      "text/plain": [
       "<IPython.core.display.HTML object>"
      ]
     },
     "metadata": {},
     "output_type": "display_data"
    }
   ],
   "source": [
    "from IPython.core.display import display, HTML, Image\n",
    "display(HTML(\"<style>.container { width:100% !important; }</style>\"))"
   ]
  },
  {
   "cell_type": "markdown",
   "metadata": {},
   "source": [
    "## Next function combines global variables and its own arguments for calling AR6_change_figure_with_caching"
   ]
  },
  {
   "cell_type": "code",
   "execution_count": null,
   "metadata": {},
   "outputs": [],
   "source": [
    "def afigure(variable, title, panel, plot_args,  derivation_label = \"plain\",field_type = field_type, \n",
    "            mask = None, table = \"Amon\", data_versions_tag = data_versions_tag):\n",
    "\n",
    "    global metadata\n",
    "    \n",
    "    fig_file,fig,dic,variab_models,models = AR6_change_figure_with_caching(\n",
    "        ref_period = ref_period, proj_period = proj_period, \n",
    "        variable = variable, table = table, ref_experiment = ref_experiment,\n",
    "        experiment = experiment, season = season,\n",
    "        derivation_label = derivation_label, \n",
    "        field_type = field_type,\n",
    "        title = panel+\") \"+ title\n",
    "        custom_plot = plot_args, labelbar = \"True\", \n",
    "        data_versions_tag = data_versions_tag, data_versions_dir = data_versions_dir,\n",
    "        excluded_models = excluded_models.get(variable,[]), models = included_models,\n",
    "        outdir = outdir,\n",
    "        #\n",
    "        common_grid = common_grid, mask=mask,\n",
    "        variab_sampling_args = variab_sampling_args,\n",
    "        cache_dir = cache_dir, read = use_cached_proj_fields, write = True, \n",
    "        print_statistics = True , deep = None,  \n",
    "        )\n",
    "    metadata += TSU_metadata([ref_experiment,experiment],models       ,variable,table,data_versions,panel)\n",
    "    metadata += TSU_metadata([\"piControl\"]              ,variab_models,variable,table,data_versions,panel)\n",
    "    return fig,dic"
   ]
  },
  {
   "cell_type": "markdown",
   "metadata": {},
   "source": [
    "## Compute figures for the nine variables"
   ]
  },
  {
   "cell_type": "code",
   "execution_count": null,
   "metadata": {
    "collapsed": true
   },
   "outputs": [],
   "source": [
    "\n",
    "col100={\"colors\":\"-100 -75 -50 -25 -10   0   10 25 50 75 100 \"}\n",
    "col40={\"colors\":\"-40 -30 -20 -10 -5   0   5   10  20 30 40 \"}\n",
    "col20={\"colors\":\"-20 -15 -10  -5 -2.5 0 2.5    5  10 15 20 \"}\n",
    "col10={\"colors\":\"-10 -8 -6 -4 -2 0 2 4 6 8 10\"}\n",
    "\n",
    "data_versions=read_versions_dictionnary(data_versions_tag, data_versions_dir)\n",
    "dic=dict()\n",
    "\n",
    "if True :\n",
    "    metadata=\"\"\n",
    "    #\n",
    "    l1c1,dic[(\"pr\",\"plain\")]      = afigure(\"pr\"     ,\"Precipitation\"               ,\"a\",col40)\n",
    "    \n",
    "    l1c2,dic[(\"evspsbl\",\"plain\")] = afigure(\"evspsbl\",\"Evapotranspiration\"          ,\"b\",col40)\n",
    "    \n",
    "    l1c3,dic[(\"P-E\",\"plain\")]     = afigure(\"P-E\"    ,\"P-E\"                         ,\"c\",col40, field_type=\"median_rchange\")\n",
    "    #\n",
    "    #\n",
    "    l2c1,dic[(\"mrro\",\"plain\")]    = afigure(\"mrro\"   ,\"Runoff\"                      ,\"d\",col40, table=\"Lmon\",mask=antarctic_mask)\n",
    "    \n",
    "    l2c2,dic[(\"mrsos\",\"plain\")]   = afigure(\"mrsos\"  ,\"Surface soil moisture\"       ,\"e\",col10, table=\"Lmon\",mask=antarctic_mask)\n",
    "    \n",
    "    colsos={\"focus\":\"ocean\",\"colors\":\"-2.5 -2. -1.5 -1.0 -0.5 0 0.5 1.0 1.5 2.0 2.5 \",\"color\":\"AR6_MiscDiv_12\"}\n",
    "    l2c3,dic[(\"sos\",\"plain\")]     = afigure(\"sos\"    ,\"Sea surface salinity\"        ,\"f\",colsos, table=\"Omon\")\n",
    "              #\"colors\":\"-0.15 -0.1 -0.05 -0.025 -0.01 0 0.01 0.025 0.05 0.1 0.15 \n",
    "    #\n",
    "    #\n",
    "    coldry={\"color\":\"AR6_Temp_12s\" , \"colors\":\"-20 -15 -10  -5 -2.5 0 2.5    5  10 15 20 \"}\n",
    "    l3c1,dic[(\"pr\",\"day\")]  = afigure(\"pr\"     ,\"Number of dry days\"          ,\"g\",coldry, table=\"day\", derivation_label=\"dry\")\n",
    "    \n",
    "    col_seas={\"color\":\"AR6_Temp_12s\" , \"colors\":\"-20 -15 -10  -5 -2.5 0 2.5  5  10 15 20\"}\n",
    "    l3c2,dic[(\"pr\",\"seasonality\")] = afigure(\"pr\"     ,\"Precipitation seasonality\",   \"h\",col_seas, derivation_label=\"seasonality\")\n",
    "    \n",
    "    l3c3,dic[(\"pr\",\"iav\")]         = afigure(\"pr\"     ,\"Precip. inter-annual variab.\"   ,\"i\",col40   , derivation_label=\"iav\")\n",
    "    #\n",
    "    #gini_plot={\"color\":\"AR6_Precip_12s\"}\n",
    "    #gini_plot.update(col40)\n",
    "    #l3c3=afigure(\"pr\"     ,\"Precipitation Gini index\"   ,gini_plot, derivation_label=\"gini\" )\n",
    "    #\n",
    "    import os.path\n",
    "    if not os.path.exists(outdir):\n",
    "        os.makedirs(outdir)\n",
    "    with open(\"%s/%s%s_md\"%(outdir,figure_name,version),\"w\") as f:\n",
    "        f.write(metadata)\n"
   ]
  },
  {
   "cell_type": "markdown",
   "metadata": {},
   "source": [
    "## Assemble plots"
   ]
  },
  {
   "cell_type": "code",
   "execution_count": null,
   "metadata": {},
   "outputs": [],
   "source": [
    "if manual_title is None :\n",
    "    title=\"Long term water cycle variables relative changes for %s (%s vs %s)\"%(prettier_label[experiment],proj_period,ref_period)\n",
    "else:\n",
    "    title=manual_title\n",
    "    \n",
    "page=cpage([[l1c1,l1c2,l1c3],\n",
    "            [l2c1,l2c2,l2c3],\n",
    "            [l3c1,l3c2,l3c3]], \n",
    "    title=title,**figure_details)\n",
    "\n",
    "outfile=\"change_map_9vars_1SSP_%s_%s_%s%s.png\"%(experiment,proj_period,data_versions_tag,version)\n",
    "cfile(page,outdir+\"/\"+outfile)\n",
    "os.system(\"cd %s ; ln -sf %s %s%s.png\"%(outdir,outfile,figure_name,version))\n",
    "#\n",
    "small=outfile.replace(\".png\",\".small.png\")\n",
    "os.system(\"cd %s ; convert -geometry 50%% %s %s\"%(outdir,outfile,small))\n",
    "os.system(\"cd %s ; ln -sf %s %s%s_small.png\"%(outdir,small,figure_name,version))\n"
   ]
  },
  {
   "cell_type": "markdown",
   "metadata": {},
   "source": [
    "## If using a notebook , display result"
   ]
  },
  {
   "cell_type": "code",
   "execution_count": null,
   "metadata": {
    "scrolled": true
   },
   "outputs": [],
   "source": [
    "Image(outfile,width=800)"
   ]
  },
  {
   "cell_type": "markdown",
   "metadata": {},
   "source": [
    "## Plotting all models for all field types and all variables"
   ]
  },
  {
   "cell_type": "code",
   "execution_count": null,
   "metadata": {},
   "outputs": [],
   "source": [
    "for field_type in plot_for_each_model :\n",
    "    #\n",
    "    for variable,derivation_label in variables_for_each_model : \n",
    "        #\n",
    "        plotargs=custom_plot_all_fields.copy()\n",
    "        plotargs.update(ranges[variable].get(field_type,{}))\n",
    "        allplots=plot(cens(dic[(variable,derivation_label)][experiment][season][field_type][derivation_label]),**plotargs)\n",
    "        page=cpage(allplots,page_width=1200,page_height=1700,title=\"%s_%s_%s_%s_%s\"%(variable,derivation_label,field_type,experiment,season))\n",
    "        pagename=\"%s/all_models_%s_%s_%s_%s_%s_%s.png\"%(outdir,variable,derivation_label,field_type,experiment,season,data_versions_tag)\n",
    "        cfile(page,pagename)"
   ]
  }
 ],
 "metadata": {
  "kernelspec": {
   "display_name": "Python 2",
   "language": "python",
   "name": "python2"
  },
  "language_info": {
   "codemirror_mode": {
    "name": "ipython",
    "version": 2
   },
   "file_extension": ".py",
   "mimetype": "text/x-python",
   "name": "python",
   "nbconvert_exporter": "python",
   "pygments_lexer": "ipython2",
   "version": "2.7.15"
  }
 },
 "nbformat": 4,
 "nbformat_minor": 2
}
