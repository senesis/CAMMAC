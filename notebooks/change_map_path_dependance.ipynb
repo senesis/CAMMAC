{
 "cells": [
  {
   "cell_type": "markdown",
   "metadata": {},
   "source": [
    "# AR6/WGI Chapter 8\n",
    "# Build a figure showing the changes in some (raw or transformed) variable at two levels of warming, and their diff, for 2 seasons\n",
    "## Including stippling for consistency among models, and optionnally for significance vs internal variability (+ hatching)\n",
    "## S.Sénési - sept 2019 to march 2021\n",
    "### A few commands below are specific to the Notebook environment, and can be safely commented out\n"
   ]
  },
  {
   "cell_type": "markdown",
   "metadata": {},
   "source": [
    "## General settings"
   ]
  },
  {
   "cell_type": "code",
   "execution_count": 17,
   "metadata": {
    "tags": [
     "parameters"
    ]
   },
   "outputs": [],
   "source": [
    "do_test                  = False\n",
    "\n",
    "figure_name               = \"Fig8-26\"\n",
    "version                   = \"\" # a suffix for figure filename. Use e.g. \"_V1\" for legibility\n",
    "# Figure title\n",
    "title                     = \"Effect on precipitation of first versus second 2 degrees \\n\"+\\\n",
    "                            \"of global warming (vs 1850-1900)\"\n",
    "outdir                    = \"./figures\"\n",
    "\n",
    "\n",
    "#See doc for data_versions in sibling directory data_versions\n",
    "data_versions_tag         = \"20200719d\"\n",
    "excluded_models           = [ ]\n",
    "included_models           = None\n",
    "variability_excluded_models= []\n",
    "variability_models        = None\n",
    "data_versions_dir         = \"/home/ssenesi/CAMMAC/select_data_versions\"\n",
    "\n",
    "variable                  = \"pr\"     \n",
    "table                     = \"Amon\"         # Script was yet tested only for a monthly table\n",
    "variable_transformation   = \"plain\"        # Could be 'iav', 'gini', 'welsh', 'dry'...\n",
    "seasons                   = [\"DJF\",\"JJA\"]  # any CDO season, not tested for \"ANN\". Graph is tuned for showing 2 seasons\n",
    "experiment                = \"ssp585\"\n",
    "first_delta               = 2.0         # Temperature change for the first   interval (usually 2°)\n",
    "second_delta              = 4.0         # Temperature change for the ssecond interval (usually 4°)   \n",
    "proj_period               = \"2015-2099\" # period investigated for the warming\n",
    "ref_experiment            = \"historical\"\n",
    "ref_period                = \"1850-1900\" \n",
    "window_half_size          = 10          # For time filtering of atmospheric temperature before analyzing 2K and 4K warming (unit=year)\n",
    "field_type                = \"rmean\"        # Type of change field : mean or rmean (for mean of relative changes) or rmeans (for relative change fo means)\n",
    "#threshold                 = 0.1/(24*3600) # A threshold on seasonal means for individual relative changes. Can be  :None. Here:  0.1 mm/day converted to kg m2 s-1\n",
    "threshold                 = None\n",
    "# Plot tuning below is for precipitation and rmean (relative mean)\n",
    "plot_args                 = dict(color=\"AR6_Precip_12s\", colors=\"-80. -40. -20. -10. -5. 0 5. 10. 20. 40. 80. \")\n",
    "with_variability          = True # Should we use variability for stippling and hatching\n",
    "#\n",
    "#\n",
    "# Other details\n",
    "figure_details            = {\"page_width\":2450,\"page_height\":3444, \"insert_width\":2000,\"pt\":60, \"ybox\":133,\"y\":40}\n",
    "common_grid               = \"r360x180\"\n",
    "variability_sampling_args = {\"house_keeping\":True,\"compute\":True,\"detrend\":True,\"shift\":100,\"nyears\":20,\"number\":20}\n",
    "#\n",
    "# Location of libraries\n",
    "#######################\n",
    "# Climaf version >= 1.2.13 (see https://climaf.readthedocs.io)\n",
    "climaf_lib                = \"/home/ssenesi/climaf_installs/climaf_running\" \n",
    "# AR6/WGI/chapter8 CliMAF-based package\n",
    "CAMMAC                       = \"/home/ssenesi/CAMMAC\""
   ]
  },
  {
   "cell_type": "code",
   "execution_count": 18,
   "metadata": {},
   "outputs": [],
   "source": [
    "if do_test :\n",
    "    version             = \"_test\"\n",
    "    ref_period          = \"1850\" \n",
    "    included_models     = [\"CNRM-CM6-1\"]    \n",
    "    variability_models  = [\"GFDL-CM4\", \"CNRM-CM6-1\"]#,\"HadGEM3-GC31-LL\",\"HadGEM3-GC31-MM\"]    \n",
    "    seasons             = [\"DJF\",\"DJF\"] \n",
    "    field_type          = \"rmeans\"      \n"
   ]
  },
  {
   "cell_type": "markdown",
   "metadata": {},
   "source": [
    "## Load libraries"
   ]
  },
  {
   "cell_type": "code",
   "execution_count": 6,
   "metadata": {},
   "outputs": [
    {
     "name": "stdout",
     "output_type": "stream",
     "text": [
      "python => 2.7.15 | packaged by conda-forge | (default, Jul  2 2019, 00:39:44) \n",
      "[GCC 7.3.0]\n",
      "---\n",
      "Required softwares to run CliMAF => you are using the following versions/installations:\n",
      "ncl 6.6.2 => /modfs/ipslfs/dods/jservon/miniconda/envs/analyse_env_2.7/bin/ncl\n",
      "cdo 1.9.6 => /opt/nco/1.9/bin/cdo\n",
      "nco (ncks) \"4.3.6\" => /usr/bin/ncks\n",
      "ncdump fichier => /prodigfs/ipslfs/dods/jservon/miniconda/envs/cesmep_env/bin/ncdump\n",
      "Check stamping requirements\n",
      "nco (ncatted) found -> /usr/bin/ncatted\n",
      "convert found -> /usr/bin/convert\n",
      "pdftk found -> /usr/bin/pdftk\n",
      "exiv2 found -> /home/ssenesi/climaf_installs/climaf_running/bin/exiv2\n",
      "---\n",
      "CliMAF install => /home/ssenesi/climaf_installs/climaf_running\n"
     ]
    },
    {
     "name": "stderr",
     "output_type": "stream",
     "text": [
      "CliMAF version = 2.0.0\n",
      "Cache directory set to : /data/ssenesi/climafcache (use $CLIMAF_CACHE if set) \n",
      "Cache directory for remote data set to : /data/ssenesi/climafcache/remote_data (use $CLIMAF_REMOTE_CACHE if set) \n",
      "No reachable lmdz_SE library\n",
      "Available macros read from ~/.climaf.macros are : []\n"
     ]
    }
   ],
   "source": [
    "import sys, os\n",
    "\n",
    "# Climaf settings\n",
    "sys.path=[climaf_lib] + sys.path\n",
    "from climaf.api import *\n",
    "from climaf.cache import stamping\n",
    "climaf.cache.stamping=False\n",
    "\n",
    "# AR6 figures project packages\n",
    "sys.path.append(CAMMAC) \n",
    "from CAMMAClib.changes     import AR6_change_figure, global_change\n",
    "from CAMMAClib.ancillary   import create_labelbar, feed_dic\n",
    "from CAMMAClib.variability import agreement_fraction_on_sign, variability_AR5, stippling_hatching_masks_AR5\n",
    "from CAMMAClib.mips_et_al  import read_versions_dictionnary, institute_for_model, mip_for_experiment, \\\n",
    "                               models_for_experiments_multi_var, models_for_experiments, TSU_metadata\n",
    "\n",
    "# Fix sign issue with some models for evspsbl (in case this script was applied to evspsbl)\n",
    "calias('CMIP6','evspsbl',scale=-1,conditions={\"model\":[\"CAMS-CSM1-0\",\"EC-Earth3\",\"EC-Earth3-Veg\"]})\n"
   ]
  },
  {
   "cell_type": "code",
   "execution_count": 7,
   "metadata": {},
   "outputs": [],
   "source": [
    "# Fix sign issue with some models for evspsbl\n",
    "calias('CMIP6','evspsbl',scale=-1,conditions={\"model\":[\"CAMS-CSM1-0\",\"EC-Earth3\",\"EC-Earth3-Veg\"]})\n",
    "\n",
    "# Define P-E\n",
    "derive('CMIP6', 'P-E','minus','pr','evspsbl')\n",
    "\n",
    "metadata=\"\""
   ]
  },
  {
   "cell_type": "code",
   "execution_count": 8,
   "metadata": {},
   "outputs": [
    {
     "data": {
      "text/html": [
       "<style>.container { width:100% !important; }</style>"
      ],
      "text/plain": [
       "<IPython.core.display.HTML object>"
      ]
     },
     "metadata": {},
     "output_type": "display_data"
    }
   ],
   "source": [
    "from IPython.core.display import display, HTML\n",
    "display(HTML(\"<style>.container { width:100% !important; }</style>\"))"
   ]
  },
  {
   "cell_type": "markdown",
   "metadata": {},
   "source": [
    "## Compute global all-season warming for each model, identifies those reaching the second level of warming, and store years of first and second level"
   ]
  },
  {
   "cell_type": "code",
   "execution_count": 9,
   "metadata": {},
   "outputs": [
    {
     "name": "stdout",
     "output_type": "stream",
     "text": [
      "Global_change - processing           CNRM-CM6-1 r1i1p1f2 v20190219 GTAS = 286.085\n",
      "\n",
      "These models don't reach 4.0 K warming []\n",
      "\n",
      "These 1 models DO reach 4.0 K warming [('CNRM-CM6-1', 5.373923301696777)]\n",
      "\n",
      "Years of 2.0 warming {('CNRM-CM6-1', u'r1i1p1f2'): 2042}\n",
      "\n",
      "Years of 4.0 warming {('CNRM-CM6-1', u'r1i1p1f2'): 2073}\n"
     ]
    }
   ],
   "source": [
    "# Read dictionnary of data versions (see sibling directory data_versions)\n",
    "data_versions=read_versions_dictionnary(data_versions_tag,data_versions_dir)\n",
    "\n",
    "# Identify models with data for relevant experiments : projection and reference, for 'tas' and variable of interest\n",
    "models=models_for_experiments_multi_var(data_versions,[(variable,table),(\"tas\",\"Amon\")],\n",
    "                              [ref_experiment,experiment],excluded_models,included_models)\n",
    "\n",
    "# Also identify models with data for computing variability\n",
    "control_models=models_for_experiments(data_versions,variable,table,\n",
    "                              [\"piControl\"],variability_excluded_models,variability_models)\n",
    "if with_variability and len(control_models)==0 :\n",
    "    raise ValueError(\"No model has data for computing variability for %s and %s (%s,%s)\"%\\\n",
    "                     (variable,table,variability_excluded_models,variability_models))\n",
    "\n",
    "# compute ensemble of warming series along projection period of choosen experiment\n",
    "GSAT=global_change(\"tas\",\"Amon\",experiment,proj_period,ref_experiment,ref_period,models,\n",
    "                   data_versions,filter_length=2*window_half_size+1)\n",
    "\n",
    "max_change=dict()\n",
    "models_warming_enough=[]\n",
    "models_not_warming_enough=[]\n",
    "year2=dict()\n",
    "year4=dict()\n",
    "for model,variant in models :\n",
    "    max_change[model]=cvalue(ccdo_fast(GSAT[model],operator=\"timmax\"))\n",
    "    if max_change[model]>= 4. :\n",
    "        models_warming_enough.append((model,max_change[model]))\n",
    "        metadata+=TSU_metadata([ref_experiment,experiment],[(model,variant)],\"tas\",\"Amon\",data_versions)\n",
    "        # year=2025 ; \n",
    "        year=int(proj_period.split(\"-\")[0]) + window_half_size\n",
    "        found2=False\n",
    "        for v in cMA(GSAT[model]).flatten().data :\n",
    "            if v >= first_delta and not found2 :\n",
    "                found2=True\n",
    "                year2[(model,variant)]=year\n",
    "            if v >= second_delta :\n",
    "                year4[(model,variant)]=year\n",
    "                break\n",
    "            year+=1\n",
    "    else :\n",
    "        models_not_warming_enough.append((model,max_change[model]))\n",
    "\n",
    "for model,realization in control_models : \n",
    "    metadata+=TSU_metadata(\"piControl\",[(model,realization)],variable,table,data_versions)\n",
    "\n",
    "print \"\\nThese models don't reach %s K warming\"%second_delta,models_not_warming_enough\n",
    "print \"\\nThese %d models DO reach %s K warming\"%(len(models_warming_enough),second_delta), models_warming_enough\n",
    "print \"\\nYears of %s warming\"%first_delta,year2\n",
    "print \"\\nYears of %s warming\"%second_delta,year4\n",
    "    "
   ]
  },
  {
   "cell_type": "markdown",
   "metadata": {},
   "source": [
    "## Compute changes at 2 and 4 degrees, difference of changes, and stippling+hatching fields (for both seasons)"
   ]
  },
  {
   "cell_type": "code",
   "execution_count": 10,
   "metadata": {},
   "outputs": [
    {
     "name": "stdout",
     "output_type": "stream",
     "text": [
      "DJF : \n",
      "DJF : \n"
     ]
    }
   ],
   "source": [
    "cases=[\"2\",\"4_2\",\"4_2_2\"]\n",
    "\n",
    "def compute_change_fields() :\n",
    "\n",
    "    \n",
    "    fields=dict() # Returned dict of fields for plot : means of changes, stippling masks, hatching masks\n",
    "    # Strucure is :\n",
    "    #     fields[season][case][choice] \n",
    "    # with 'choice' varying among  : mean,median,rmean,rmedian,stippling,hatching (where prefix 'r' means 'relative')\n",
    "\n",
    "    diffs =dict()  # diffs[season][case][case][model]  where 'case'  is either 'plain' or 'relative'\n",
    "\n",
    "    if threshold is not None :\n",
    "        threshold_string=\"%f\"%threshold\n",
    "        \n",
    "    metadata=\"\"\n",
    "    for season in seasons:\n",
    "        print season+\" : \",\n",
    "        fields[season]=dict()\n",
    "        #\n",
    "        for model,realization in year4 :\n",
    "            #print model,\n",
    "            \n",
    "            # Compute reference field\n",
    "            grid,version,_= data_versions[ref_experiment][variable][table][model][realization]\n",
    "            dref = dict(project=\"CMIP6\", experiment=ref_experiment,\n",
    "                model=model, institute=institute_for_model(model),\n",
    "                period=ref_period, variable=variable, table=table, \n",
    "                version=version, grid=grid,mip=mip_for_experiment(ref_experiment),\n",
    "                realization=realization)\n",
    "            metadata+=TSU_metadata(ref_experiment,[(model,realization)],variable,table,data_versions)\n",
    "            ref = ccdo(ds(**dref),operator=\"timmean -selseason,%s\"%season)\n",
    "            feed_dic(diffs,regridn(ref,cdogrid=common_grid),season,\"2\",\"ref\",model)\n",
    "            #\n",
    "            # Move to projection experiment\n",
    "            dic = dref.copy()\n",
    "            _,version,_=data_versions[experiment][variable][table][model][realization]\n",
    "            dic.update(experiment=experiment,mip=mip_for_experiment(experiment), version=version)\n",
    "            metadata+=TSU_metadata(experiment,[(model,realization)],variable,table,data_versions)\n",
    "            #\n",
    "            # Compute field and changes at first 2°C\n",
    "            #\n",
    "            period = \"%d-%d\"%(year2[(model,realization)]-window_half_size,year2[(model,realization)]+window_half_size)\n",
    "            dic.update(period=period)\n",
    "            rr2 = ccdo(ds(**dic),operator=\"timmean -selseason,%s\"%season)\n",
    "            feed_dic(diffs,regridn(rr2,cdogrid=common_grid),season,\"2\",\"proj\",model)\n",
    "            #\n",
    "            # plain change\n",
    "            diff=ccdo2(rr2,ref,operator=\"sub\")\n",
    "            feed_dic(diffs,regridn(diff,cdogrid=common_grid),season,\"2\",\"change\",model)\n",
    "            #\n",
    "            # relative change\n",
    "            if threshold is not None :\n",
    "                thresholded_ref=ccdo_fast(ref,operator=\"setrtomiss,-1.e+10,\"+threshold_string)\n",
    "            else :\n",
    "                thresholded_ref=ref\n",
    "            rr2_relative = ccdo_fast(ccdo2(diff,thresholded_ref,operator=\"div\"),operator=\"mulc,100.\")\n",
    "            feed_dic(diffs,regridn(rr2_relative,cdogrid=common_grid),season,\"2\",\"rchange\",model)\n",
    "            #\n",
    "            # Store proj value for 2K as ref value for case 4K-2K\n",
    "            feed_dic(diffs,regridn(rr2,cdogrid=common_grid),season,\"4_2\",\"ref\",model)\n",
    "            #\n",
    "            # Compute field at 4°C, and changes vs first 2°C\n",
    "            #\n",
    "            period = \"%d-%d\"%(year4[(model,realization)]-10,year4[(model,realization)]+10)\n",
    "            dic.update(period=period)\n",
    "            rr4 = ccdo(ds(**dic),operator=\"timmean -selseason,%s\"%season)\n",
    "            feed_dic(diffs,regridn(rr4,cdogrid=common_grid),season,\"4_2\",\"proj\",model)\n",
    "            #\n",
    "            # plain change\n",
    "            diff=ccdo2(rr4,rr2,operator=\"sub\")\n",
    "            feed_dic(diffs,regridn(diff,cdogrid=common_grid),season,\"4_2\",\"change\",model)\n",
    "            #\n",
    "            # relative change from 2K to 4K\n",
    "            if threshold is not None :\n",
    "                thresholded_rr2=ccdo_fast(rr2,operator=\"setrtomiss,-1,\"+threshold_string)\n",
    "            else :\n",
    "                thresholded_rr2=rr2\n",
    "            rr4_relative = ccdo_fast(ccdo2(diff,thresholded_rr2,operator=\"div\"),operator=\"mulc,100.\")\n",
    "            feed_dic(diffs,regridn(rr4_relative,cdogrid=common_grid),season,\"4_2\",\"rchange\",model)\n",
    "            #\n",
    "            # Compute diff between 4K-2K and 2K\n",
    "            #\n",
    "            for opt in [\"change\",\"rchange\"] :\n",
    "                tmp=ccdo2(diffs[season][\"4_2\"][opt][model], diffs[season][\"2\"][opt][model],operator=\"sub\")\n",
    "                feed_dic(diffs,tmp,season,\"4_2_2\",opt,model)\n",
    "            \n",
    "\n",
    "        print\n",
    "        #\n",
    "        if with_variability :\n",
    "            variabilities=cens()\n",
    "            #print control_models\n",
    "            for model,realization in control_models : \n",
    "                # Store model internal variability\n",
    "                variabilities[model]=regridn(\n",
    "                    variability_AR5(model,realization,variable,table,data_versions,season=season,\n",
    "                                **variability_sampling_args),\n",
    "                                cdogrid=common_grid)\n",
    "            #\n",
    "            # Compute median variability across models\n",
    "            variability= ccdo_ens(variabilities ,operator=\"enspctl,50\")\n",
    "        else: \n",
    "            variability=None\n",
    "        #\n",
    "        # Choose field type for computing stippling/hatching\n",
    "        if \"mean\" in field_type : \n",
    "            choice=\"mean\"  # For cases mean and rmean\n",
    "        else:\n",
    "            choice=\"median\" # For cases median and rmedian\n",
    "        #\n",
    "        # Compute ensemble statistics, and stippling\n",
    "        if True :\n",
    "            for case in cases :\n",
    "                fields[season][case]=dict()\n",
    "                fields[season][case][\"mean\"]   = ccdo_ens(cens(diffs[season][case][\"change\"])   , operator=\"ensmean\")\n",
    "                fields[season][case][\"median\"] = ccdo_ens(cens(diffs[season][case][\"change\"])   , operator=\"enspctl,50\")\n",
    "                fields[season][case][\"rmean\"]  = ccdo_ens(cens(diffs[season][case][\"rchange\"]), operator=\"ensmean\")\n",
    "                fields[season][case][\"rmedian\"]= ccdo_ens(cens(diffs[season][case][\"rchange\"]), operator=\"enspctl,50\")\n",
    "                #\n",
    "                # Compute relative change of ensemble means\n",
    "                if case != \"4_2_2\" :\n",
    "                    meanr=ccdo_ens(cens(diffs[season][case][\"ref\"])  , operator=\"ensmean\")\n",
    "                    mean2=ccdo_ens(cens(diffs[season][case][\"proj\"]) , operator=\"ensmean\")\n",
    "                    fields[season][case][\"rmeans\"]=ccdo2(ccdo2(mean2,meanr,operator=\"sub\"),meanr,operator=\"mulc,100 -div\")\n",
    "                else :\n",
    "                    fields[season][case][\"rmeans\"]=ccdo2(fields[season][\"4_2\"][\"rmeans\"],fields[season][\"2\"][\"rmeans\"],operator=\"sub\")\n",
    "                #\n",
    "                fields[season][case][\"stippling\"],fields[season][case][\"hatching\"]=\\\n",
    "                    stippling_hatching_masks_AR5(\n",
    "                        fields[season][case][choice],variability,agreement_fraction_on_sign(cens(diffs[season][case][\"change\"])))\n",
    "                #\n",
    "                ceval(fields[season][case][\"stippling\"])\n",
    "                \n",
    "                    \n",
    "    \n",
    "    return fields\n",
    "#\n",
    "fields=compute_change_fields()"
   ]
  },
  {
   "cell_type": "markdown",
   "metadata": {},
   "source": [
    "## Write the metadata file"
   ]
  },
  {
   "cell_type": "code",
   "execution_count": 11,
   "metadata": {},
   "outputs": [],
   "source": [
    "if not os.path.exists(outdir):\n",
    "    os.makedirs(outdir)\n",
    "with open(\"%s/%s%s_md\"%(outdir,figure_name,version),\"w\") as f:\n",
    "    f.write(metadata)"
   ]
  },
  {
   "cell_type": "markdown",
   "metadata": {},
   "source": [
    "## Create the common labelbar, as ./insert.png"
   ]
  },
  {
   "cell_type": "code",
   "execution_count": 16,
   "metadata": {},
   "outputs": [
    {
     "data": {
      "text/plain": [
       "0"
      ]
     },
     "execution_count": 16,
     "metadata": {},
     "output_type": "execute_result"
    }
   ],
   "source": [
    "fig_for_label=AR6_change_figure(variable, variable_transformation,fields[seasons[0]][\"2\"][field_type],\n",
    "                            fields[seasons[0]][\"2\"][\"stippling\"],fields[seasons[0]][\"2\"][\"hatching\"],\n",
    "                            relative=(\"rme\" in field_type),labelbar=\"True\",custom_plot=plot_args,number=\"\")\n",
    "#\n",
    "figfile_for_label=\"./tmp_fig_for_label.png\"\n",
    "cfile(fig_for_label,figfile_for_label)\n",
    "create_labelbar(figfile_for_label, \"./insert.png\",missing=False)#,signif=with_variability)\n",
    "os.system(\"rm %s\"%figfile_for_label)"
   ]
  },
  {
   "cell_type": "markdown",
   "metadata": {},
   "source": [
    "## Create panels, assemble them, write figure file"
   ]
  },
  {
   "cell_type": "code",
   "execution_count": 19,
   "metadata": {},
   "outputs": [
    {
     "data": {
      "text/plain": [
       "0"
      ]
     },
     "execution_count": 19,
     "metadata": {},
     "output_type": "execute_result"
    }
   ],
   "source": [
    "plots=dict()\n",
    "#\n",
    "titles={ seasons[0] : { \"2\" : \"a) %s, first 2~S~o~\"%seasons[0], \"4_2\" : \"c) %s, second 2~S~o~\"%seasons[0], \"4_2_2\" : \"e)  %s, second 2~S~o~N~ - first 2~S~o~N~ ( c)-a) )\"%seasons[0]},\n",
    "         seasons[1] : { \"2\" : \"b) %s, first 2~S~o~\"%seasons[1], \"4_2\" : \"d) %s, second 2~S~o~\"%seasons[1], \"4_2_2\" : \"f)  %s, second 2~S~o~N~ - first 2~S~o~N~ ( d)-b) )\"%seasons[1]}}\n",
    "#\n",
    "for season in seasons :\n",
    "    plots[season]=dict()\n",
    "    for case in cases :\n",
    "        plots[season][case]=AR6_change_figure(variable, variable_transformation,                \n",
    "            fields[season][case][field_type],\n",
    "            fields[season][case][\"stippling\"],\n",
    "            fields[season][case][\"hatching\"],\n",
    "            relative=(\"rme\" in field_type),\n",
    "            title=titles[season][case], number=\"%d\"%len(year4), labelbar=\"False\",\n",
    "            custom_plot=plot_args)\n",
    "plot_lines= [\n",
    "    [plots[seasons[0]][\"2\"]    ,plots[seasons[1]][\"2\"]    ],\n",
    "    [plots[seasons[0]][\"4_2\"]  ,plots[seasons[1]][\"4_2\"]  ],\n",
    "    [plots[seasons[0]][\"4_2_2\"],plots[seasons[1]][\"4_2_2\"]]]\n",
    "#\n",
    "fig=cpage(plot_lines,title=title, insert=\"./insert.png\", **figure_details)\n",
    "outfile=\"%s_change_2K_4K_2seasons_%s%s.png\"%(variable,data_versions_tag,version)\n",
    "cfile(fig,outdir+\"/\"+outfile)\n",
    "os.system(\"cd %s ; ln -sf %s %s%s.png\"%(outdir,outfile,figure_name,version))\n",
    "#\n",
    "small=outfile.replace(\".png\",\".small.png\")\n",
    "os.system(\"cd %s ; convert -geometry 50%% %s %s\"%(outdir,outfile,small))\n",
    "os.system(\"cd %s ; ln -sf %s %s%s_small.png\"%(outdir,small,figure_name,version))"
   ]
  },
  {
   "cell_type": "code",
   "execution_count": 28,
   "metadata": {
    "scrolled": false
   },
   "outputs": [],
   "source": [
    "#iplot(fig)"
   ]
  },
  {
   "cell_type": "markdown",
   "metadata": {},
   "source": [
    "## Debug Plots"
   ]
  },
  {
   "cell_type": "code",
   "execution_count": null,
   "metadata": {
    "collapsed": true
   },
   "outputs": [],
   "source": [
    "#iplot(plots[\"DJF\"][\"4_2\"])"
   ]
  },
  {
   "cell_type": "code",
   "execution_count": null,
   "metadata": {
    "collapsed": true
   },
   "outputs": [],
   "source": [
    "#iplot(plot(fields[\"DJF\"][\"2\"][\"mean\"],scale=3600.*24.,min=-2,max=2,delta=0.4))"
   ]
  }
 ],
 "metadata": {
  "kernelspec": {
   "display_name": "Python 2",
   "language": "python",
   "name": "python2"
  },
  "language_info": {
   "codemirror_mode": {
    "name": "ipython",
    "version": 2
   },
   "file_extension": ".py",
   "mimetype": "text/x-python",
   "name": "python",
   "nbconvert_exporter": "python",
   "pygments_lexer": "ipython2",
   "version": "2.7.15"
  }
 },
 "nbformat": 4,
 "nbformat_minor": 2
}
