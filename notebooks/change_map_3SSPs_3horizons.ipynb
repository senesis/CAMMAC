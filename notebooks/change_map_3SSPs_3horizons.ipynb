{
 "cells": [
  {
   "cell_type": "markdown",
   "metadata": {},
   "source": [
    "# CAMMAC https://cammac.readthedocs.io\n",
    "S.Sénési for Météo-France - sept 2019 to march 2021\n",
    "\n",
    "# Build a figure showing changes for one (raw or derived) variable, three SSPs and three horizons\n",
    "\n",
    "\n",
    "## Parameters stand in first cell, are either commented here or in the doc (see above)\n",
    "\n",
    "### A few commands below are specific to the Notebook environment, and can be safely commented out"
   ]
  },
  {
   "cell_type": "markdown",
   "metadata": {},
   "source": [
    "## Default settings (some may be overriden by Papermill - this would show in next cell in the execution output notebook)"
   ]
  },
  {
   "cell_type": "code",
   "execution_count": null,
   "metadata": {
    "tags": [
     "parameters"
    ]
   },
   "outputs": [],
   "source": [
    "import os\n",
    "do_test                = False\n",
    "\n",
    "figure_name            = \"FigTS-2-9\"\n",
    "version                = \"\"     #Used as suffix in automatic figure name\n",
    "scheme                 = \"AR5\"\n",
    "confidence_factor    = 1.645  # For AR6 comprehensive scheme : Multiplicative factor applied to control run \n",
    "                              # variability for deciding a change is significant (besides sqrt(2))\n",
    "sign_threshold       = 0.66   # For AR6 simple scheme : threshold on cross-model change sign agreeement fraction\n",
    "same_models_for_var    = False\n",
    "\n",
    "data_versions_tag      = \"20200719d\"\n",
    "data_versions_dir      = os.getenv(\"CAMMAC\")+\"/data\"\n",
    "excluded_models        = []\n",
    "included_models        = None\n",
    "\n",
    "variable               = \"pr\"\n",
    "#threshold              = 0.1/(24*3600) # 0.1 mm/day, in SI\n",
    "threshold              = None\n",
    "table                  = \"Amon\"\n",
    "derivation             = \"plain\"\n",
    "season                 = \"ANN\"\n",
    "field_type             = \"means_rchange\"\n",
    "\n",
    "experiments            = [\"ssp126\",\"ssp245\",\"ssp585\"]\n",
    "horizons               = [\"2021-2040\",\"2041-2060\",\"2081-2100\"]\n",
    "ref_period             = \"1995-2014\"\n",
    "ref_experiment         = \"historical\"\n",
    "\n",
    "manual_title           = None\n",
    "auto_title_end         = \"for three SSPs and near to long-term\"\n",
    "plot_args              = {\"colors\":\"-40 -20 -10  -5 -2  0 2  5 10 20 40 \"}\n",
    "#base_plot_args_50={\"colors\":\"-50 -30 -20 -10 -5  0 5 10 20 30 50 \"}\n",
    "\n",
    "variability_models     = None\n",
    "variability_excluded_models = []\n",
    "variab_sampling_args   = {\"house_keeping\":True,\"compute\":True,\"detrend\":True,\"shift\":100,\"nyears\":20,\"number\":20}\n",
    "\n",
    "figure_details         = {\"page_width\":2450,\"page_height\":3444, \"insert_width\":1800,\"pt\":48, \"ybox\":133,\"y\":52}\n",
    "use_cached_proj_fields = True\n",
    "drop_old_figures       = False\n",
    "common_grid            = \"r360x180\"\n",
    "outdir                 = \"./figures\""
   ]
  },
  {
   "cell_type": "code",
   "execution_count": null,
   "metadata": {},
   "outputs": [],
   "source": [
    "do_test=False\n",
    "if do_test :\n",
    "    version             = \"_test\"\n",
    "    horizons            = [\"2040\",\"2040\",\"2040\"]\n",
    "    ref_period          = \"2014\" \n",
    "    included_models     = [\"CNRM-CM6-1\"]\n",
    "    experiments         = [\"ssp126\",\"ssp126\",\"ssp126\"]\n",
    "    variab_sampling_args= {}\n",
    "    \n"
   ]
  },
  {
   "cell_type": "markdown",
   "metadata": {},
   "source": [
    "## Load libraries"
   ]
  },
  {
   "cell_type": "code",
   "execution_count": null,
   "metadata": {},
   "outputs": [],
   "source": [
    "import sys\n",
    "\n",
    "from climaf.api import *\n",
    "climaf.cache.stamping=False\n",
    "\n",
    "from CAMMAClib.changes    import change_figure_with_caching\n",
    "from CAMMAClib.ancillary  import create_labelbar, prettier_label\n",
    "from CAMMAClib.mips_et_al import TSU_metadata, read_versions_dictionnary\n",
    "\n",
    "# Load some user settings, if available\n",
    "settings_file=os.getenv(\"CAMMAC_USER_PYTHON_CODE_DIR\",\".\")+'/cammac_user_settings.py'\n",
    "if os.path.exists(settings_file) :\n",
    "    exec(compile(open(settings_file).read(),settings_file,'exec'))"
   ]
  },
  {
   "cell_type": "markdown",
   "metadata": {},
   "source": [
    "### If using a notebook, use wide display"
   ]
  },
  {
   "cell_type": "code",
   "execution_count": null,
   "metadata": {},
   "outputs": [],
   "source": [
    "from IPython.core.display import display, HTML, Image\n",
    "display(HTML(\"<style>.container { width:100% !important; }</style>\"))"
   ]
  },
  {
   "cell_type": "markdown",
   "metadata": {},
   "source": [
    "## The basic engine is function change_figure_with_caching, which has numerous settings, as displayed further below\n",
    "\n",
    "## Next function allows to set most values from global variable, and the others using arguments"
   ]
  },
  {
   "cell_type": "code",
   "execution_count": null,
   "metadata": {},
   "outputs": [],
   "source": [
    "def afigure(experiment,projection_period, title=None ,labelbar=\"False\",outfile=None,plot_args=plot_args):\n",
    "    \n",
    "    global metadata\n",
    "    \n",
    "    fig_file,fig,dic,variab_models,models=change_figure_with_caching(\n",
    "        ref_period=ref_period, proj_period=projection_period, \n",
    "        variable=variable, table=table, ref_experiment=ref_experiment,\n",
    "        experiment=experiment, season=season,\n",
    "        derivation_label=derivation, field_type=field_type,\n",
    "        title=title, custom_plot=plot_args, labelbar=labelbar, \n",
    "        data_versions_tag=data_versions_tag, data_versions_dir=data_versions_dir,\n",
    "        outdir=outdir, outfile=outfile,\n",
    "        #\n",
    "        common_grid=common_grid, mask=None,\n",
    "        variab_sampling_args=variab_sampling_args,\n",
    "        excluded_models=excluded_models, models=included_models,\n",
    "        variability_models=variability_models, variability_excluded_models=variability_excluded_models,\n",
    "        cache_dir=\"./cache\", read=use_cached_proj_fields, write=True, \n",
    "        print_statistics=True , deep=None,  threshold=threshold,\n",
    "        same_models_for_variability_and_changes=same_models_for_var,\n",
    "        scheme=scheme,\n",
    "        low_change_agree_threshold=confidence_factor,\n",
    "        change_sign_agree_threshold = sign_threshold,\n",
    "        drop=drop_old_figures\n",
    "        )\n",
    "    metadata += TSU_metadata([ref_experiment,experiment],models,       variable,table,data_versions,experiment)\n",
    "    metadata += TSU_metadata([\"piControl\"],              variab_models,variable,table,data_versions,experiment)\n",
    "    return fig"
   ]
  },
  {
   "cell_type": "markdown",
   "metadata": {},
   "source": [
    "## Compute figures for the three experiments and three terms"
   ]
  },
  {
   "cell_type": "code",
   "execution_count": null,
   "metadata": {},
   "outputs": [],
   "source": [
    "lines=[]\n",
    "metadata=\"\"\n",
    "data_versions=read_versions_dictionnary(data_versions_tag, data_versions_dir)\n",
    "\n",
    "for experiment in experiments :\n",
    "    line=[]\n",
    "    for horizon in horizons :\n",
    "        f=afigure(experiment,horizon,title=horizon+\" \"+prettier_label.get(experiment,experiment))\n",
    "        line.append(f)\n",
    "    lines.append(line)"
   ]
  },
  {
   "cell_type": "code",
   "execution_count": null,
   "metadata": {},
   "outputs": [],
   "source": [
    "import os.path\n",
    "if not os.path.exists(outdir):\n",
    "    os.makedirs(outdir)\n",
    "with open(\"%s/%s%s_md.txt\"%(outdir,figure_name,version),\"w\") as f: \n",
    "    f.write(metadata)"
   ]
  },
  {
   "cell_type": "markdown",
   "metadata": {},
   "source": [
    "## Create the common labelbar and assemble it with plots"
   ]
  },
  {
   "cell_type": "code",
   "execution_count": null,
   "metadata": {},
   "outputs": [],
   "source": [
    "# create a figure wih labelbar (using same plot settings as for figures above)\n",
    "labfile=\"./fig_with_label.png\"\n",
    "labelbar_figure=afigure(experiments[0],horizons[0],labelbar=\"True\",outfile=labfile)\n",
    "\n",
    "# Call utility function for extracting labelbar and adding fill pattern for shadings\n",
    "create_labelbar(labfile, \"./insert.png\",missing=False,scheme=scheme)\n",
    "\n",
    "if manual_title is None : \n",
    "    title=\"%s %s %s %s \"%(prettier_label.get(season,season),prettier_label.get(variable,variable),prettier_label.get(field_type,field_type),auto_title_end) \n",
    "else :\n",
    "    title = manual_title\n",
    "\n",
    "# Create multi-panel figure\n",
    "page=cpage(lines, title=title,insert=\"./insert.png\",**figure_details)\n",
    "\n",
    "outfile=\"change_3SSPS_3horizons_%s_%s_%s%s.png\"%(variable,derivation,data_versions_tag,version)\n",
    "if drop_old_figures : cdrop(page)\n",
    "cfile(page,outdir+\"/\"+outfile)\n",
    "os.system(\"cd %s ; ln -sf %s %s%s.png\"%(outdir,outfile,figure_name,version))\n",
    "#\n",
    "small=outfile.replace(\".png\",\".small.png\")\n",
    "os.system(\"cd %s ; convert -geometry 50%% %s %s\"%(outdir,outfile,small))\n",
    "os.system(\"cd %s ; ln -sf %s %s%s_small.png\"%(outdir,small,figure_name,version))\n",
    "#\n",
    "os.system(\"convert -geometry 50%% %s %s\"%(outfile,outfile.replace(\".png\",\".small.png\")))\n",
    "os.system(\"rm ./insert.png\")\n",
    "os.system(\"rm %s\"%labfile)"
   ]
  },
  {
   "cell_type": "markdown",
   "metadata": {},
   "source": [
    "## If using a notebook , display result on-line"
   ]
  },
  {
   "cell_type": "code",
   "execution_count": null,
   "metadata": {},
   "outputs": [],
   "source": [
    "#Image(outdir+\"/\"+outfile,width=600)"
   ]
  },
  {
   "cell_type": "code",
   "execution_count": null,
   "metadata": {},
   "outputs": [],
   "source": []
  }
 ],
 "metadata": {
  "kernelspec": {
   "display_name": "Python 2",
   "language": "python",
   "name": "python2"
  },
  "language_info": {
   "codemirror_mode": {
    "name": "ipython",
    "version": 2
   },
   "file_extension": ".py",
   "mimetype": "text/x-python",
   "name": "python",
   "nbconvert_exporter": "python",
   "pygments_lexer": "ipython2",
   "version": "2.7.15"
  }
 },
 "nbformat": 4,
 "nbformat_minor": 2
}
