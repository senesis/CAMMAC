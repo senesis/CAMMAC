{
 "cells": [
  {
   "cell_type": "markdown",
   "metadata": {},
   "source": [
    "# AR6/WGI Chapter 8\n",
    "\n",
    "# Build a figure showing long-term change for 4 variables for one SSP\n",
    "\n",
    "## S.Sénési - sept 2019 to march 2021\n",
    "\n",
    "### A few commands below are specific to the Notebook environment, and can be safely commented out"
   ]
  },
  {
   "cell_type": "markdown",
   "metadata": {},
   "source": [
    "## Default settings (some may be overriden by Papermill - this would show in next cell in the execution output notebook)"
   ]
  },
  {
   "cell_type": "code",
   "execution_count": null,
   "metadata": {
    "tags": [
     "parameter",
     "parameters"
    ]
   },
   "outputs": [],
   "source": [
    "do_test              = True\n",
    "\n",
    "figure_name          = \"FigTS6x\"\n",
    "# Version number will be a suffix for automatic figure filename. Use e.g. \"_V1\" for legibility\n",
    "version              = \"\"\n",
    "scheme               = \"AR6S\"  # Hatching scheme\n",
    "confidence_factor    = 1.645  # For AR6 comprehensive scheme : Multiplicative factor applied to control run \n",
    "                              # variability for deciding a change is significant (besides sqrt(2))\n",
    "sign_threshold       = 0.8    # For AR6 simple scheme : threshold on cross-model change sign agreeement fraction\n",
    "same_models_for_var  = False\n",
    "manual_title         = None  # Will replace automatic title if not None\n",
    "\n",
    "#See doc for data_versions in sibling directory data_versions\n",
    "data_versions_tag   = \"20210201_derived\"\n",
    "data_versions_dir   = \"/home/ssenesi/CAMMAC/select_data_versions\"\n",
    "excluded_models     = { }\n",
    "included_models     = None\n",
    "variability_excluded_models = {}\n",
    "variability_models  = None\n",
    "#\n",
    "experiment          = \"ssp245\"\n",
    "proj_period         = \"2081-2100\"\n",
    "#\n",
    "ref_experiment      = \"historical\"\n",
    "ref_period          = \"1995-2014\" \n",
    "#\n",
    "season              = \"ANN\"        # Other choices do not make sense for some variables (yet)\n",
    "field_type          = \"means_rchange\" # Ranges in figures are not tuned for other choices ...\n",
    "\n",
    "# Next value is used as a floor value of reference field for computing relative changes \n",
    "# of some variables\n",
    "z1=0.1/(24*3600) # 0.1 mm/day, in kg m2 s-1\n",
    "#\n",
    "# If pre-computed fields for this SSP, season and projection_period are available, should we use it ?\n",
    "# Set it to False for recomputing and printing fields and field changes statistics\n",
    "# No problem if set to True and pre-computed fields does not exist\n",
    "use_cached_proj_fields = True   \n",
    "drop_old_figures       = False\n",
    "#\n",
    "outdir              = \"./figures\"\n",
    "cache_dir           = \"./cache\"\n",
    "variab_sampling_args= {\"house_keeping\":True,\"compute\":True,\"detrend\":True,\"shift\":100,\"nyears\":20,\"number\":20}\n",
    "figure_details      = {\"page_width\":2450,\"page_height\":3444,\"pt\":48, \"ybox\":133,\"y\":52,\"insert_width\":700}\n",
    "common_grid         = \"r360x180\"\n",
    "antarctic_mask      = \"/home/ssenesi/CAMMAC/data/mask_hide_antarctic_360x180.nc\"\n",
    "#\n",
    "derived_variables_pattern  = \"/data/ssenesi/CMIP6_derived_variables/${variable}\"\n",
    "derived_variables_pattern += \"/${variable}_${table}_${model}_${experiment}_${realization}_${grid}_${version}_${PERIOD}.nc\"\n",
    "derived_variable_table='yr'\n",
    "#\n",
    "\n",
    "# Location of libraries\n",
    "#######################\n",
    "# Climaf version >= 1.2.13 (see https://climaf.readthedocs.io)\n",
    "climaf_lib          = \"/home/ssenesi/climaf_installs/climaf_running\" \n",
    "# AR6/WGI/chapter8 CliMAF-based package\n",
    "CAMMAC              = \"/home/ssenesi/CAMMAC\""
   ]
  },
  {
   "cell_type": "code",
   "execution_count": null,
   "metadata": {},
   "outputs": [],
   "source": [
    "if do_test :\n",
    "    version             = \"_test\"\n",
    "    proj_period         = \"2099-2100\"\n",
    "    ref_period          = \"2012-2014\" \n",
    "    included_models     = [\"CNRM-CM6-1\"]"
   ]
  },
  {
   "cell_type": "markdown",
   "metadata": {},
   "source": [
    "## Loading libraries"
   ]
  },
  {
   "cell_type": "code",
   "execution_count": null,
   "metadata": {},
   "outputs": [],
   "source": [
    "import sys, os\n",
    "\n",
    "# Climaf setup (version >= 1.2.13 - see https://climaf.readthedocs.io)\n",
    "sys.path=[climaf_lib] + sys.path \n",
    "from climaf.api import *\n",
    "\n",
    "# Climaf settings\n",
    "from climaf.cache import stamping\n",
    "climaf.cache.stamping=False\n",
    "\n",
    "# AR6 figures project package\n",
    "sys.path.append(CAMMAC    ) \n",
    "from CAMMAClib.changes     import AR6_change_figure_with_caching\n",
    "from CAMMAClib.ancillary   import prettier_label\n",
    "from CAMMAClib.mips_et_al  import TSU_metadata, read_versions_dictionnary"
   ]
  },
  {
   "cell_type": "code",
   "execution_count": null,
   "metadata": {},
   "outputs": [],
   "source": [
    "# Fix sign or scale issue with some models for a few variables\n",
    "calias('CMIP6','evspsbl',scale=-1,\\\n",
    "       conditions={\"model\":[\"CAMS-CSM1-0\",\"EC-Earth3\",\"EC-Earth3-Veg\",\"EC-Earth3-LR\",\"EC-Earth3-Veg-LR\"]})\n",
    "calias('CMIP6','pr',scale=1000.,conditions={\"model\" : \"CIESM\"})\n",
    "calias('CMIP6','mrso',scale=1000.,conditions={\"model\" : \"CIESM\"})\n",
    "calias('CMIP6','mrsos',scale=100.,conditions={\"model\" : \"FGOALS-f3-L\"})\n",
    "\n",
    "# Define P-E\n",
    "derive('CMIP6', 'P-E','minus','pr','evspsbl')\n",
    "\n",
    "# Define location of derived variables if needed (e.g. yearly stats of daily precip)\n",
    "if derived_variables_pattern is not None :\n",
    "    climaf.dataloc.dataloc(project='CMIP6', organization='generic', \n",
    "                           url=derived_variables_pattern, table=derived_variable_table)"
   ]
  },
  {
   "cell_type": "markdown",
   "metadata": {},
   "source": [
    "### If using a notebook, use wide display"
   ]
  },
  {
   "cell_type": "code",
   "execution_count": null,
   "metadata": {},
   "outputs": [],
   "source": [
    "from IPython.core.display import display, HTML, Image\n",
    "display(HTML(\"<style>.container { width:100% !important; }</style>\"))"
   ]
  },
  {
   "cell_type": "markdown",
   "metadata": {},
   "source": [
    "## Next function combines global variables and its own arguments for calling AR6_change_figure_with_caching"
   ]
  },
  {
   "cell_type": "code",
   "execution_count": null,
   "metadata": {},
   "outputs": [],
   "source": [
    "def afigure(variable, title, panel, plot_args,  derivation_label = \"plain\",field_type = field_type, \n",
    "            mask = None, table = \"Amon\", data_versions_tag = data_versions_tag, threshold=None, deep=None,\n",
    "            read = use_cached_proj_fields ):\n",
    "\n",
    "    global metadata\n",
    "    \n",
    "    key=variable\n",
    "    if table==\"day\" :\n",
    "        key=variable+\"_day\"\n",
    "    exclude=excluded_models.get(key,[])\n",
    "    vexclude=variability_excluded_models.get(key,[])\n",
    "    #\n",
    "    fig_file,fig,dic,variab_models,models = AR6_change_figure_with_caching(\n",
    "        ref_period = ref_period, proj_period = proj_period, \n",
    "        variable = variable, table = table, ref_experiment = ref_experiment,\n",
    "        experiment = experiment, season = season,\n",
    "        derivation_label = derivation_label, \n",
    "        field_type = field_type,\n",
    "        title = panel+\") \"+ title,\n",
    "        custom_plot = plot_args, labelbar = \"True\", \n",
    "        data_versions_tag = data_versions_tag, data_versions_dir = data_versions_dir,\n",
    "        excluded_models = exclude, models = included_models,\n",
    "        variability_excluded_models = vexclude, \n",
    "        variability_models = variability_models,\n",
    "        outdir = outdir, \n",
    "        #\n",
    "        common_grid = common_grid, mask=mask,\n",
    "        variab_sampling_args = variab_sampling_args,\n",
    "        cache_dir = cache_dir, read = read, write = True, \n",
    "        print_statistics = True , deep = deep,  drop=drop_old_figures,\n",
    "        threshold = threshold,\n",
    "        same_models_for_variability_and_changes=same_models_for_var,\n",
    "        scheme=scheme,\n",
    "        low_change_agree_threshold=confidence_factor,\n",
    "        change_sign_agree_threshold = sign_threshold\n",
    "        )\n",
    "    metadata += TSU_metadata([ref_experiment,experiment],models       ,variable,table,data_versions,panel)\n",
    "    metadata += TSU_metadata([\"piControl\"]              ,variab_models,variable,table,data_versions,panel)\n",
    "    return fig,dic"
   ]
  },
  {
   "cell_type": "markdown",
   "metadata": {},
   "source": [
    "## Compute figures for the four variables"
   ]
  },
  {
   "cell_type": "code",
   "execution_count": null,
   "metadata": {},
   "outputs": [],
   "source": [
    "col40={\"colors\":\"-40 -30 -20 -10 -5   0   5   10  20 30 40 \"}\n",
    "col10={\"colors\":\"-10 -8 -6 -4 -2 0 2 4 6 8 10\"}\n",
    "data_versions=read_versions_dictionnary(data_versions_tag, data_versions_dir)\n",
    "dic=dict()\n",
    "\n",
    "if True :\n",
    "    metadata=\"\"\n",
    "    #\n",
    "    l1c1,dic[(\"pr\",\"plain\")]      = afigure(\"pr\"     ,\"Precipitation\"               ,\"a\",col40, threshold=z1)\n",
    "    \n",
    "    l1c2,dic[(\"evspsbl\",\"plain\")] = afigure(\"evspsbl\",\"Evapotranspiration\"          ,\"b\",col40, threshold=z1)\n",
    "    \n",
    "    #\n",
    "    l2c1,dic[(\"mrro\",\"plain\")]    = afigure(\"mrro\"   ,\"Runoff\"                      ,\"c\",col40, table=\"Lmon\",mask=antarctic_mask, threshold=z1)\n",
    "    \n",
    "    l2c2,dic[(\"mrsos\",\"plain\")]   = afigure(\"mrsos\"  ,\"Surface soil moisture\"       ,\"d\",col10, table=\"Lmon\",mask=antarctic_mask)\n",
    "    \n",
    "    import os.path\n",
    "    if not os.path.exists(outdir):\n",
    "        os.makedirs(outdir)\n",
    "    with open(\"%s/%s%s_md.txt\"%(outdir,figure_name,version),\"w\") as f:\n",
    "        f.write(metadata)\n"
   ]
  },
  {
   "cell_type": "markdown",
   "metadata": {},
   "source": [
    "## Assemble plots"
   ]
  },
  {
   "cell_type": "code",
   "execution_count": null,
   "metadata": {},
   "outputs": [],
   "source": [
    "if manual_title is None :\n",
    "    title=\"Long term water cycle variables changes for %s (%s vs %s)\"%(prettier_label.get(experiment,experiment),proj_period,ref_period)\n",
    "else:\n",
    "    title=manual_title\n",
    "\n",
    "if scheme==\"AR6S\" :\n",
    "    insert=CAMMAC+\"/CAMMAClib/captions/AR6_simple_hatching_wide.png\"\n",
    "else :\n",
    "    insert=CAMMAC+\"/CAMMAClib/captions/AR6_comprehensive_hatching.png\"\n",
    "    \n",
    "\n",
    "page=cpage([[l1c1,l1c2],[l2c1,l2c2]], title=title, insert=insert, font=\"Liberation-Sans\",**figure_details)\n",
    "outfile=\"change_map_4vars_1SSP_%s_%s_%s%s.png\"%(experiment,proj_period,data_versions_tag,version)\n",
    "if drop_old_figures :\n",
    "    cdrop(page)\n",
    "cfile(page,outdir+\"/\"+outfile)\n",
    "os.system(\"cd %s ; ln -sf %s %s%s.png\"%(outdir,outfile,figure_name,version))\n",
    "#\n",
    "small=outfile.replace(\".png\",\".small.png\")\n",
    "os.system(\"cd %s ; convert -geometry 50%% %s %s\"%(outdir,outfile,small))\n",
    "os.system(\"cd %s ; ln -sf %s %s%s_small.png\"%(outdir,small,figure_name,version))\n"
   ]
  },
  {
   "cell_type": "markdown",
   "metadata": {},
   "source": [
    "## If using a notebook , display result"
   ]
  },
  {
   "cell_type": "code",
   "execution_count": null,
   "metadata": {
    "scrolled": true
   },
   "outputs": [],
   "source": [
    "Image(outdir+\"/\"+outfile,width=800)"
   ]
  }
 ],
 "metadata": {
  "language_info": {
   "name": "python",
   "pygments_lexer": "ipython2"
  },
  "kernelspec": {
   "name": "python2",
   "display_name": "Python 2",
   "language": "python"
  }
 },
 "nbformat": 4,
 "nbformat_minor": 2
}
