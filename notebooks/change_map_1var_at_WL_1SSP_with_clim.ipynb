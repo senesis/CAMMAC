{
 "cells": [
  {
   "cell_type": "markdown",
   "metadata": {},
   "source": [
    "# CAMMAC https://cammac.readthedocs.io\n",
    "S.Sénési for Météo-France - sept 2019 to march 2021\n",
    "\n",
    "# Build a figure showing the changes in some (raw or transformed) variable  for one SSP, at a single level of warming, for 1 season, and climatology for another experiment\n",
    "## (without stippling nor hatching)\n",
    "\n",
    "\n",
    "## Parameters stand in first cell, are either commented here or in the doc (see above)\n",
    "\n",
    "### A few commands below are specific to the Notebook environment, and can be safely commented out\n"
   ]
  },
  {
   "cell_type": "markdown",
   "metadata": {},
   "source": [
    "## General settings"
   ]
  },
  {
   "cell_type": "code",
   "execution_count": null,
   "metadata": {
    "tags": [
     "parameters"
    ]
   },
   "outputs": [],
   "source": [
    "import os\n",
    "CAMMAC = os.getenv(\"CAMMAC\")\n",
    "\n",
    "figure_name               = \"FigP-E@+3K\"\n",
    "version                   = \"\" # a suffix for figure filename. Use e.g. \"_V1\" for legibility\n",
    "# Figure title\n",
    "#manual_title              = \"Effect of a 3 degrees warming on P-E (vs 1850-1900)\"\n",
    "manual_title              = None\n",
    "outdir                    = \"./figures\"\n",
    "\n",
    "#See doc for data_versions in sibling directory data_versions\n",
    "data_versions_tag         = \"20200918\"\n",
    "excluded_models           = [ ]\n",
    "included_models           = None\n",
    "data_versions_dir         = os.getenv(\"CAMMAC\")+\"/data\"\n",
    "\n",
    "variable                  = \"P-E\"     \n",
    "table                     = \"Amon\"         # Script was yet tested only for a monthly table\n",
    "variable_transformation   = \"plain\"        # Could be 'iav', 'gini', 'welsh', 'dry'...\n",
    "season                    = \"ANN\" #, \"DJF\",\"JJA\"  # any CDO season. Graph is tuned for showing 1 season\n",
    "experiment                = \"ssp585\"\n",
    "#\n",
    "ref_experiment            = \"historical\"\n",
    "ref_period                = \"1850-1900\" \n",
    "proj_period               = \"2015-2099\" # period investigated for the warming\n",
    "warming                   = 3.0         # Temperature change (degrees)\n",
    "window_half_size          = 10          # For time filtering of atmospheric temperature before analyzing warming (unit=year)\n",
    "#\n",
    "clim_experiment           = \"piControl\"\n",
    "clim_period               = \"1-100\" # period for the climatology. For piControl, provide years relative to begin (starting with 1)\n",
    "#\n",
    "field_type                = \"rmeans\"     # Type of change field plotted : mean or rmean (for mean of relative changes) or rmeans (for relative change fo means)\n",
    "#threshold                 = 0.1/(24*3600) # A threshold on seasonal means for individual relative changes. Can be  :None. Here:  0.1 mm/day converted to kg m2 s-1\n",
    "threshold                 = None\n",
    "\n",
    "# Plot tuning below is for precipitation and rmean (relative mean)\n",
    "plot_args                 = dict(color=\"AR6_Precip_12\", colors=\"-80. -40. -20. -10. -5. 0 5. 10. 20. 40. 80. \")\n",
    "clim_contours             = [ -2, 0 , 2 ] # mm/day\n",
    "\n",
    "#\n",
    "# Other details\n",
    "figure_details            = {\"page_width\":2450,\"page_height\":3444, \"insert_width\":2000,\"pt\":60, \"ybox\":133,\"y\":40}\n",
    "common_grid               = \"r360x180\"\n",
    "#\n",
    "# If some basic fields are to be plotted for ~ each model :\n",
    "#   - should we restrict the plotted models to given list (None means : plot all)\n",
    "plot_only              = None\n",
    "#   - which fields should be actually plotted\n",
    "field_types_to_plot_for_all_models    = [ \"clim\" , \"rchange\"]\n",
    "#field_types_to_plot_for_all_models    = [ \"clim\" , \"rmeans\"]\n",
    "#   - with which common plot_parameters\n",
    "custom_plot_all_fields = { \"proj\" : \"Robinson\", \"mpCenterLonF\" : 0., \"options\" : \"lbBoxEndCapStyle=TriangleBothEnds\" }#, \"focus\":\"land\"}\n",
    "#   - should we use specific settings for page layout \n",
    "figure_details_all_models = None\n",
    "#   - which range should be used\n",
    "ranges = {}   # The baseline value !\n",
    "ranges={ \n",
    "#    \"reference\" :  { \"min\" : 0., \"max\" : 3000. , \"delta\" : 200. } ,\n",
    "#    \"projection\" : { \"min\" : 0., \"max\" : 3000. , \"delta\" : 200. } ,\n",
    "   \"clim\"       : { \"contours\":\"-3 -2 -1 0 1 2 3\", \"scale\" : 24*3600, \"units\" : \"mm/d\", \"min\":-4. , \"max\":4., \"delta\":1} , \n",
    "   \"rchange\"    : { \"color\" : \"AR6_Precip_12\", \"colors\":\"-80. -40. -20. -10. -5. 0 5. 10. 20. 40. 80. \" } ,\n",
    "#   \"schange\"    : { \"colors\": \"-5 -2 -1 -0.5 -0.25 0. 0.25 0.5 1 2 5\"  , \"units\":\"-\", \"color\":\"AR6_Precip_12\" } , \n",
    "#   \"variability\": { \"min\" : 0., \"max\" : 1. , \"delta\" : 0.1 } ,\n",
    "    }\n",
    "\n",
    "\n",
    "contour_mask             = CAMMAC+\"/data/fixed_fields/sftlf_fx_CNRM-CM6-1_historical_r1i1p1f2_gr.nc\"\n",
    "\n",
    "do_test                  = True"
   ]
  },
  {
   "cell_type": "code",
   "execution_count": null,
   "metadata": {},
   "outputs": [],
   "source": [
    "if do_test :\n",
    "    included_models     = [\"CNRM-CM6-1\"]    \n",
    "    version             = \"_test\"\n",
    "    ref_period          = \"1850\" \n",
    "    clim_period         = \"1-2\"\n",
    "    included_models     = [\"CNRM-ESM2-1\"]    "
   ]
  },
  {
   "cell_type": "markdown",
   "metadata": {},
   "source": [
    "## Load libraries"
   ]
  },
  {
   "cell_type": "code",
   "execution_count": null,
   "metadata": {},
   "outputs": [],
   "source": [
    "import sys, os\n",
    "\n",
    "from climaf.api import *\n",
    "from climaf.cache import stamping\n",
    "climaf.cache.stamping=False\n",
    "\n",
    "from CAMMAClib.changes     import change_figure, global_change\n",
    "from CAMMAClib.ancillary   import create_labelbar, feed_dic\n",
    "from CAMMAClib.variability import agreement_fraction_on_sign, variability_AR5, stippling_hatching_masks_AR5\n",
    "from CAMMAClib.mips_et_al  import read_versions_dictionnary, institute_for_model, mip_for_experiment, \\\n",
    "                               models_for_experiments_multi_var, models_for_experiments, TSU_metadata\n",
    "\n",
    "# Load some user settings, if available\n",
    "settings_file=os.getenv(\"CAMMAC_USER_PYTHON_CODE_DIR\",\".\")+'/cammac_user_settings.py'\n",
    "if os.path.exists(settings_file) :\n",
    "    exec(compile(open(settings_file).read(),settings_file,'exec'))\n"
   ]
  },
  {
   "cell_type": "code",
   "execution_count": null,
   "metadata": {},
   "outputs": [],
   "source": [
    "metadata=\"\""
   ]
  },
  {
   "cell_type": "code",
   "execution_count": null,
   "metadata": {},
   "outputs": [],
   "source": [
    "from IPython.core.display import display, HTML\n",
    "display(HTML(\"<style>.container { width:100% !important; }</style>\"))"
   ]
  },
  {
   "cell_type": "markdown",
   "metadata": {},
   "source": [
    "## Compute global all-season warming for each model, and store years when prescribed warming  is reached "
   ]
  },
  {
   "cell_type": "code",
   "execution_count": null,
   "metadata": {},
   "outputs": [],
   "source": [
    "# Read dictionnary of data versions (see sibling directory data_versions)\n",
    "data_versions=read_versions_dictionnary(data_versions_tag,data_versions_dir)\n",
    "\n",
    "# Identify models with data for relevant experiments : projection and reference, for 'tas' and variable of interest\n",
    "models=models_for_experiments_multi_var(data_versions,[(variable,table),(\"tas\",\"Amon\")],\n",
    "                              [ref_experiment,experiment,clim_experiment],excluded_models,included_models)\n",
    "#print models\n",
    "if False and variable==\"P-E\" :\n",
    "    # Check that all models+variant have a 'latest' version of evspsbl\n",
    "    issues=[]\n",
    "    for model,variant in models :\n",
    "        for exp in [ref_experiment,experiment,clim_experiment] :\n",
    "            check=ds(project=\"CMIP6\", experiment=exp,\n",
    "                model=model, institute=institute_for_model(model),\n",
    "                period=\"*\", variable=\"evspsbl\", table=\"Amon\", \n",
    "                version=\"latest\", grid=grid,mip=mip_for_experiment(exp),\n",
    "                realization=variant)\n",
    "            if check.baseFiles() is None or len(check.baseFiles())==0 :\n",
    "                issues.append((model,variant,exp))\n",
    "    if len(issues) > 0 :\n",
    "        print \"Issues with evspsbl for : \",issues\n",
    "        raise ValueError(\"\")\n",
    "                    \n",
    "\n",
    "# compute ensemble of warming time series along projection period of choosen experiment\n",
    "GSAT=global_change(\"tas\",\"Amon\",experiment,proj_period,ref_experiment,ref_period,models,\n",
    "                   data_versions,filter_length=2*window_half_size+1)\n",
    "\n",
    "max_change=dict()\n",
    "models_warming_enough=[]\n",
    "models_not_warming_enough=[]\n",
    "years=dict()\n",
    "for model,variant in models :\n",
    "    max_change[model]=cvalue(ccdo_fast(GSAT[model],operator=\"timmax\"))\n",
    "    if max_change[model]>= warming :\n",
    "        models_warming_enough.append((model,max_change[model]))\n",
    "        metadata+=TSU_metadata([ref_experiment,experiment],[(model,variant)],\"tas\",\"Amon\",data_versions)\n",
    "        year=int(proj_period.split(\"-\")[0]) + window_half_size\n",
    "        found=False\n",
    "        for v in cMA(GSAT[model]).flatten().data :\n",
    "            if v >= warming and not found :\n",
    "                years[(model,variant)]=year\n",
    "                found=True\n",
    "                break\n",
    "            year+=1\n",
    "    else :\n",
    "        models_not_warming_enough.append((model,max_change[model]))\n",
    "\n",
    "print \"\\nThese models don't reach %s K warming\"%warming,models_not_warming_enough\n",
    "print \"\\nThese (%d) models DO reach %s K warming\"%(len(models_warming_enough),warming), models_warming_enough\n",
    "print \"\\nYears when %s warming reached : \"%warming,years    "
   ]
  },
  {
   "cell_type": "markdown",
   "metadata": {},
   "source": [
    "## Compute changes at required Warming Level, and optionally stippling+hatching fields"
   ]
  },
  {
   "cell_type": "code",
   "execution_count": null,
   "metadata": {},
   "outputs": [],
   "source": [
    "def compute_change_fields() :\n",
    "    #\n",
    "    global metadata\n",
    "    #\n",
    "    if threshold is not None :\n",
    "        threshold_string=\"%f\"%threshold\n",
    "    #   \n",
    "    # diffs[model][case] stores the 'ref' field, 'proj' field, 'change' and 'rchange' (relative change) fields for each model \n",
    "    diffs =dict()  \n",
    "    #\n",
    "    for model,realization in years :\n",
    "        #print model,\n",
    "        \n",
    "        # Compute reference field\n",
    "        grid,version,_= data_versions[ref_experiment][variable][table][model][realization]\n",
    "        dref = dict(project=\"CMIP6\", experiment=ref_experiment,\n",
    "                model=model, institute=institute_for_model(model),\n",
    "                period=ref_period, variable=variable, table=table, \n",
    "                version=version, grid=grid,mip=mip_for_experiment(ref_experiment),\n",
    "                realization=realization)\n",
    "        metadata+=TSU_metadata(ref_experiment,[(model,realization)],variable,table,data_versions)\n",
    "        ref = ccdo(ds(**dref),operator=\"timmean -selseason,%s\"%season)\n",
    "        feed_dic(diffs,regridn(ref,cdogrid=common_grid),\"ref\",model)\n",
    "        #\n",
    "        # Move to projection experiment\n",
    "        dic = dref.copy()\n",
    "        _,version,_=data_versions[experiment][variable][table][model][realization]\n",
    "        dic.update(experiment=experiment,mip=mip_for_experiment(experiment), version=version)\n",
    "        metadata+=TSU_metadata(experiment,[(model,realization)],variable,table,data_versions)\n",
    "        #\n",
    "        # Compute field and changes at prescribed warming level\n",
    "        #\n",
    "        period = \"%d-%d\"%(years[(model,realization)]-window_half_size,years[(model,realization)]+window_half_size)\n",
    "        dic.update(period=period)\n",
    "        rr = ccdo(ds(**dic),operator=\"timmean -selseason,%s\"%season)\n",
    "        feed_dic(diffs,regridn(rr,cdogrid=common_grid),\"proj\",model)\n",
    "        #\n",
    "        # plain change\n",
    "        diff=ccdo2(rr,ref,operator=\"sub\")\n",
    "        feed_dic(diffs,regridn(diff,cdogrid=common_grid),\"change\",model)\n",
    "        #\n",
    "        # relative change\n",
    "        if threshold is not None :\n",
    "            thresholded_ref=ccdo_fast(ref,operator=\"setrtomiss,-1.e+10,\"+threshold_string)\n",
    "        else :\n",
    "            thresholded_ref=ref\n",
    "            rr_relative = ccdo_fast(ccdo2(diff,thresholded_ref,operator=\"div\"),operator=\"mulc,100.\")\n",
    "            feed_dic(diffs,regridn(rr_relative,cdogrid=common_grid),\"rchange\",model)\n",
    "        print\n",
    "        #\n",
    "        # Compute climatology on prescribed experiment\n",
    "        #\n",
    "        if len(clim_contours) > 0 :\n",
    "            clims = models_for_experiments(data_versions,variable,table,[clim_experiment],included_models=[model])\n",
    "            if len(clims) != 1 : \n",
    "                raise ValueError(\"Issue with data for the climatology for model %s : %s\"%(model,clims))\n",
    "            else :\n",
    "                _,clim_realization=clims[0]\n",
    "                _,version,clim_data_period = data_versions[clim_experiment][variable][table][model][clim_realization]\n",
    "                dclim = dic.copy()\n",
    "                dclim.update(experiment = clim_experiment, mip = mip_for_experiment(clim_experiment), \n",
    "                         version = version, realization = clim_realization)\n",
    "                metadata += TSU_metadata(clim_experiment,[(model,clim_realization)],variable,table,data_versions)\n",
    "                if clim_experiment != \"piControl\" :\n",
    "                    dclim.update(period=clim_period)\n",
    "                else :\n",
    "                    shifts=clim_period.split(\"-\")\n",
    "                    clim_data_begin=int(clim_data_period.split(\"-\")[0])\n",
    "                    clim_begin = clim_data_begin+int(shifts[0])-1\n",
    "                    clim_end   = clim_data_begin+int(shifts[1])-1\n",
    "                    dclim.update(period=\"%d-%d\"%(clim_begin,clim_end))\n",
    "                clim = ccdo(ds(**dclim),operator=\"timmean -selseason,%s\"%season)\n",
    "                feed_dic(diffs,regridn(clim,cdogrid=common_grid),\"clim\",model)\n",
    "\n",
    "    #\n",
    "    #\n",
    "    # Compute ensemble statistics, and stippling\n",
    "    \n",
    "    # A dict of ensemble 'stat' fields, with 'stat' varying among  : \n",
    "    # mean,median,rmean,rmedian,stippling,hatching (where prefix 'r' means 'relative')\n",
    "    fields=dict()\n",
    "    fields[\"mean\"]   = ccdo_ens(cens(diffs[\"change\"]) , operator=\"ensmean\")\n",
    "    fields[\"median\"] = ccdo_ens(cens(diffs[\"change\"]) , operator=\"enspctl,50\")\n",
    "    fields[\"rmean\"]  = ccdo_ens(cens(diffs[\"rchange\"]), operator=\"ensmean\")\n",
    "    fields[\"rmedian\"]= ccdo_ens(cens(diffs[\"rchange\"]), operator=\"enspctl,50\")\n",
    "    if len(clim_contours) > 0 :\n",
    "        fields[\"clim\"]   = ccdo_ens(cens(diffs[\"clim\"])   , operator=\"ensmean\")\n",
    "    #\n",
    "    # Compute relative change of ensemble means\n",
    "    meanr=ccdo_ens(cens(diffs[\"ref\"])  , operator=\"ensmean\")\n",
    "    mean2=ccdo_ens(cens(diffs[\"proj\"]) , operator=\"ensmean\")\n",
    "    fields[\"rmeans\"]=ccdo2(ccdo2(mean2,meanr,operator=\"sub\"),meanr,operator=\"mulc,100 -div\")\n",
    "    #\n",
    "    return diffs,fields\n",
    "#\n",
    "diffs,fields=compute_change_fields()"
   ]
  },
  {
   "cell_type": "code",
   "execution_count": null,
   "metadata": {},
   "outputs": [],
   "source": [
    "#ncview(fields[\"clim\"])"
   ]
  },
  {
   "cell_type": "markdown",
   "metadata": {},
   "source": [
    "## Write the metadata file"
   ]
  },
  {
   "cell_type": "code",
   "execution_count": null,
   "metadata": {},
   "outputs": [],
   "source": [
    "if not os.path.exists(outdir):\n",
    "    os.makedirs(outdir)\n",
    "with open(\"%s/%s%s_md.txt\"%(outdir,figure_name,version),\"w\") as f:\n",
    "    f.write(metadata)"
   ]
  },
  {
   "cell_type": "markdown",
   "metadata": {},
   "source": [
    "## Create panel "
   ]
  },
  {
   "cell_type": "code",
   "execution_count": null,
   "metadata": {},
   "outputs": [],
   "source": [
    "if len(clim_contours) > 0 :\n",
    "    contours               = fields[\"clim\"]\n",
    "    mm_per_day             = 1./(24*3600)  # One millimeter per day in S.I.\n",
    "    plot_args[\"contours\"]  = \"\"\n",
    "    for c in clim_contours : \n",
    "        plot_args[\"contours\"]  += \"%g \"%(c*mm_per_day)\n",
    "    plot_args[\"aux_options\"] = \"cnLineThicknessF=6.|cnLineColor=black|gsnContourZeroLineThicknessF=12.\"#+plot_args.get(\"aux_options\",\"\")\n",
    "    contour_suffix         = \"_cont\"\n",
    "    # Apply mask on contour fields\n",
    "    if contour_mask is not None :\n",
    "        mask              = fds(contour_mask)\n",
    "        invert_mask       = ccdo(mask, operator=\"expr,'invert=100-sftlf'\")\n",
    "        invert_mask       = ccdo(invert_mask, operator=\"gec,100\")\n",
    "        actual_mask       = regridn(invert_mask,cdogrid=common_grid)\n",
    "        contours          = ccdo2_flip(contours,actual_mask,operator=\"ifthen\")\n",
    "else :\n",
    "    contours       = \"\"\n",
    "    contour_suffix = \"\"\n",
    "#print plot_args [\"aux_options\"]\n",
    "\n",
    "\n",
    "the_plot=change_figure(variable, variable_transformation, fields[field_type],\n",
    "            mask1=contours, shade=False,\n",
    "            relative=(\"rme\" in field_type),title=\"\", number=\"%d\"%len(years), labelbar=\"True\",\n",
    "            custom_plot=plot_args)\n",
    "#\n",
    "fn=\"%s=%s=%s=%s=%s=%s=%s=%s.nc\"%\\\n",
    "    (season,variable,experiment,field_type,variable_transformation,\\\n",
    "     ref_period,proj_period,figure_name+version)\n",
    "cfile(fields[field_type],fn,ln=True)\n",
    "fn=\"%s=%s=%s=%s=%s=%s=%s=%s.nc\"%\\\n",
    "    (season,variable,clim_experiment,field_type,variable_transformation,\\\n",
    "     clim_period,\"NA\",figure_name+version),\n",
    "cfile(contours,fn,ln=True)\n",
    "#cdrop(the_plot)\n",
    "#iplot(the_plot)"
   ]
  },
  {
   "cell_type": "markdown",
   "metadata": {},
   "source": [
    "## Create and write a page (add title)"
   ]
  },
  {
   "cell_type": "code",
   "execution_count": null,
   "metadata": {},
   "outputs": [],
   "source": [
    "if manual_title is None :\n",
    "    title = \"Effect on %s %s of a %d degrees warming (vs %s)\"%(season,variable,int(warming),ref_period)\n",
    "else : \n",
    "    title=manual_title\n",
    "fig=cpage([[the_plot]],title=title, **figure_details)\n",
    "outfile=\"%s_change_%dK_%s_%s%s_%s%s.png\"%(variable,int(warming),experiment,season,contour_suffix,data_versions_tag,version)\n",
    "cfile(fig,outdir+\"/\"+outfile)\n",
    "os.system(\"cd %s ; ln -sf %s %s%s.png\"%(outdir,outfile,figure_name,version))\n",
    "#\n",
    "small=outfile.replace(\".png\",\".small.png\")\n",
    "os.system(\"cd %s ; convert -geometry 50%% %s %s\"%(outdir,outfile,small))\n",
    "os.system(\"cd %s ; ln -sf %s %s%s_small.png\"%(outdir,small,figure_name+\"_\"+season,version))"
   ]
  },
  {
   "cell_type": "markdown",
   "metadata": {},
   "source": [
    "## Write final fields"
   ]
  },
  {
   "cell_type": "code",
   "execution_count": null,
   "metadata": {},
   "outputs": [],
   "source": [
    "outfile=\"%s_%s_%dK_%s_%s_%s%s.nc\"%(variable,field_type,int(warming),experiment,season,data_versions_tag,version)\n",
    "cfile(fields[field_type],outfile,ln=True)\n",
    "#\n",
    "outfile=\"%s_clim_%dK_%s_%s_%s%s.nc\"%(variable,int(warming),clim_experiment,season,data_versions_tag,version)\n",
    "cfile(fields[\"clim\"],outfile,ln=True)"
   ]
  },
  {
   "cell_type": "markdown",
   "metadata": {},
   "source": [
    "## Write one multi-model panel per requested field type"
   ]
  },
  {
   "cell_type": "code",
   "execution_count": null,
   "metadata": {},
   "outputs": [],
   "source": [
    "if figure_details_all_models is None :\n",
    "    figure_details_all_models=figure_details"
   ]
  },
  {
   "cell_type": "code",
   "execution_count": null,
   "metadata": {},
   "outputs": [],
   "source": [
    "for field_type in field_types_to_plot_for_all_models :\n",
    "    #\n",
    "    if field_type in diffs:\n",
    "        plotargs=custom_plot_all_fields.copy()\n",
    "        plotargs.update(ranges.get(field_type,{}))\n",
    "        plotargs.update(options=\"cnFillMode=CellFill\")\n",
    "        #\n",
    "        if plot_only is not None :\n",
    "            ens=cens()\n",
    "            for model in plot_only :\n",
    "                if model in diffs[field_type] :\n",
    "                    ens[model]=diffs[field_type][model]\n",
    "        else:\n",
    "            ens=cens(diffs[field_type])\n",
    "        allplots=plot(ens,**plotargs)\n",
    "        page=cpage(allplots,title=\"%s_%s_%s_%s\"%(variable,field_type,experiment,season),**figure_details_all_models)\n",
    "        pagename=\"%s/all_models_%s_%s_%s_%s_%s.png\"%(outdir,variable,field_type,experiment,season,data_versions_tag)\n",
    "        cfile(page,pagename)\n"
   ]
  }
 ],
 "metadata": {
  "kernelspec": {
   "display_name": "Python 2",
   "language": "python",
   "name": "python2"
  },
  "language_info": {
   "codemirror_mode": {
    "name": "ipython",
    "version": 2
   },
   "file_extension": ".py",
   "mimetype": "text/x-python",
   "name": "python",
   "nbconvert_exporter": "python",
   "pygments_lexer": "ipython2",
   "version": "2.7.15"
  }
 },
 "nbformat": 4,
 "nbformat_minor": 2
}
