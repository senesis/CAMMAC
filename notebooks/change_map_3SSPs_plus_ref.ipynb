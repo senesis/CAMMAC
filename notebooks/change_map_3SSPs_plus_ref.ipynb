{
 "cells": [
  {
   "cell_type": "markdown",
   "metadata": {},
   "source": [
    "# CAMMAC https://cammac.readthedocs.io\n",
    "S.Sénési for Météo-France - sept 2019 to march 2021\n",
    "\n",
    "# Build a figure showing changes for three SSPs  and the reference field\n",
    "# Here applied to precipitation seasonnality\n",
    "\n",
    "\n",
    "## Parameters stand in first cell, are either commented here or in the doc (see above)\n",
    "\n",
    "### A few commands below are specific to the Notebook environment, and can be safely commented out"
   ]
  },
  {
   "cell_type": "markdown",
   "metadata": {},
   "source": [
    "## Default settings (some may be overriden by Papermill - this would show in next cell in the execution output notebook)"
   ]
  },
  {
   "cell_type": "code",
   "execution_count": null,
   "metadata": {
    "tags": [
     "parameters"
    ]
   },
   "outputs": [],
   "source": [
    "import os\n",
    "do_test            = False\n",
    "\n",
    "figure_name        = \"Box8-2_Fig1\"\n",
    "# Version number will be a suffix of figure filename\n",
    "version            = \"\"\n",
    "scheme             = \"AR5\"\n",
    "confidence_factor    = 1.645  # For AR6 comprehensive scheme : Multiplicative factor applied to control run \n",
    "                              # variability for deciding a change is significant (besides sqrt(2))\n",
    "sign_threshold       = 0.66   # For AR6 simple scheme : threshold on cross-model change sign agreeement fraction\n",
    "same_models_for_var= False\n",
    "\n",
    "title              = None\n",
    "#\n",
    "data_versions_tag  = \"20200719c\"\n",
    "data_versions_dir  = os.getenv(\"CAMMAC\")+\"/data\"\n",
    "excluded_models     = []  \n",
    "included_models     = None\n",
    "#\n",
    "variable           = \"pr\"\n",
    "#threshold          = 0.1/(24*3600) # 0.1 mm/day, in SI\n",
    "threshold          = None\n",
    "table              = \"Amon\"\n",
    "derivation         = \"seasonality\"\n",
    "#\n",
    "experiments        = [\"ssp126\",\"ssp245\",\"ssp585\"] \n",
    "proj_period        = \"2081-2100\"\n",
    "ref_experiment     = \"historical\"\n",
    "ref_period         = \"1995-2014\"\n",
    "# Which is the SSP which models list will be used for computing reference ensemble mean\n",
    "ssp_for_ref        = \"ssp585\" \n",
    "season             = \"ANN\"\n",
    "field_type         = \"mean_change\"\n",
    "custom_plot        = {\"min\":-0.2,\"max\":0.2, \"delta\":0.04, \"color\":\"AR6_Temp_12\"}\n",
    "#\n",
    "use_cached_proj_fields = True\n",
    "drop_old_figures       = False\n",
    "use_cached_ref_field   = True\n",
    "cache_dir          = \"./cache/\"\n",
    "figure_details     = {\"page_width\":2450, \"page_height\":2450,\"insert_width\":2400, \"pt\":55, \"ybox\":133,\"y\":40}\n",
    "common_grid        = \"r360x180\"\n",
    "variab_sampling_args = {\"house_keeping\":True,\"compute\":True,\"detrend\":True,\"shift\":100,\"nyears\":20,\"number\":20}\n",
    "outdir             = \"./figures\"\n",
    "\n",
    "# If some basic fields are to be plotted for each model :\n",
    "##########################################################\n",
    "#   - which fields should be actually plotted\n",
    "# plot_for_each_model    = [ \"reference\", \"projection\", \"change\", \"rchange\", \"schange\", \"variability\" ]\n",
    "plot_for_each_model    = [ ]\n",
    "\n",
    "#   - and with which common plot_parameters\n",
    "custom_plot_all_fields = { \"proj\" : \"Robinson\", \"mpCenterLonF\" : 0., \"options\" : \"lbBoxEndCapStyle=TriangleBothEnds\", \"focus\":\"land\"}\n",
    "\n",
    "#   - and which range should be used for each field_type\n",
    "ranges = {}   # The baseline value !\n",
    "# Values below fit the case of mrso\n",
    "#ranges={ \"reference\" : { \"min\" : 0., \"max\" : 3000. , \"delta\" : 200. } ,\n",
    "#        \"projection\" : { \"min\" : 0., \"max\" : 3000. , \"delta\" : 200. } ,\n",
    "#        \"change\"     : { \"min\" :1000.,\"max\":-1000. , \"delta\":200.} , \n",
    "#        \"rchange\"    : { \"min\" : -25., \"max\" : 25. , \"delta\" : 5. } ,\n",
    "#        \"variability\": { \"min\" : 0., \"max\" : 1. , \"delta\" : 0.1 } ,\n",
    "#       }\n"
   ]
  },
  {
   "cell_type": "code",
   "execution_count": null,
   "metadata": {},
   "outputs": [],
   "source": [
    "#do_test=True\n",
    "if do_test :\n",
    "    version              = \"_test\"\n",
    "    proj_period          = \"2099-2100\"\n",
    "    ref_period           = \"2013-2014\" \n",
    "    included_models      = [\"CNRM-CM6-1\"]    \n",
    "    experiments          = [\"ssp126\",\"ssp126\",\"ssp126\"]\n",
    "    ssp_for_ref          = \"ssp126\"\n",
    "    variab_sampling_args = {}\n",
    "    use_cached_proj_fields=True\n",
    "    use_cached_ref_field = True\n",
    "\n",
    "\n",
    "    #plot_for_each_model    = [ \"reference\", \"projection\", \"change\", \"rchange\", \"schange\", \"variability\" ]"
   ]
  },
  {
   "cell_type": "markdown",
   "metadata": {},
   "source": [
    "## Loading libraries"
   ]
  },
  {
   "cell_type": "code",
   "execution_count": null,
   "metadata": {},
   "outputs": [],
   "source": [
    "import sys, os, os.path\n",
    "\n",
    "from climaf.api import *\n",
    "climaf.cache.stamping=False\n",
    "\n",
    "from CAMMAClib.changes    import change_figure_with_caching, change_figure\n",
    "from CAMMAClib.ancillary  import create_labelbar2, prettier_label\n",
    "from CAMMAClib.cancillary import walsh_seasonality\n",
    "from CAMMAClib.mips_et_al import TSU_metadata, read_versions_dictionnary\n",
    "\n",
    "# Load some user settings, if available\n",
    "udir = os.getenv(\"CAMMAC_USER_PYTHON_CODE_DIR\",\".\")\n",
    "settings_file = udir + '/cammac_user_settings.py'\n",
    "if os.path.exists(settings_file) :\n",
    "    print(\"Opening source code file for cammac_user_settings at %s\"%udir)\n",
    "    exec(compile(open(settings_file).read(),settings_file,'exec'))\n",
    "else :\n",
    "    print(\"No settings file at %s\"%udir)"
   ]
  },
  {
   "cell_type": "markdown",
   "metadata": {},
   "source": [
    "### If using a notebook, use wide display"
   ]
  },
  {
   "cell_type": "code",
   "execution_count": null,
   "metadata": {},
   "outputs": [],
   "source": [
    "from IPython.core.display import display, HTML, Image\n",
    "display(HTML(\"<style>.container { width:100% !important; }</style>\"))"
   ]
  },
  {
   "cell_type": "markdown",
   "metadata": {},
   "source": [
    "## The basic engine is function change_figure_with_caching, which has numerous settings\n",
    "\n",
    "## Next function allows to set almost all values"
   ]
  },
  {
   "cell_type": "code",
   "execution_count": null,
   "metadata": {},
   "outputs": [],
   "source": [
    "def afigure(experiment,title,panel,labelbar=\"False\",outfile=None,read=True,\n",
    "            custom_plot=custom_plot,field_type=field_type):\n",
    "    \n",
    "    global metadata\n",
    "    _,fig,dic,variab_models,models= change_figure_with_caching(\n",
    "        ref_period=ref_period, proj_period=proj_period, \n",
    "        variable=variable, table=table, \n",
    "        experiment=experiment, ref_experiment=ref_experiment, season=season,\n",
    "        derivation_label=derivation, \n",
    "        field_type=field_type,\n",
    "        title=title, \n",
    "        custom_plot=custom_plot, labelbar=labelbar, \n",
    "        data_versions_tag=data_versions_tag, data_versions_dir=data_versions_dir,\n",
    "        outdir=outdir, outfile=outfile,\n",
    "        #\n",
    "        common_grid=common_grid, \n",
    "        variab_sampling_args=variab_sampling_args,\n",
    "        models=included_models, excluded_models=excluded_models,\n",
    "        cache_dir=cache_dir, read=read, write=True, \n",
    "        print_statistics=True , deep=None,  threshold=threshold,\n",
    "        drop = drop_old_figures,\n",
    "        scheme=scheme, same_models_for_variability_and_changes=same_models_for_var,\n",
    "        low_change_agree_threshold=confidence_factor,\n",
    "        change_sign_agree_threshold = sign_threshold\n",
    "        )\n",
    "    if panel is not None :\n",
    "        metadata+=TSU_metadata([ref_experiment,experiment],models,variable,table,data_versions,panel)\n",
    "        if variab_sampling_args != {} :\n",
    "            metadata+=TSU_metadata([\"piControl\"],variab_models,variable,table,data_versions,panel)\n",
    "    return fig,dic,models\n"
   ]
  },
  {
   "cell_type": "markdown",
   "metadata": {},
   "source": [
    "## Compute figures for the three experiments "
   ]
  },
  {
   "cell_type": "code",
   "execution_count": null,
   "metadata": {
    "scrolled": false
   },
   "outputs": [],
   "source": [
    "figs=dict()\n",
    "dics=dict()\n",
    "files=dict()\n",
    "number=0\n",
    "letters=[\"b\",\"c\",\"d\"]\n",
    "metadata=\"\"\n",
    "data_versions=read_versions_dictionnary(data_versions_tag, data_versions_dir)\n",
    "\n",
    "for exp in experiments :\n",
    "    print(\"processing \"+exp)\n",
    "    etitle=\"(%s) %s\"%(letters[number],prettier_label.get(exp,exp))\n",
    "    figs[exp],dic,models = afigure(exp,etitle,letters[number],read=use_cached_proj_fields)\n",
    "    if dic is not None :\n",
    "        dics[exp]=dic[exp]\n",
    "    if drop_old_figures :\n",
    "        cdrop(figs[exp])\n",
    "    number+=1\n",
    "    "
   ]
  },
  {
   "cell_type": "markdown",
   "metadata": {},
   "source": [
    "## Compute and plot reference field models mean"
   ]
  },
  {
   "cell_type": "code",
   "execution_count": null,
   "metadata": {},
   "outputs": [],
   "source": [
    "ref_file=\"%s/reference_mean_%s_%s_%s.nc\"%(cache_dir,variable,derivation,data_versions_tag)\n",
    "#\n",
    "rtitle=\"reference : %s (%s)\"%(ref_experiment,ref_period)\n",
    "if not use_cached_ref_field or not os.path.exists(ref_file):\n",
    "    _,dic,models = afigure(ssp_for_ref,rtitle,\"a\",read=False)\n",
    "    ens=cens()\n",
    "    #models=dic[ssp_for_ref][season][\"reference\"][derivation]\n",
    "    for model,variant in models :\n",
    "        ens[model]=regridn(dic[ssp_for_ref][season][\"reference\"][derivation][model],\n",
    "                           cdogrid=common_grid,option='remapcon')\n",
    "    ref_mean=ccdo_ens(ens,operator='ensmean')\n",
    "    cdrop(ref_mean)\n",
    "    cfile(ref_mean,ref_file)\n",
    "    #\n",
    "    ref_metadata=TSU_metadata([ref_experiment],models,variable,table,data_versions,\"a\")\n",
    "    metadata+=ref_metadata\n",
    "    #with open(\"%s/%s%s_a_md\"%(outdir,figure_name,version),\"w\") as f:   f.write(ref_metadata)\n",
    "    ref_number=len(models)\n",
    "else :\n",
    "    ref_mean=fds(ref_file,period=ref_period,variable=variable)\n",
    "    ref_number=\"39\"\n",
    "#\n",
    "ref_fig=change_figure(variable,derivation,ref_mean,\"\",\"\",relative=False,\n",
    "                          labelbar=\"False\",title=\"a) %s\"%rtitle,number=ref_number ) \n",
    "if drop_old_figures :\n",
    "    cdrop(ref_fig)"
   ]
  },
  {
   "cell_type": "code",
   "execution_count": null,
   "metadata": {},
   "outputs": [],
   "source": [
    "import os.path\n",
    "if not os.path.exists(outdir):\n",
    "    os.makedirs(outdir)\n",
    "with open(\"%s/%s%s_md.txt\"%(outdir,figure_name,version),\"w\")  as f: f.write(metadata)"
   ]
  },
  {
   "cell_type": "markdown",
   "metadata": {},
   "source": [
    "## Create the labelbars, concatenate it, and assemble it with plots"
   ]
  },
  {
   "cell_type": "code",
   "execution_count": null,
   "metadata": {},
   "outputs": [],
   "source": [
    "# create a change figure wih labelbar \n",
    "labelbar_figure,_,_=afigure(experiments[0],\"some_title\", \"some panel\", \n",
    "                            labelbar=\"True\",outfile=\"./fig_with_label.png\")\n",
    "\n",
    "# create a ref figure wih labelbar and extract labelbar\n",
    "ref_fig_with_labelbar=change_figure(variable,derivation,ref_mean,\"\",\"\",relative=False,\n",
    "                                        labelbar=\"True\",title=\"some title\")\n",
    "if drop_old_figures :\n",
    "    cdrop(ref_fig_with_labelbar)\n",
    "cfile(ref_fig_with_labelbar,\"./ref_with_label.png\")\n",
    "\n",
    "# Extract and assemble labelbars\n",
    "create_labelbar2(\"./ref_with_label.png\", \"./fig_with_label.png\",\"./lb2.png\",missing=False,scheme=scheme)#,y_offset=580)\n",
    "\n",
    "if title is None :\n",
    "    title=\"Multi-model changes in %s \"%prettier_label.get(variable,variable)\n",
    "    if derivation !=  \"plain\" :\n",
    "        title+=derivation+\" \"\n",
    "    title+=\"for \"+proj_period\n",
    "\n",
    "# Create multi-panel figure\n",
    "page=cpage([\n",
    "      [ref_fig             , figs[experiments[0]]],\n",
    "      [figs[experiments[1]], figs[experiments[2]]],\n",
    "      ],\n",
    "    title=title,\n",
    "    insert=\"./lb2.png\", **figure_details\n",
    "    )\n",
    "#\n",
    "outfile=\"change_3SSPS_plus_ref_%s_%s_%s_%s%s.png\"%(variable,derivation,proj_period,data_versions_tag,version)\n",
    "if drop_old_figures :\n",
    "    cdrop(page)\n",
    "print(cfile(page,outdir+\"/\"+outfile))\n",
    "os.system(\"cd %s ; ln -sf %s %s%s.png\"%(outdir,outfile,figure_name,version))\n",
    "#\n",
    "small=outfile.replace(\".png\",\".small.png\")\n",
    "os.system(\"cd %s ; convert -geometry 50%% %s %s\"%(outdir,outfile,small))\n",
    "os.system(\"cd %s ; ln -sf %s %s%s_small.png\"%(outdir,small,figure_name,version))\n",
    "#\n",
    "os.system(\"rm -f ./lb2.png\")\n",
    "os.system(\"rm -f ./*_with_label.png\")"
   ]
  },
  {
   "cell_type": "markdown",
   "metadata": {},
   "source": [
    "## If using a notebook , display result on-line"
   ]
  },
  {
   "cell_type": "code",
   "execution_count": null,
   "metadata": {},
   "outputs": [],
   "source": [
    "#Image(outdir+\"/\"+outfile,width=600)"
   ]
  },
  {
   "cell_type": "markdown",
   "metadata": {},
   "source": [
    "## Plotting all models for all field types and all cases"
   ]
  },
  {
   "cell_type": "code",
   "execution_count": null,
   "metadata": {},
   "outputs": [],
   "source": [
    "if use_cached_proj_fields==True and len(plot_for_each_model) > 0 :\n",
    "    raise Exception(\"Cannot plot individual models when running with use_cached_proj_fields=True\")\n",
    "else:\n",
    "    for field_type in plot_for_each_model :\n",
    "        #\n",
    "        plotargs=custom_plot_all_fields.copy()\n",
    "        plotargs.update(ranges.get(field_type,{}))\n",
    "        #\n",
    "        for experiment in experiments : \n",
    "            allplots=plot(cens(dics[experiment][season][field_type][derivation]),**plotargs)\n",
    "            page=cpage(allplots,page_width=1200,page_height=1700,title=\"%s_%s_%s_%s_%s\"%(variable,derivation,field_type,experiment,season))\n",
    "            pagename=\"%s/all_models_%s_%s_%s_%s_%s_%s.png\"%(outdir,variable,derivation,field_type,experiment,season,data_versions_tag)\n",
    "            cfile(page,pagename)"
   ]
  }
 ],
 "metadata": {
  "kernelspec": {
   "display_name": "Python 2",
   "language": "python",
   "name": "python2"
  },
  "language_info": {
   "codemirror_mode": {
    "name": "ipython",
    "version": 2
   },
   "file_extension": ".py",
   "mimetype": "text/x-python",
   "name": "python",
   "nbconvert_exporter": "python",
   "pygments_lexer": "ipython2",
   "version": "2.7.15"
  }
 },
 "nbformat": 4,
 "nbformat_minor": 2
}
