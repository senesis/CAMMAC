{
 "cells": [
  {
   "cell_type": "markdown",
   "metadata": {},
   "source": [
    "# CAMMAC https://cammac.readthedocs.io\n",
    "S.Sénési for Météo-France - sept 2019 to march 2021\n",
    "\n",
    "# Build a figure showing change for a (plain or derived) variable, for three SSPs and two seasons\n",
    "\n",
    "\n",
    "## Parameters stand in first cell, are either commented here or in the doc (see above)\n",
    "\n",
    "### A few commands below are specific to the Notebook environment, and have no effect in pure Python"
   ]
  },
  {
   "cell_type": "markdown",
   "metadata": {},
   "source": [
    "## Default settings (some may be overriden by Papermill - this would show in next cell in the execution output notebook)"
   ]
  },
  {
   "cell_type": "code",
   "execution_count": null,
   "metadata": {
    "tags": [
     "parameters"
    ]
   },
   "outputs": [],
   "source": [
    "import os\n",
    "figure_title           = None  # if None, an automatic title will be generated\n",
    "auto_title_prefix      = \"Seasonal\"\n",
    "#\n",
    "figure_name            = \"Fig8-19\" # Used for a symbolic link to an explicit filename,and for metadata filename\n",
    "# Version number will be a suffix for figure filename. Use e.g. \"_V1\" for legibility\n",
    "version                = \"\"\n",
    "scheme                 = \"AR5\"\n",
    "confidence_factor    = 1.645  # For AR6 comprehensive scheme : Multiplicative factor applied to control run \n",
    "                              # variability for deciding a change is significant (besides sqrt(2))\n",
    "sign_threshold       = 0.66   # For AR6 and AR6S schemes : threshold on cross-model change sign agreeement fraction\n",
    "same_models_for_var    = False\n",
    "\n",
    "#See doc for data_versions in sibling directory data_versions\n",
    "data_versions_tag      = \"20200719\"\n",
    "data_versions_dir      = os.getenv(\"CAMMAC\")+\"/data\"\n",
    "excluded_models        = []\n",
    "included_models        = None # If a list is provided, only these models may be used\n",
    "variability_models     = None\n",
    "variability_excluded_models = []\n",
    "variability_sampling_args={\"house_keeping\":True,\"compute\":True,\"detrend\":True,\"shift\":100,\"nyears\":20,\"number\":20}\n",
    "\n",
    "#\n",
    "variable               = \"mrso\"\n",
    "threshold              = None \n",
    "table                  = \"Lmon\"\n",
    "field_type             = \"mean_schange\" # Any type of field as documented in function CAMMAClib.changes.change_fields\n",
    "derivation_label       = \"plain\"        # Can plot the change of the raw variable, or its variability, or ... see CAMMAClib.changes.derivations\n",
    "custom_plot            = {\"colors\": \"-5 -2 -1 -0.5 -0.25 0. 0.25 0.5 1 2 5\", \"units\":\"-\", \"color\":\"AR6_Precip_12\"}  # Should be tuned, usually\n",
    "#\n",
    "seasons                = [\"DJF\",\"JJA\"]  # any CDO season, and/or \"ANN\". Figure is tuned for a pair of seasons\n",
    "experiments            = [\"ssp126\",\"ssp245\",\"ssp585\"] # Figure is tuned for three experiments\n",
    "proj_period            = \"2081-2100\"\n",
    "ref_experiment         = \"historical\"\n",
    "ref_period             = \"1995-2014\"  \n",
    "\n",
    "#\n",
    "# If pre-computed fields for these SSPs, seasons and projection_period are available, should we use it ?\n",
    "# Set it to False for recomputing either :\n",
    "#   - for printing fields and field changes statistics\n",
    "#   - or if any external script launched by CliMAF was internally changed\n",
    "use_cached_proj_fields = True   \n",
    "drop_old_figures       = False\n",
    "print_statistics       = True\n",
    "\n",
    "# If some basic fields are to be plotted for each model :\n",
    "\n",
    "#   - which fields should be actually plotted\n",
    "# plot_for_each_model    = [ \"reference\", \"projection\", \"change\", \"rchange\", \"schange\", \"variability\" ]\n",
    "plot_for_each_model    = [ ]\n",
    "\n",
    "#   - and with which common plot_parameters\n",
    "custom_plot_all_fields = { \"proj\" : \"Robinson\", \"mpCenterLonF\" : 0., \"options\" : \"lbBoxEndCapStyle=TriangleBothEnds\", \"focus\":\"land\"}\n",
    "all_models_page_args   = {\"page_width\":3675,\"page_height\":5188,\"insert_width\":2000,\"pt\":48, \"ybox\":133,\"y\":52}\n",
    "\n",
    "#   - and which range should be used\n",
    "ranges = {}   # The baseline value !\n",
    "# Values below fit the case of mrso\n",
    "#ranges={ \"reference\" : { \"min\" : 0., \"max\" : 3000. , \"delta\" : 200. } ,\n",
    "#        \"projection\" : { \"min\" : 0., \"max\" : 3000. , \"delta\" : 200. } ,\n",
    "#        \"change\"     : { \"min\" :1000.,\"max\":-1000. , \"delta\":200.} , \n",
    "#        \"rchange\"    : { \"min\" : -25., \"max\" : 25. , \"delta\" : 5. } ,\n",
    "#        \"schange\"    : { \"colors\": \"-5 -2 -1 -0.5 -0.25 0. 0.25 0.5 1 2 5\"  , \"units\":\"-\", \"color\":\"AR6_Precip_12\" } , \n",
    "#        \"variability\": { \"min\" : 0., \"max\" : 1. , \"delta\" : 0.1 } ,\n",
    "#       }\n",
    "#\n",
    "outdir                 = \"./figures\"\n",
    "cache_dir              = \"./cache\"\n",
    "figure_details         = {\"page_width\":2450,\"page_height\":3444, \"insert_width\":1800,\"pt\":48, \"ybox\":133,\"y\":52}\n",
    "common_grid            = \"r360x180\"\n",
    "# Should we apply a mask to the figures (grid must fit with 'common_grid')\n",
    "figure_mask            = None\n",
    "#figure_mask            = CAMMAC+\"/data/mask_hide_antarctic_360x180.nc\"\n",
    "\n",
    "do_test                = True"
   ]
  },
  {
   "cell_type": "code",
   "execution_count": null,
   "metadata": {},
   "outputs": [],
   "source": [
    "if do_test :\n",
    "    version             = \"_test\"\n",
    "    proj_period         = \"2100\"\n",
    "    ref_period          = \"2014\" \n",
    "    included_models     = [\"CNRM-CM6-1\"]    \n",
    "    seasons             = [\"DJF\",\"DJF\"]  \n",
    "    experiments         = [\"ssp126\",\"ssp126\",\"ssp126\"] \n",
    "    figure_mask         = os.getenv(\"CAMMAC\")+\"/data/mask_hide_antarctic_360x180.nc\"\n",
    "    variability_sampling_args={\"house_keeping\":False,\"compute\":True,\"detrend\":True,\"shift\":100,\"nyears\":3,\"number\":3}\n",
    "\n",
    "    #variability_sampling_args={}\n",
    "    variability_models  = included_models\n",
    "    #variability_excluded_models = []\n",
    "    use_cached_proj_fields = False   \n",
    "\n",
    "\n",
    "    #plot_for_each_model    = [ \"reference\", \"projection\", \"change\", \"rchange\", \"schange\", \"variability\" ]"
   ]
  },
  {
   "cell_type": "markdown",
   "metadata": {},
   "source": [
    "## Load libraries"
   ]
  },
  {
   "cell_type": "code",
   "execution_count": null,
   "metadata": {},
   "outputs": [],
   "source": [
    "import sys\n",
    "\n",
    "from climaf.api import *\n",
    "climaf.cache.stamping=False\n",
    "climaf.driver.dig_hard_into_cache = False\n",
    "\n",
    "from CAMMAClib.changes    import change_figure_with_caching\n",
    "from CAMMAClib.ancillary  import create_labelbar, prettier_label\n",
    "from CAMMAClib.mips_et_al import TSU_metadata, read_versions_dictionnary\n",
    "\n",
    "# Load some user settings, if available\n",
    "settings_file=os.getenv(\"CAMMAC_USER_PYTHON_CODE_DIR\",\".\")+'/cammac_user_settings.py'\n",
    "if os.path.exists(settings_file) :\n",
    "    exec(compile(open(settings_file).read(),settings_file,'exec'))\n"
   ]
  },
  {
   "cell_type": "markdown",
   "metadata": {},
   "source": [
    "### If using a notebook, use wide display"
   ]
  },
  {
   "cell_type": "code",
   "execution_count": null,
   "metadata": {},
   "outputs": [],
   "source": [
    "from IPython.core.display import display, HTML, Image\n",
    "display(HTML(\"<style>.container { width:100% !important; }</style>\"))"
   ]
  },
  {
   "cell_type": "markdown",
   "metadata": {},
   "source": [
    "## The basic engine is function change_figure_with_caching, which has numerous settings (use 'help(change_figure_with_caching)')\n",
    "\n",
    "## Next function allows to set most values with global variables, the others with its arguments values"
   ]
  },
  {
   "cell_type": "code",
   "execution_count": null,
   "metadata": {},
   "outputs": [],
   "source": [
    "def afigure(experiment,season, title=None ,labelbar=\"False\",outfile=None,threshold=threshold):\n",
    "    fil,fig,dic,variab_models,used_models= change_figure_with_caching(\n",
    "        variable,experiment,season,\n",
    "        data_versions_tag=data_versions_tag, data_versions_dir=data_versions_dir,\n",
    "        models=included_models, excluded_models=excluded_models,\n",
    "        variability_models=variability_models, variability_excluded_models=variability_excluded_models,\n",
    "        ref_period=ref_period, proj_period=proj_period, \n",
    "        table=table, ref_experiment=ref_experiment, \n",
    "        derivation_label=derivation_label, field_type=field_type,\n",
    "        title=title, \n",
    "        custom_plot=custom_plot, labelbar=labelbar, \n",
    "        outdir=outdir, outfile=outfile,\n",
    "        #\n",
    "        common_grid=common_grid, mask=figure_mask,\n",
    "        variab_sampling_args=variability_sampling_args,\n",
    "        cache_dir=cache_dir, print_statistics=print_statistics,\n",
    "        deep=None,  read=use_cached_proj_fields, write=True,\n",
    "        threshold = threshold, scheme=scheme, \n",
    "        same_models_for_variability_and_changes=same_models_for_var,\n",
    "        low_change_agree_threshold=confidence_factor,\n",
    "        change_sign_agree_threshold = sign_threshold,\n",
    "        drop=drop_old_figures)\n",
    "    csync()\n",
    "    return fig,dic,variab_models,used_models"
   ]
  },
  {
   "cell_type": "markdown",
   "metadata": {},
   "source": [
    "## Compute figures for the three experiments and two seasons"
   ]
  },
  {
   "cell_type": "code",
   "execution_count": null,
   "metadata": {
    "scrolled": false
   },
   "outputs": [],
   "source": [
    "figs=dict()\n",
    "dics=dict()\n",
    "number=0\n",
    "letters=[\"a\",\"b\",\"c\",\"d\",\"e\",\"f\"]\n",
    "metadata=\"\"\n",
    "data_versions=read_versions_dictionnary(data_versions_tag, data_versions_dir)\n",
    "\n",
    "if len(plot_for_each_model) > 0 :\n",
    "    use_cached_proj_fields = False\n",
    "\n",
    "for exp in experiments :\n",
    "    figs[exp]=dict()\n",
    "    dics[exp]=dict()\n",
    "    for season in seasons:\n",
    "        dics[exp][season]=dict()\n",
    "        title=\"(%s) %s %s\"%(letters[number],prettier_label.get(exp,exp),season)\n",
    "        #\n",
    "        figs[exp][season],dic,variab_models,models = afigure(exp,season,title=title)\n",
    "        #\n",
    "        if not use_cached_proj_fields :\n",
    "            dics[exp][season].update(dic[exp][season])\n",
    "        metadata += TSU_metadata([ref_experiment,exp],models       ,variable,table,data_versions,letters[number])\n",
    "        metadata += TSU_metadata([\"piControl\"]       ,variab_models,variable,table,data_versions,letters[number])\n",
    "        #cdrop(figs[exp][season])\n",
    "        number+=1"
   ]
  },
  {
   "cell_type": "markdown",
   "metadata": {},
   "source": [
    "## Write the metadata file"
   ]
  },
  {
   "cell_type": "code",
   "execution_count": null,
   "metadata": {},
   "outputs": [],
   "source": [
    "import os.path\n",
    "if not os.path.exists(outdir):\n",
    "    os.makedirs(outdir)\n",
    "with open(\"%s/%s%s_md.txt\"%(outdir,figure_name,version),\"w\") as f:\n",
    "        f.write(metadata)"
   ]
  },
  {
   "cell_type": "markdown",
   "metadata": {},
   "source": [
    "## Create the common labelbar and assemble it with plots"
   ]
  },
  {
   "cell_type": "code",
   "execution_count": null,
   "metadata": {},
   "outputs": [],
   "source": [
    "# create a figure wih labelbar (using same plot settings as for figures above)\n",
    "labelbar_figure=afigure(experiments[0],seasons[0],labelbar=\"True\",\n",
    "                        outfile=\"./fig_with_label.png\",threshold=threshold)\n",
    "\n",
    "# Call utility function for extracting labelbar and adding fill pattern for shadings\n",
    "create_labelbar(\"./fig_with_label.png\", \"./insert.png\",missing=False,scheme=scheme)\n",
    "\n",
    "if figure_title is None :\n",
    "    figure_title=\"%s %s for %s (%s vs %s)\"%(auto_title_prefix,prettier_label.get(field_type,field_type),prettier_label[variable],proj_period,ref_period)\n",
    "\n",
    "# Create multi-panel figure\n",
    "page=cpage([\n",
    "    [figs[experiments[0]][seasons[0]],figs[experiments[0]][seasons[1]]],\n",
    "    [figs[experiments[1]][seasons[0]],figs[experiments[1]][seasons[1]]],\n",
    "    [figs[experiments[2]][seasons[0]],figs[experiments[2]][seasons[1]]]],\n",
    "    title=figure_title,\n",
    "    insert=\"./insert.png\",\n",
    "    **figure_details\n",
    "    )\n",
    "#\n",
    "outfile=\"%s_change_3SSPS_2seasons_%s_%s%s.png\"%(variable,proj_period,data_versions_tag,version)\n",
    "if drop_old_figures : cdrop(page)\n",
    "cfile(page,outdir+\"/\"+outfile)\n",
    "os.system(\"cd %s ; ln -sf %s %s%s.png\"%(outdir,outfile,figure_name,version))\n",
    "#\n",
    "small=outfile.replace(\".png\",\".small.png\")\n",
    "os.system(\"cd %s ; convert -geometry 50%% %s %s\"%(outdir,outfile,small))\n",
    "os.system(\"cd %s ; ln -sf %s %s%s_small.png\"%(outdir,small,figure_name,version))\n",
    "#\n",
    "os.system(\"rm ./insert.png\")\n",
    "os.system(\"rm ./fig_with_label.png\")"
   ]
  },
  {
   "cell_type": "markdown",
   "metadata": {},
   "source": [
    "## If using a notebook , display result on-line"
   ]
  },
  {
   "cell_type": "code",
   "execution_count": null,
   "metadata": {},
   "outputs": [],
   "source": [
    "#Image(outdir+\"/\"+outfile,width=800)"
   ]
  },
  {
   "cell_type": "markdown",
   "metadata": {},
   "source": [
    "dic[experiment][season][key][derivation_label][model] where key has values : reference, projection, change, rchange, schange, variability\n"
   ]
  },
  {
   "cell_type": "markdown",
   "metadata": {},
   "source": [
    "## Plotting all models for all field types and all cases"
   ]
  },
  {
   "cell_type": "code",
   "execution_count": null,
   "metadata": {},
   "outputs": [],
   "source": [
    "for field_type in plot_for_each_model :\n",
    "    #\n",
    "    plotargs=custom_plot_all_fields.copy()\n",
    "    plotargs.update(ranges.get(field_type,{}))\n",
    "    #\n",
    "    for experiment in experiments : \n",
    "        for season in seasons :\n",
    "            allplots=plot(cens(dics[experiment][season][field_type][derivation_label]),**plotargs)\n",
    "            title=title=\"%s_%s_%s_%s_%s\"%(variable,derivation_label,field_type,experiment,season)\n",
    "            page=cpage(allplots,title=title,**all_models_page_args)\n",
    "            cdrop(page)\n",
    "            pagename=\"%s/all_models_%s_%s_%s_%s_%s_%s.png\"%(outdir,variable,derivation_label,field_type,experiment,season,data_versions_tag)\n",
    "            cfile(page,pagename)"
   ]
  }
 ],
 "metadata": {
  "kernelspec": {
   "display_name": "Python 2",
   "language": "python",
   "name": "python2"
  },
  "language_info": {
   "codemirror_mode": {
    "name": "ipython",
    "version": 2
   },
   "file_extension": ".py",
   "mimetype": "text/x-python",
   "name": "python",
   "nbconvert_exporter": "python",
   "pygments_lexer": "ipython2",
   "version": "2.7.15"
  }
 },
 "nbformat": 4,
 "nbformat_minor": 2
}
