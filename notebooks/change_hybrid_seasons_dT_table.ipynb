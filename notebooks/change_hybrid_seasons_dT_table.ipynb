{
 "cells": [
  {
   "cell_type": "markdown",
   "metadata": {},
   "source": [
    "# CAMMAC https://cammac.readthedocs.io\n",
    "S.Sénési for Météo-France - sept 2019 to march 2021\n",
    "\n",
    "## This is a companion notebook for change_hybrid_seasons_dT, which allows to filter its results, keeping only entries for those models which do reach a given warming level\n",
    "\n",
    "### Input is a file named after that pattern\n",
    "fn=\"%s/stats_CMIP6_%s%s.json\"%(input_dir,data_versions_tag,input_version)\n",
    "\n",
    "### output is a file named after that pattern\n",
    "filen=\"%s/%s_%s%s.json\"%(outdir,\"Hydro_vars_change\",data_versions_tag,output_version)\n",
    "\n",
    "## Parameters stand in first cell, are either commented here or in the doc (see above)"
   ]
  },
  {
   "cell_type": "code",
   "execution_count": null,
   "metadata": {},
   "outputs": [],
   "source": [
    "from __future__ import print_function"
   ]
  },
  {
   "cell_type": "code",
   "execution_count": null,
   "metadata": {
    "tags": [
     "parameters"
    ]
   },
   "outputs": [],
   "source": [
    "import os\n",
    "input_version         = \"\"\n",
    "input_dir             = \"./changes\"\n",
    "outdir                = \"./figures\"\n",
    "output_version        = \"\"\n",
    "#\n",
    "data_versions_tag     = \"20210201_derived\"\n",
    "excluded_models       = []\n",
    "variables             = [(\"pr\",\"mean\"),(\"mrro\",\"mean\"), (\"pr\",\"std\"), (\"mrro\",\"std\")]\n",
    "\n",
    "max_warming           = 5.\n",
    "\n",
    "do_test               = True"
   ]
  },
  {
   "cell_type": "code",
   "execution_count": null,
   "metadata": {},
   "outputs": [],
   "source": [
    "if do_test :\n",
    "    input_version         = \"\"\n",
    "    output_version        = \"_tropic\"\n",
    "    variables             = [(\"pr\",\"mean\"),(\"mrro\",\"mean\"), (\"pr\",\"std\"), (\"mrro\",\"std\")]\n",
    "    #variables             = [(\"mrro\",\"mean\")]\n",
    "    input_dir             = \"/home/ssenesi/CAMMAC/notebooks/prod_20210201/FigBoxTS.X_f3_h/changes\"\n",
    "    outdir                = input_dir"
   ]
  },
  {
   "cell_type": "code",
   "execution_count": null,
   "metadata": {},
   "outputs": [],
   "source": [
    "do_test_extra = False\n",
    "if do_test_extra :\n",
    "    input_version         = \"extra\"\n",
    "    output_version        = \"_extra\"\n",
    "    variables             = [(\"pr\",\"mean\"),(\"mrro\",\"mean\"), (\"pr\",\"std\"), (\"mrro\",\"std\")]\n",
    "    #variables             = [(\"mrro\",\"mean\")]\n",
    "    input_dir             = \"/home/ssenesi/CAMMAC/notebooks/prod_20210201/FigBoxTS.X_f3_h_extra/changes\"\n",
    "    outdir                = input_dir"
   ]
  },
  {
   "cell_type": "code",
   "execution_count": null,
   "metadata": {},
   "outputs": [],
   "source": [
    "from IPython.core.display import display, HTML\n",
    "display(HTML(\"<style>.container { width:100% !important; }</style>\"))"
   ]
  },
  {
   "cell_type": "code",
   "execution_count": null,
   "metadata": {},
   "outputs": [],
   "source": [
    "import numpy as np\n",
    "import numpy.ma as ma\n",
    "import os\n",
    "import json\n",
    "import copy"
   ]
  },
  {
   "cell_type": "code",
   "execution_count": null,
   "metadata": {},
   "outputs": [],
   "source": [
    "def ensemble_stat_series(stats,variable,stat,season,option) :\n",
    "    \"\"\" Compute mean or quantile on an ensemble \"\"\"\n",
    "    #\n",
    "    series=stats[variable][stat][season][\"ens\"]\n",
    "    periods=series.keys()\n",
    "    periods.sort()\n",
    "    ret=[]\n",
    "    for p in periods :\n",
    "        if float(p)> max_warming :\n",
    "            #print(\"skipping %g\",float(p))\n",
    "            ret.append(missing_value)\n",
    "            continue\n",
    "        ens=series[p]\n",
    "        if option == \"x\":\n",
    "            ret.append(np.float64(p))  ############################################################### a revoir pour le cas parametric\n",
    "            continue\n",
    "        ####\n",
    "        ens=ens.values()\n",
    "        if option == \"mean\":\n",
    "            ret.append(np.mean(ens))\n",
    "        elif option == \"median\":\n",
    "            ret.append(np.median(ens))\n",
    "        #\n",
    "        elif option in [\"min\",\"max\"] :\n",
    "            l=[ value for value in ens ]\n",
    "            l.sort()\n",
    "            if option==\"min\"     : ret.append(np.float64(l[0]))\n",
    "            if option==\"max\"     : ret.append(np.float64(l[-1]))\n",
    "        #\n",
    "        elif option in [\"nq5\",\"nq95\",\"nq17\",\"nq83\" ] : #percentiles with gaussian hypothesis\n",
    "            mean=np.mean(ens)\n",
    "            std1=np.std(ens,ddof=1)\n",
    "            if option == \"nq5\"   : ret.append(mean - 1.645*std1)\n",
    "            if option == \"nq95\"  : ret.append(mean + 1.645*std1)\n",
    "            if option == \"nq17\"   : ret.append(mean - 0.954*std1)\n",
    "            if option == \"nq83\"   : ret.append(mean + 0.954*std1)\n",
    "        #\n",
    "        else:\n",
    "            raise ValueError(\"Time to use some library for stats (%s) !\"%option)\n",
    "    #print( \"\\ntime series for %s %s %s %s\"%(variable,stat,season,option), ret)\n",
    "    return(ret)"
   ]
  },
  {
   "cell_type": "code",
   "execution_count": null,
   "metadata": {},
   "outputs": [],
   "source": [
    "def filter_on_scenarios_models_warming(stats,scenarios,excluded_models,warming):\n",
    "    \"\"\"\n",
    "    In dict stats, keep only those results for a list of scenarios, not produced \n",
    "    by some models, and reaching a given warming level\n",
    "    Also returns the list of models reaching the level for all variables\n",
    "    \"\"\"\n",
    "    # First idenitify for each variable which models reach the warming level\n",
    "    # ans store it as a set in next dict\n",
    "    models_by_variable=dict()\n",
    "    for variable in stats :\n",
    "        if variable in [ 'option','ref_period']:continue\n",
    "        if 'mean' not in stats[variable] :\n",
    "            #print(\"no mean for %s\"%variable)\n",
    "            continue\n",
    "        for season in stats[variable]['mean'] :\n",
    "            series=stats[variable]['mean'][season][\"ens\"]\n",
    "            #\n",
    "            # Get list of models_scenarios reaching the warming level\n",
    "            periods=list(series.keys())\n",
    "            periods.sort()\n",
    "            models=None\n",
    "            for p in periods :\n",
    "                if float(p) >= warming and models is None : \n",
    "                    all_mod_scens=list(series[p].keys())\n",
    "                    models=set([ mod_scen.split(\"_\")[0] for mod_scen in all_mod_scens ])\n",
    "            if models is None : models=set()\n",
    "            models_by_variable[variable]=models\n",
    "            #print( \"\\n\",variable,stat,season,\"%d models reaching %g : \"%(len(models),warming) , sorted(list(models)))\n",
    "            #\n",
    "\n",
    "    # Intersects those sets across variables\n",
    "    models=None\n",
    "    for variable in list(models_by_variable.keys()):\n",
    "        if models is None :\n",
    "            models=models_by_variable[variable]\n",
    "        else :\n",
    "            models=models.intersection(models_by_variable[variable])\n",
    "    models=list(models)\n",
    "    \n",
    "    # Withdraw excluded wished models\n",
    "    models = [ m for m in models if m not in excluded_models ]\n",
    "    models.sort()\n",
    "    #print( \"\\n\",\"all_variables\",stat,season,\"%d models reaching %g : \"%(len(models),warming) , models)\n",
    "    \n",
    "    # filter the list of models in each 'leaf' entry of dict stats\n",
    "    # i.e. each period in stats[variable][stat][season][\"ens\"]\n",
    "    for variable in stats :\n",
    "        if variable in [ 'option','ref_period']:continue\n",
    "        for stat in stats[variable] :\n",
    "            if stat not in ['mean',\"std\"]: continue\n",
    "            for season in stats[variable][stat] :\n",
    "                print(\"filtering on\",variable,stat,season)\n",
    "                series=stats[variable][stat][season][\"ens\"]\n",
    "                #\n",
    "                # Get list of models_scenarios reaching the warming level\n",
    "                periods=list(series.keys())\n",
    "                periods.sort()\n",
    "                for p in periods :\n",
    "                    values_dict=series[p]\n",
    "                    filtered_dict=dict()\n",
    "                    keys=list(values_dict.keys())\n",
    "                    for mod_scen in keys :\n",
    "                        mod=mod_scen.split(\"_\")[0]\n",
    "                        if mod in models :\n",
    "                                # Keep only ensemble entries which are relevant for the scenarios list\n",
    "                                if scenarios is None :\n",
    "                                    filtered_dict[mod_scen]=values_dict[mod_scen]\n",
    "                                else:\n",
    "                                    for scenario in scenarios :\n",
    "                                        if \"_\"+scenario in mod_scen :\n",
    "                                            filtered_dict[mod_scen]=values_dict[mod_scen]\n",
    "                    series[p]=filtered_dict\n",
    "    return models"
   ]
  },
  {
   "cell_type": "code",
   "execution_count": null,
   "metadata": {
    "scrolled": false
   },
   "outputs": [],
   "source": [
    "fn=\"%s/stats_CMIP6_%s%s.json\"%(input_dir,data_versions_tag,input_version)\n",
    "print(fn)\n",
    "with open (fn,\"r\") as f :\n",
    "    stats=json.load(f)\n",
    "#print(stats.keys())\n",
    "ref_period=stats[\"ref_period\"]\n",
    "missing_value=1.e+20\n",
    "scenarios=[\"ssp585\"]\n",
    "#scenarios=None\n",
    "models=filter_on_scenarios_models_warming(stats,scenarios,excluded_models,max_warming)\n",
    "print(len(models),models)\n",
    "\n",
    "# stat[variable][time_statistics][season_region][ensemble_statistics][warming_level]\n",
    "\n",
    "for var in list(stats.keys()) :\n",
    "    if type(stats[var]) is not dict :\n",
    "        stats.pop(var)\n",
    "    else :\n",
    "        for time_stat in list(stats[var].keys()) :\n",
    "            if time_stat not in [\"mean\",\"std\"] :\n",
    "                stats[var].pop(time_stat)\n",
    "            else :\n",
    "                for season in stats[var][time_stat] :\n",
    "                    for estat in list(stats[var][time_stat][season].keys()):\n",
    "                        if estat not in [\"mean\",\"nq5\",\"nq95\",\"ens\"]:\n",
    "                            stats[var][time_stat][season].pop(estat)\n",
    "                        else: \n",
    "                            if estat == \"ens\" : continue\n",
    "                            # Recompute stat on filtered dic\n",
    "                            values=ensemble_stat_series(stats,var,time_stat,season,estat)\n",
    "                            thekeys=ensemble_stat_series(stats,var,time_stat,season,\"x\")\n",
    "                            stats[var][time_stat][season][estat]={ k:v for (k,v) in zip(thekeys,values)}\n",
    "                    for estat in [ \"nq17\",\"nq83\"]:\n",
    "                        values=ensemble_stat_series(stats,var,time_stat,season,estat)\n",
    "                        thekeys=ensemble_stat_series(stats,var,time_stat,season,\"x\")\n",
    "                        stats[var][time_stat][season][estat]={ k:v for (k,v) in zip(thekeys,values)}\n",
    "            \n",
    "#stats=stats['ssp585']"
   ]
  },
  {
   "cell_type": "code",
   "execution_count": null,
   "metadata": {},
   "outputs": [],
   "source": [
    "filen=\"%s/%s_%s%s.json\"%(outdir,\"Hydro_vars_change\",data_versions_tag,output_version)\n",
    "! mkdir -p {outdir}\n",
    "with open(filen,\"w\") as f :\n",
    "    json.dump(stats,f,separators=(',', ': '),indent=1,ensure_ascii=True)\n",
    "print(\"File written\",filen)"
   ]
  },
  {
   "cell_type": "code",
   "execution_count": null,
   "metadata": {},
   "outputs": [],
   "source": [
    "all_metadata=\"\"\n",
    "for variable in stats.keys():\n",
    "    if variable not  in [ var for var,stat in variables ] : continue\n",
    "    metadata=stats[variable][\"metadata\"]\n",
    "    for scenario in metadata :\n",
    "        for model in metadata[scenario] :\n",
    "            if model in models and model not in excluded_models :\n",
    "                string = metadata[scenario][model]\n",
    "                string.replace(\"\\n\",\" %s\\n\"%panel)\n",
    "                all_metadata += string\n",
    "with open(\"%s_md.txt\"%(filen),\"w\") as f: f.write(all_metadata)"
   ]
  },
  {
   "cell_type": "code",
   "execution_count": null,
   "metadata": {},
   "outputs": [],
   "source": []
  }
 ],
 "metadata": {
  "kernelspec": {
   "display_name": "Python 2",
   "language": "python",
   "name": "python2"
  },
  "language_info": {
   "codemirror_mode": {
    "name": "ipython",
    "version": 2
   },
   "file_extension": ".py",
   "mimetype": "text/x-python",
   "name": "python",
   "nbconvert_exporter": "python",
   "pygments_lexer": "ipython2",
   "version": "2.7.15"
  }
 },
 "nbformat": 4,
 "nbformat_minor": 2
}
