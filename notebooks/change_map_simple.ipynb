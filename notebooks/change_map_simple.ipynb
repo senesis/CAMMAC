{
 "cells": [
  {
   "cell_type": "markdown",
   "metadata": {
    "deletable": true,
    "editable": true
   },
   "source": [
    "# CAMMAC https://cammac.readthedocs.io\n",
    "\n",
    "# Build a figure showing long-term change for 1 variable and one SSP\n",
    "\n",
    "## S.Sénési for Météo-France - sept 2019 to march 2021\n",
    "\n",
    "### A few commands below are specific to the Notebook environment, and can be safely commented out"
   ]
  },
  {
   "cell_type": "code",
   "execution_count": null,
   "metadata": {
    "collapsed": true,
    "deletable": true,
    "editable": true
   },
   "outputs": [],
   "source": [
    "from __future__ import print_function"
   ]
  },
  {
   "cell_type": "markdown",
   "metadata": {
    "deletable": true,
    "editable": true
   },
   "source": [
    "### If using a notebook, use wide display"
   ]
  },
  {
   "cell_type": "code",
   "execution_count": null,
   "metadata": {
    "collapsed": true,
    "deletable": true,
    "editable": true
   },
   "outputs": [],
   "source": [
    "from IPython.core.display import display, HTML, Image\n",
    "display(HTML(\"<style>.container { width:100% !important; }</style>\"))"
   ]
  },
  {
   "cell_type": "markdown",
   "metadata": {
    "deletable": true,
    "editable": true
   },
   "source": [
    "## Default settings (some may be overriden by Papermill - this would show in next cell in the execution output notebook)"
   ]
  },
  {
   "cell_type": "code",
   "execution_count": null,
   "metadata": {
    "collapsed": true,
    "deletable": true,
    "editable": true,
    "tags": [
     "parameter",
     "parameters"
    ]
   },
   "outputs": [],
   "source": [
    "import os\n",
    "figure_filename      = None # if set, will supersede the automatic one\n",
    "# Version number will be a suffix for automatic figure filename. Use e.g. \"_V1\" for legibility\n",
    "version              = \"\"\n",
    "manual_title         = None  # If set, will replace automatic title \n",
    "metadata_file_prefix = \"Fig_simple\"\n",
    "\n",
    "project             = \"CMIP6\"\n",
    "#See doc for data_versions in sibling directory data_versions\n",
    "data_versions_tag   = \"20201210_derived\"\n",
    "data_versions_dir   = os.getenv(\"CAMMAC\")+\"/data\"\n",
    "excluded_models     = []\n",
    "included_models     = None   # If this is a list, only listed models will be used\n",
    "#included_models     = [\"CNRM-CM6-1\",\"IPSL-CM6A-LR\"]\n",
    "variability_excluded_models= []\n",
    "variability_models        = None\n",
    "\n",
    "\n",
    "#\n",
    "variable            = \"pr\"\n",
    "#threshold           = 0.1/(24*3600) # 0.1 mm/day, in SI\n",
    "threshold           = None\n",
    "table               = \"Amon\"\n",
    "derivation          = \"plain\"\n",
    "variable_label      = \"Precipitation\"\n",
    "#\n",
    "experiment          = \"ssp585\"\n",
    "proj_period         = \"2081-2100\"\n",
    "#\n",
    "ref_experiment      = \"historical\"\n",
    "ref_period          = \"1995-2014\" \n",
    "#\n",
    "season              = \"DJF\"        \n",
    "field_type          = \"means_rchange\" \n",
    "print_statistics    = True   \n",
    "\n",
    "# A set of predefined intervals adequate for % change\n",
    "col100 = {\"colors\":\"-100 -75 -50 -25 -10   0   10 25 50 75 100 \"}\n",
    "col40  = {\"colors\":\" -40 -30 -20 -10 -5    0    5 10 20 30  40 \"}\n",
    "col20  = {\"colors\":\" -20 -15 -10  -5 -2.5  0  2.5  5 10 15  20 \"}\n",
    "col10  = {\"colors\":\" -10  -8  -6  -4 -2    0    2  4  6  8  10\"}\n",
    "\n",
    "do_plot             = True\n",
    "scheme              = \"AR6\"\n",
    "confidence_factor   = 1.645  # For AR6 comprehensive scheme : Multiplicative factor applied to control run \n",
    "                              # variability for deciding a change is significant (besides sqrt(2))\n",
    "sign_threshold      = 0.66   # For AR6 simple scheme : threshold on cross-model change sign agreeement fraction\n",
    "\n",
    "plot_args           = {\"min\":-50.,\"max\":50., \"delta\": 10.}\n",
    "labelbar            = True\n",
    "\n",
    "# If pre-computed fields for this SSP, season and projection_period are available, should we use it ?\n",
    "# Set it to False for recomputing and printing fields and field changes statistics\n",
    "# No problem if set to True and pre-computed fields does not exist\n",
    "use_cached_proj_fields = False\n",
    "drop_old_figures       = False\n",
    "# Next can be {} to deactivate variability computation\n",
    "variab_sampling_args= {\"shift\":100,\"nyears\":20,\"number\":20,\"detrend\":True,\"house_keeping\":False,\"compute\":True,}\n",
    "#variab_sampling_args= {}\n",
    "#\n",
    "#\n",
    "outdir              = \"./figures\"\n",
    "cache_dir           = \"./cache\"\n",
    "figure_details      = {\"page_width\":2450,\"page_height\":3444,\"pt\":48, \"ybox\":133,\"y\":52,\"insert_width\":2400}\n",
    "common_grid         = \"r360x180\"\n",
    "\n",
    "\n",
    "# If some basic fields are to be plotted for each model (one figure per field_type, one panel per model):\n",
    "#   - should we restrict the plotted models to a given list (None means : plot all)\n",
    "plot_only              = None\n",
    "#   - which fields should be actually plotted\n",
    "field_types_to_plot_for_all_models    = [ \"reference\" , \"projection\", \"change\", \"rchange\", \"schange\", \"variability\" ]\n",
    "#   - with which common plot_parameters\n",
    "custom_plot_all_fields = { \"proj\" : \"Robinson\", \"mpCenterLonF\" : 0., \"options\" : \"lbBoxEndCapStyle=TriangleBothEnds\" }#, \"focus\":\"land\"}\n",
    "#   - should we use specific settings for page layout \n",
    "figure_details_all_models = None\n",
    "#   - which range should be used\n",
    "ranges = {}   # The baseline value !\n",
    "ranges={ \n",
    "#    \"reference\" :  { \"min\" : 0., \"max\" : 3000. , \"delta\" : 200. } ,\n",
    "#    \"projection\" : { \"min\" : 0., \"max\" : 3000. , \"delta\" : 200. } ,\n",
    "#   \"change\"     : { \"min\" :1000.,\"max\":-1000. , \"delta\":200.} , \n",
    "   \"rchange\"    : { \"min\" : 0., \"max\" : 1000. , \"delta\" : 100. ,\"units\" : \"%\" }#, \"color\":\"AR6_Precip_12\"} ,\n",
    "#   \"schange\"    : { \"colors\": \"-5 -2 -1 -0.5 -0.25 0. 0.25 0.5 1 2 5\"  , \"units\":\"-\", \"color\":\"AR6_Precip_12\" } , \n",
    "#   \"variability\": { \"min\" : 0., \"max\" : 1. , \"delta\" : 0.1 } ,\n",
    "    }\n",
    "\n",
    "# We can also plot for some 'selected' models, a single-model figure with one panel per field type \n",
    "models_to_plot = []\n",
    "#models_to_plot = [ \"CNRM-CM6-1\"]\n",
    "field_types_to_plot_for_selected_models = []  #e.g. [\"rchange\"]\n",
    "\n",
    "# And a selection of field types in one panel per model\n",
    "field_types_for_multi_types_plot = [ ]\n",
    "models_for_multi_types_plot      = [ ]\n",
    "\n",
    "\n",
    "do_test=True\n",
    "\n",
    "# Expert CliMAF tuning  :\n",
    "own_cache            = False\n",
    "one_cache_per_process= False\n",
    "cache_root           = None\n",
    "raz                  = False\n",
    "dig                  = False\n"
   ]
  },
  {
   "cell_type": "code",
   "execution_count": null,
   "metadata": {
    "collapsed": true,
    "deletable": true,
    "editable": true
   },
   "outputs": [],
   "source": [
    "\n",
    "if do_test:\n",
    "    #included_models     = [\"CNRM-CM6-1\", \"IPSL-CM6-1\",\"BCC-ESM1\",\"CESM2-WACCM\",\"CanESM5\"]\n",
    "    #included_models     = [\"CNRM-CM6-1\"]\n",
    "    #included_models     = [\"EC-Earth3\" ]\n",
    "    #variability_models        = included_models\n",
    "    #variability_excluded_models= []\n",
    "    #proj_period         = \"2081\"\n",
    "    #ref_period          = \"2014\" \n",
    "    #plot_args           = {\"min\":-50.,\"max\":50., \"\"delta\"\": 10., \"options\": \"gsnRightStringFontHeightF=2.\"}\n",
    "    experiment           = \"ssp370\"\n",
    "    scheme               = \"AR6\"\n",
    "    season               = \"ANN\"\n",
    "    #use_cached_proj_fields = False\n",
    "    #variab_sampling_args= {}\n",
    "    variab_sampling_args= {\"house_keeping\":False,\"compute\":True,\"detrend\":True,\"shift\":0,\"nyears\":20,\"number\":10}\n",
    "    #field_types_to_plot_for_all_models = []\n",
    "    own_cache            = False\n",
    "    one_cache_per_process= False\n",
    "    raz                  = False\n",
    "    dig                  = False\n",
    "    print_statistics=True\n",
    "    #models_for_multi_types_plot      = [ \"CNRM-CM6-1\"]\n",
    "    #field_types_for_multi_types_plot = [ \"reference\", \"projection\", \"change_orig\" , \"rchange_orig\"]\n",
    "    ranges = {\n",
    "      \"reference\"   : { \"scale\" : 24*3600 , \"units\" : \"mm/d\", \"min\" : 0 , \"max\" : 10 , \"delta\" : 0.5 },\n",
    "      \"projection\"  : { \"scale\" : 24*3600 , \"units\" : \"mm/d\", \"min\" : 0 , \"max\" : 10 , \"delta\" : 0.5 },\n",
    "      \"change\"      : { \"scale\" : 24*3600 , \"units\" : \"mm/d\", \"min\" : -10 , \"max\" : 10 , \"delta\" : 1 },\n",
    "      \"change_orig\" : { \"scale\" : 24*3600 , \"units\" : \"mm/d\", \"min\" : -10 , \"max\" : 10 , \"delta\" : 1 },\n",
    "      \"rchange\"     : { \"min\" : -100. , \"max\" : 100., \"delta\" : 10. },\n",
    "      \"rchange_orig\": { \"min\" : -100. , \"max\" : 100., \"delta\" : 10. },\n",
    "      \"variability\" : { \"scale\" : 24*3600 , \"units\" : \"mm/d\", \"min\" : 0 , \"max\" : 1 , \"delta\" : 0.05 },\n",
    "    }\n",
    "\n"
   ]
  },
  {
   "cell_type": "code",
   "execution_count": null,
   "metadata": {
    "collapsed": true,
    "deletable": true,
    "editable": true
   },
   "outputs": [],
   "source": [
    "if (len(field_types_to_plot_for_all_models) > 0 or len(field_types_to_plot_for_selected_models) > 0) and use_cached_proj_fields :\n",
    "    raise ValueError(\"Must set use_cached_proj_fields to False for plotting individual models \")"
   ]
  },
  {
   "cell_type": "markdown",
   "metadata": {
    "deletable": true,
    "editable": true
   },
   "source": [
    "## Loading libraries"
   ]
  },
  {
   "cell_type": "code",
   "execution_count": null,
   "metadata": {
    "collapsed": true,
    "deletable": true,
    "editable": true
   },
   "outputs": [],
   "source": [
    "import sys, os, os.path, time, resource\n",
    "\n",
    "# Climaf setup (version >= 1.2.13 - see https://climaf.readthedocs.io)\n",
    "if own_cache or one_cache_per_process:\n",
    "    if cache_root is None :\n",
    "        cache_root=os.getcwd()\n",
    "    cache_dir=cache_root+\"/tmp_climaf_cache\"\n",
    "    if one_cache_per_process :\n",
    "        cache_dir += \"_%d\"%os.getpid()\n",
    "    os.environ[\"CLIMAF_CACHE\"]=cache_dir\n",
    "from climaf.api import *\n",
    "if own_cache or one_cache_per_process:\n",
    "    climaf.cache.currentCache=cache_dir\n",
    "\n",
    "# Climaf settings\n",
    "if raz and (own_cache or one_cache_per_process): \n",
    "    craz()\n",
    "climaf.cache.stamping             = False\n",
    "climaf.driver.dig_hard_into_cache = dig\n",
    "\n",
    "from CAMMAClib.changes     import change_figure_with_caching\n",
    "from CAMMAClib.ancillary   import prettier_label, create_labelbar\n",
    "from CAMMAClib.mips_et_al  import TSU_metadata, read_versions_dictionnary\n",
    "# Load some user settings, if available\n",
    "settings_file=os.getenv(\"CAMMAC_USER_PYTHON_CODE_DIR\",\".\")+'/cammac_user_settings.py'\n",
    "if os.path.exists(settings_file) :\n",
    "    exec(compile(open(settings_file).read(),settings_file,'exec'))"
   ]
  },
  {
   "cell_type": "code",
   "execution_count": null,
   "metadata": {
    "collapsed": true,
    "deletable": true,
    "editable": true
   },
   "outputs": [],
   "source": [
    "if not os.path.exists(outdir):    os.makedirs(outdir)"
   ]
  },
  {
   "cell_type": "code",
   "execution_count": null,
   "metadata": {
    "collapsed": true,
    "deletable": true,
    "editable": true
   },
   "outputs": [],
   "source": [
    "do_check=False\n",
    "if do_check :\n",
    "    base_dict=dict(project=\"CMIP6\", experiment=\"historical\",\n",
    "                        model=\"CNRM-CM6-1\", institute=\"CNRM-CERFACS\",\n",
    "                        period=\"1995-2014\", variable=\"pr\", table=\"Amon\", \n",
    "                        version=\"latest\", grid=\"*\",realization=\"r1i1p1f2\")\n",
    "    r=ccdo_fast(ds(**base_dict),operator=\"timmean -selseason,%s -seasmean\"%season)\n",
    "    #Image(cfile(plot(r)))\n",
    "    #\n",
    "    thresh=0.0001/(24*3600)\n",
    "    s=ccdo_fast(r,operator=\"setrtomiss,-%g,%g\"%(thresh,thresh))\n",
    "    Image(cfile(plot(s)))\n"
   ]
  },
  {
   "cell_type": "markdown",
   "metadata": {
    "deletable": true,
    "editable": true
   },
   "source": [
    "## Next function combines global variables and its own arguments for calling change_figure_with_caching"
   ]
  },
  {
   "cell_type": "code",
   "execution_count": null,
   "metadata": {
    "collapsed": true,
    "deletable": true,
    "editable": true
   },
   "outputs": [],
   "source": [
    "def afigure(variable, title, panel,deep=None,same=True,scheme=scheme):\n",
    "\n",
    "    global metadata\n",
    "    print(included_models)\n",
    "    fig_file,fig,dic,variab_models,models = change_figure_with_caching(\n",
    "        project = project, \n",
    "        ref_period = ref_period, proj_period = proj_period, \n",
    "        variable = variable, table = table, ref_experiment = ref_experiment,\n",
    "        experiment = experiment, season = season,\n",
    "        derivation_label = derivation, \n",
    "        field_type = field_type,\n",
    "        title = title, \n",
    "        custom_plot = plot_args, labelbar = labelbar, \n",
    "        data_versions_tag = data_versions_tag, data_versions_dir = data_versions_dir,\n",
    "        excluded_models = excluded_models,models=included_models,\n",
    "        outdir = outdir, drop=drop_old_figures,\n",
    "        #\n",
    "        common_grid = common_grid, \n",
    "        variab_sampling_args = variab_sampling_args,\n",
    "        variability_models=variability_models, variability_excluded_models=variability_excluded_models,\n",
    "        cache_dir = cache_dir, read = use_cached_proj_fields, write = True, \n",
    "        print_statistics =  print_statistics, deep = deep,  \n",
    "        same_models_for_variability_and_changes=same,threshold=threshold,\n",
    "        scheme=scheme,\n",
    "        change_sign_agree_threshold = sign_threshold\n",
    "        )\n",
    "    metadata += TSU_metadata([ref_experiment,experiment],models,       variable,table,data_versions,panel,project)\n",
    "    metadata += TSU_metadata([\"piControl\"],              variab_models,variable,table,data_versions,panel,project)\n",
    "    return fig,dic"
   ]
  },
  {
   "cell_type": "code",
   "execution_count": null,
   "metadata": {
    "collapsed": true,
    "deletable": true,
    "editable": true
   },
   "outputs": [],
   "source": [
    "def mem() :\n",
    "    return \"%d Mo\"%int(resource.getrusage(resource.RUSAGE_SELF).ru_maxrss/1024)\n",
    "\n",
    "def timer(step=\"init\"):\n",
    "    global previous\n",
    "    now=time.time()\n",
    "    if step=='init' :\n",
    "        print(\"At %s : %s\"%(step,mem()))\n",
    "    else :\n",
    "        print(\"At %s : %d s, %s\"%(step,now-previous,mem()))\n",
    "    previous=now "
   ]
  },
  {
   "cell_type": "markdown",
   "metadata": {
    "deletable": true,
    "editable": true
   },
   "source": [
    "## Compute figure"
   ]
  },
  {
   "cell_type": "code",
   "execution_count": null,
   "metadata": {
    "collapsed": true,
    "deletable": true,
    "editable": true,
    "scrolled": false
   },
   "outputs": [],
   "source": [
    "data_versions=read_versions_dictionnary(data_versions_tag, data_versions_dir)\n",
    "metadata=\"\"\n",
    "\n",
    "if manual_title is None :\n",
    "    title=\"Change for %s %s and %s (%s vs %s)\"%(variable,prettier_label.get(experiment,experiment),season,proj_period,ref_period)\n",
    "else:\n",
    "    title=manual_title\n",
    "clog('info')\n",
    "timer('init')\n",
    "clog('error')\n",
    "fig,dic=afigure(variable, title,\"\",same=False,scheme=scheme)\n",
    "#print(dic)\n",
    "timer(\"fig\")"
   ]
  },
  {
   "cell_type": "code",
   "execution_count": null,
   "metadata": {
    "collapsed": true,
    "deletable": true,
    "editable": true
   },
   "outputs": [],
   "source": [
    "#ncview(dic['ssp585']['DJF']['projection']['plain']['EC-Earth3'])"
   ]
  },
  {
   "cell_type": "markdown",
   "metadata": {
    "deletable": true,
    "editable": true
   },
   "source": [
    "## Write figure and metadata"
   ]
  },
  {
   "cell_type": "code",
   "execution_count": null,
   "metadata": {
    "collapsed": true,
    "deletable": true,
    "editable": true
   },
   "outputs": [],
   "source": [
    "with open(\"%s/%s_md.txt\"%(outdir,metadata_file_prefix),\"w\") as f:\n",
    "    f.write(metadata)\n",
    "\n",
    "if figure_filename is None :\n",
    "    outfile=\"%s/change_map_%s_%s_%s_%s_%s_%s%s.png\"%(outdir,variable,derivation,field_type,experiment,proj_period,data_versions_tag,version)\n",
    "else :\n",
    "    outfile=\"%s_%s.png\"%(figure_filename,data_versions_tag)\n",
    "\n",
    "#craz()\n",
    "if do_plot :\n",
    "    cdrop(fig)\n",
    "    cfile(fig,outfile)\n",
    "    timer(\"apres\")\n",
    "    print((\"Figure available : %s\"%outfile))\n",
    "    os.system(\"convert -geometry 50%% %s %s\"%(outfile,outfile.replace(\".png\",\".small.png\")))\n",
    "#print cfile(cpage([[fig]],title=\"try\"))"
   ]
  },
  {
   "cell_type": "code",
   "execution_count": null,
   "metadata": {
    "collapsed": true,
    "deletable": true,
    "editable": true
   },
   "outputs": [],
   "source": [
    "if do_plot :\n",
    "    # Call utility function for extracting labelbar and adding fill pattern for shadings\n",
    "    create_labelbar(outfile, \"./insert.png\")\n",
    "    figure_title=\"Just for testing new legend\"\n",
    "    # Create multi-panel figure\n",
    "    page=cpage([[fig]],title=figure_title, insert=\"./insert.png\", **figure_details)\n",
    "    cdrop(page)\n",
    "    #\n",
    "    outfile2=outfile.replace(\".png\",\".page.png\")\n",
    "    cfile(page,outdir+\"/\"+outfile2)\n"
   ]
  },
  {
   "cell_type": "markdown",
   "metadata": {
    "deletable": true,
    "editable": true
   },
   "source": [
    "## If using a notebook , display result"
   ]
  },
  {
   "cell_type": "code",
   "execution_count": null,
   "metadata": {
    "collapsed": true,
    "deletable": true,
    "editable": true,
    "scrolled": false
   },
   "outputs": [],
   "source": [
    "#Image(outfile,width=800)"
   ]
  },
  {
   "cell_type": "markdown",
   "metadata": {
    "deletable": true,
    "editable": true
   },
   "source": [
    "## Ploting a field type for all models - iterate on some field types"
   ]
  },
  {
   "cell_type": "code",
   "execution_count": null,
   "metadata": {
    "collapsed": true,
    "deletable": true,
    "editable": true
   },
   "outputs": [],
   "source": [
    "if figure_details_all_models is None :\n",
    "    figure_details_all_models=figure_details"
   ]
  },
  {
   "cell_type": "code",
   "execution_count": null,
   "metadata": {
    "collapsed": true,
    "deletable": true,
    "editable": true
   },
   "outputs": [],
   "source": [
    "for field_type in field_types_to_plot_for_all_models :\n",
    "    #\n",
    "    if field_type in dic[experiment][season]:\n",
    "        plotargs=custom_plot_all_fields.copy()\n",
    "        plotargs.update(ranges.get(field_type,{}))\n",
    "        #if \"_orig\" in field_type :\n",
    "        plotargs.update(options=\"cnFillMode=CellFill\")\n",
    "        #\n",
    "        if plot_only is not None :\n",
    "            ens=cens()\n",
    "            for model in plot_only :\n",
    "                if model in dic[experiment][season][field_type][derivation] :\n",
    "                    ens[model]=dic[experiment][season][field_type][derivation][model]\n",
    "        else:\n",
    "            ens=cens(dic[experiment][season][field_type][derivation])\n",
    "        allplots=plot(ens,**plotargs)\n",
    "        page=cpage(allplots,title=\"%s_%s_%s_%s_%s\"%(variable,derivation,field_type,experiment,season),**figure_details_all_models)\n",
    "        pagename=\"%s/all_models_%s_%s_%s_%s_%s_%s.png\"%(outdir,variable,derivation,field_type,experiment,season,data_versions_tag)\n",
    "        cfile(page,pagename)\n",
    "        "
   ]
  },
  {
   "cell_type": "markdown",
   "metadata": {
    "deletable": true,
    "editable": true
   },
   "source": [
    "## Ploting all field types for a model - iterate on some models"
   ]
  },
  {
   "cell_type": "code",
   "execution_count": null,
   "metadata": {
    "collapsed": true,
    "deletable": true,
    "editable": true
   },
   "outputs": [],
   "source": [
    "#clog(\"debug\")\n",
    "for model in models_for_multi_types_plot :\n",
    "    #\n",
    "    ens=cens()\n",
    "    for field_type in field_types_for_multi_types_plot :\n",
    "        if field_type in dic[experiment][season] :\n",
    "            plotargs=custom_plot_all_fields.copy()\n",
    "            plotargs.update(ranges.get(field_type,{}))\n",
    "            \n",
    "            plotargs.update(options=\"cnFillMode=CellFill\")\n",
    "            #\n",
    "            if model in dic[experiment][season][field_type][derivation] :\n",
    "                field=dic[experiment][season][field_type][derivation][model]\n",
    "                ens[field_type]=plot(field,title=field_type,**plotargs)\n",
    "                print(\"%s plotted for %s\"%(field_type,model))\n",
    "    #\n",
    "    page=cpage(ens,title=\"%s_%s_%s_%s_%s\"%(model,variable,derivation,experiment,season),**figure_details_all_models)\n",
    "    pagename=\"%s/all_fields_%s_%s_%s_%s_%s_%s.png\"%(outdir,model,variable,derivation,experiment,season,data_versions_tag)\n",
    "    cfile(page,pagename)\n",
    "#Image(cfile(ens[model]))\n",
    "        \n"
   ]
  },
  {
   "cell_type": "code",
   "execution_count": null,
   "metadata": {
    "collapsed": true,
    "deletable": true,
    "editable": true
   },
   "outputs": [],
   "source": []
  }
 ],
 "metadata": {
  "kernelspec": {
   "display_name": "Python 2",
   "language": "python",
   "name": "python2"
  },
  "language_info": {
   "codemirror_mode": {
    "name": "ipython",
    "version": 2
   },
   "file_extension": ".py",
   "mimetype": "text/x-python",
   "name": "python",
   "nbconvert_exporter": "python",
   "pygments_lexer": "ipython2",
   "version": "2.7.15"
  }
 },
 "nbformat": 4,
 "nbformat_minor": 2
}
