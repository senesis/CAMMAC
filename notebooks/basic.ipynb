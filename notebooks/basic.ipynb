{
 "cells": [
  {
   "cell_type": "code",
   "execution_count": null,
   "metadata": {
    "tags": [
     "parameters"
    ]
   },
   "outputs": [],
   "source": [
    "do_test                = True\n",
    "\n",
    "scheme                 = \"KS\"\n",
    "threshold              = 0.9\n",
    "version                = \"\"     \n",
    "\n",
    "data_versions_tag      = \"20210201_derived\"\n",
    "data_versions_dir      = \"/home/ssenesi/CAMMAC/select_data_versions\"\n",
    "excluded_models        = []\n",
    "included_models        = None\n",
    "\n",
    "variable               = \"mrro\"\n",
    "custom_plot            = {}\n",
    "figure_mask            = None\n",
    "\n",
    "derivation             = \"plain\"\n",
    "season                 = \"DJF\"\n",
    "field_type             = \"means_rchange\"\n",
    "\n",
    "experiment             = \"ssp245\"\n",
    "projection_period      = \"2081-2100\"\n",
    "ref_period             = \"1995-2014\"\n",
    "ref_experiment         = \"historical\"\n",
    "\n",
    "common_grid            = \"r360x180\"\n",
    "outdir                 = \"./figures\"\n",
    "\n",
    "# Location of libraries\n",
    "#######################\n",
    "# Climaf version >= 1.2.13 (see https://climaf.readthedocs.io)\n",
    "climaf_lib            = \"/home/ssenesi/climaf_installs/climaf_running\" \n",
    "# AR6/WGI/chapter8 CliMAF-based package\n",
    "CAMMAC                = \"/home/ssenesi/CAMMAC\"\n",
    "\n",
    "derived_variables_pattern  = \"/data/ssenesi/CMIP6_derived_variables/${variable}\"\n",
    "derived_variables_pattern += \"/${variable}_${table}_${model}_${experiment}_${realization}_${grid}_${version}_${PERIOD}.nc\"\n",
    "derived_variable_table='yr'"
   ]
  },
  {
   "cell_type": "code",
   "execution_count": null,
   "metadata": {},
   "outputs": [],
   "source": [
    "if do_test :\n",
    "    included_models=[\"GFDL-CM4\", \"CNRM-CM6-1\",\"HadGEM3-GC31-LL\"]#,\"HadGEM3-GC31-MM\"] \n",
    "    #models=[\"CNRM-CM6-1\"]"
   ]
  },
  {
   "cell_type": "code",
   "execution_count": null,
   "metadata": {},
   "outputs": [],
   "source": [
    "import sys\n",
    "\n",
    "sys.path=[climaf_lib] + sys.path \n",
    "from climaf.api import *\n",
    "\n",
    "# Climaf settings\n",
    "from climaf.cache import stamping\n",
    "climaf.cache.stamping=False\n",
    "\n",
    "sys.path.append(CAMMAC) \n",
    "from CAMMAClib.figures    import AR6_change_figure\n",
    "from CAMMAClib.ancillary  import feed_dic, choose_regrid_option\n",
    "from CAMMAClib.mips_et_al import read_versions_dictionnary, institute_for_model,models_for_experiments\n",
    "from CAMMAClib.variability import agreement_fraction_on_sign\n",
    "import CAMMAClib.cancillary\n",
    "\n",
    "from IPython.core.display import display, HTML, Image\n",
    "display(HTML(\"<style>.container { width:100% !important; }</style>\"))"
   ]
  },
  {
   "cell_type": "code",
   "execution_count": null,
   "metadata": {},
   "outputs": [],
   "source": [
    "col40={\"colors\":\"-40 -30 -20 -10 -5   0   5   10  20 30 40 \"}\n",
    "col20={\"colors\":\"-20 -15 -10  -5 -2.5 0 2.5    5  10 15 20 \"}\n",
    "col10={\"colors\":\"-10 -8 -6 -4 -2 0 2 4 6 8 10\"}\n",
    "if custom_plot is None : custom_plot=dict()    \n",
    "custom_plot.update(col40)\n",
    "\n",
    "if variable in [ \"mrro\", \"mrso\", \"mrsos\" ] :\n",
    "    table=\"Lmon\"\n",
    "    custom_plot[\"focus\"]=\"land\"\n",
    "    figure_mask = \"/home/ssenesi/CAMMAC/data/mask_hide_antarctic_360x180.nc\"\n",
    "    if variable == \"mrsos\" :\n",
    "        custom_plot.update(col10)\n",
    "elif variable in [ \"drain\", \"dday\" ] :\n",
    "    table=\"yr\"\n",
    "    if season != \"ANN\" :\n",
    "        raise ValueError(\"Cannot ask for dday or drain with a season != ANN\")\n",
    "    custom_plot.update({\"color\":\"AR6_Temp_12\" , \"colors\":\"-20 -15 -10  -5 -2.5 0 2.5    5  10 15 20 \"})\n",
    "elif variable in [ \"sos\" ] :\n",
    "    table=\"Omon\"\n",
    "    custom_plot.update({\"focus\":\"ocean\",\"colors\":\"-2.5 -2. -1.5 -1.0 -0.5 0 0.5 1.0 1.5 2.0 2.5 \",\"color\":\"AR6_MiscDiv_12\"})\n",
    "    excluded_models.append(\"IPSL-CM6A-LR\")\n",
    "else :\n",
    "    table=\"Amon\"\n",
    "    if variable==\"P-E\" :\n",
    "        custom_plot.update({  \"min\"   : -1, \"max\"   : 1 , \"delta\" : 0.2 })\n",
    "        "
   ]
  },
  {
   "cell_type": "code",
   "execution_count": null,
   "metadata": {},
   "outputs": [],
   "source": [
    "calias('CMIP6','evspsbl',scale=-1,\\\n",
    "       conditions={\"model\":[\"CAMS-CSM1-0\",\"EC-Earth3\",\"EC-Earth3-Veg\",\"EC-Earth3-LR\",\"EC-Earth3-Veg-LR\"]})\n",
    "calias('CMIP6','pr',scale=1000.,conditions={\"model\" : \"CIESM\"})\n",
    "calias('CMIP6','mrso',scale=1000.,conditions={\"model\" : \"CIESM\"})\n",
    "calias('CMIP6','mrsos',scale=100.,conditions={\"model\" : \"FGOALS-f3-L\"})\n",
    "\n",
    "# Define P-E\n",
    "derive('CMIP6', 'P-E','minus','pr','evspsbl')\n",
    "\n",
    "# Define location of derived variables if needed (e.g. yearly stats of daily precip)\n",
    "if derived_variables_pattern is not None :\n",
    "    climaf.dataloc.dataloc(project='CMIP6', organization='generic', \n",
    "                           url=derived_variables_pattern, table=derived_variable_table)"
   ]
  },
  {
   "cell_type": "code",
   "execution_count": null,
   "metadata": {},
   "outputs": [],
   "source": [
    "project=\"CMIP6\"\n",
    "data_versions=read_versions_dictionnary(data_versions_tag, data_versions_dir)\n",
    "model_variants=models_for_experiments(data_versions,variable,table,\n",
    "                        [ref_experiment,experiment],excluded_models,included_models)"
   ]
  },
  {
   "cell_type": "markdown",
   "metadata": {},
   "source": [
    "### Compute either yearly seasonal means or seasonal means for all models"
   ]
  },
  {
   "cell_type": "code",
   "execution_count": null,
   "metadata": {},
   "outputs": [],
   "source": [
    "dic=dict()\n",
    "if scheme==\"KS\" :\n",
    "    time_averaging=\"yearavg\"\n",
    "elif scheme==\"AR6S\":\n",
    "    time_averaging=\"timavg\"\n",
    "else :\n",
    "    raise ValueError(\"Unknown scheme \"+scheme)\n",
    "    \n",
    "for model,variant in model_variants :\n",
    "    grid,version,_=data_versions[ref_experiment][variable][table][model][variant]\n",
    "    roption=choose_regrid_option(variable,table,model,grid)\n",
    "    #\n",
    "    base_dict=dict(project=project, experiment=ref_experiment,\n",
    "                        model=model, institute=institute_for_model(model),\n",
    "                        period=ref_period, variable=variable, table=table, \n",
    "                        version=version, grid=grid,\n",
    "                        realization=variant)\n",
    "    #\n",
    "    # Compute yearly seasonal mean over requested season\n",
    "    reference_dict=base_dict.copy()\n",
    "    reference_ds=ds(**reference_dict)\n",
    "    #\n",
    "    seasavg=ccdo(reference_ds,operator=time_averaging+\" -selseason,\"+season)\n",
    "    seasavg=regridn(seasavg,cdogrid=common_grid,**roption)\n",
    "    feed_dic(dic,seasavg,\"reference\",\"seasavg\",model)\n",
    "    cfile(seasavg)\n",
    "    #\n",
    "    projection_dict=reference_dict.copy()\n",
    "    _,version,_=data_versions[experiment][variable][table][model][variant]\n",
    "    projection_dict.update(experiment=experiment,period=projection_period,\n",
    "                        realization=variant,version=version)\n",
    "    projection_ds=ds(**projection_dict)\n",
    "    #\n",
    "    seasavg=ccdo(projection_ds,operator=time_averaging+\" -selseason,\"+season)\n",
    "    seasavg=regridn(seasavg,cdogrid=common_grid,**roption)\n",
    "    feed_dic(dic,seasavg,\"projection\",\"seasavg\",model)\n",
    "    cfile(seasavg)"
   ]
  },
  {
   "cell_type": "markdown",
   "metadata": {},
   "source": [
    "### Compute either Knutti and Sedlacek robustness index or sign fraction agreement, and derive hatching mask accordingly"
   ]
  },
  {
   "cell_type": "code",
   "execution_count": null,
   "metadata": {},
   "outputs": [],
   "source": [
    "refs =cens(dic[\"reference\"] [\"seasavg\"])\n",
    "projs=cens(dic[\"projection\"][\"seasavg\"])\n",
    "\n",
    "if scheme==\"KS\":\n",
    "    k=knutti(refs,projs)\n",
    "    k=ccdo(k,operator=\"smooth9 -setmissval,1.e+20\")\n",
    "    \n",
    "    refs_timavg  = ccdo    (refs,  operator=\"timavg\")\n",
    "    projs_timavg = ccdo    (projs, operator=\"timavg\")\n",
    "    \n",
    "elif scheme==\"AR6S\" :\n",
    "    changes=cens()\n",
    "    for model in refs :\n",
    "        changes[model]=ccdo2(projs[model],refs[model],operator=\"sub\")\n",
    "    k=agreement_fraction_on_sign(changes)\n",
    "\n",
    "    refs_timavg  = refs \n",
    "    projs_timavg = projs \n",
    "\n",
    "hatch_mask=ccdo(k,operator=\"lec,%g\"%threshold)\n",
    "    \n",
    "# Compute relative change on MME mean\n",
    "refs_mean    = ccdo_ens(refs_timavg, operator='ensmean')\n",
    "projs_mean   = ccdo_ens(projs_timavg,operator='ensmean')\n",
    "\n",
    "change  = ccdo2(projs_mean,refs_mean,operator=\"sub\")\n",
    "rchange = ccdo2(change,refs_mean,operator=\"mulc,100 -div\")    \n",
    "\n"
   ]
  },
  {
   "cell_type": "markdown",
   "metadata": {},
   "source": [
    "### Plot relative change hatched with robustness index"
   ]
  },
  {
   "cell_type": "code",
   "execution_count": null,
   "metadata": {},
   "outputs": [],
   "source": [
    "if scheme==\"KS\" :\n",
    "    pattern=\"backslashes\"\n",
    "elif scheme==\"AR6S\" :\n",
    "    pattern=\"slashes\"\n",
    "#\n",
    "name = \"%s %s %s %s %s %g\"%(experiment,variable,season,projection_period,scheme,threshold)\n",
    "#\n",
    "plot = AR6_change_figure(variable, derivation, rchange,shade=True,\n",
    "                mask2=hatch_mask, mask1=\"\",pattern1=\"\",pattern2=pattern,\n",
    "                relative=(\"_rchange\" in field_type), labelbar=\"True\", \n",
    "                title=name, \n",
    "                custom_plot=custom_plot, number=len(model_variants),\n",
    "                mask=figure_mask) \n",
    "name = name.replace(\" \",\"_\")\n",
    "cfile(plot,\"Fig_\"+name+\".png\",ln=True)"
   ]
  }
 ],
 "metadata": {
  "language_info": {
   "name": "python",
   "pygments_lexer": "ipython2"
  },
  "kernelspec": {
   "name": "python2",
   "display_name": "Python 2",
   "language": "python"
  }
 },
 "nbformat": 4,
 "nbformat_minor": 2
}
